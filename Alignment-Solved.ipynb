{
 "cells": [
  {
   "cell_type": "markdown",
   "metadata": {},
   "source": [
    "This is more about *understanding* pandas, \"going with the flow\", than any particular operation. Alignment is a key part of many parts of pandas, including\n",
    "\n",
    "- binary operations (`+, -, *, /, **, ==, |, &`)\n",
    "- merges / joins / concats\n",
    "- constructors\n",
    "- reindexing\n",
    "\n",
    "That said, it's not really something you'll be doing explicitly. It happens in the background, as part of all those tasks.\n",
    "It's all about using *labels* (`DataFrame.index` and `DataFrame.columns`) to do the tricky work of making sure the operation goes through correctly.\n",
    "\n",
    "If you thing you have a handle on this, jump down to the exercise at the end of the notebook."
   ]
  },
  {
   "cell_type": "code",
   "execution_count": 15,
   "metadata": {
    "collapsed": true
   },
   "outputs": [],
   "source": [
    "%matplotlib inline\n",
    "\n",
    "import numpy as np\n",
    "import pandas as pd\n",
    "import seaborn as sns\n",
    "import matplotlib.pyplot as plt\n",
    "from utils import side_by_side\n",
    "from IPython import display\n",
    "\n",
    "pd.options.display.max_rows = 10\n",
    "sns.set(style='white', context='talk')"
   ]
  },
  {
   "cell_type": "markdown",
   "metadata": {},
   "source": [
    "Let's start out doing things the \"wrong\" way. We've got data on GDP (total output each quarter) and CPI (a measure of inflation). Each CSV has a column of dates, and a column for the measurement."
   ]
  },
  {
   "cell_type": "code",
   "execution_count": 30,
   "metadata": {
    "collapsed": false
   },
   "outputs": [],
   "source": [
    "cpi = pd.read_csv(\"data/cpi.csv\", parse_dates=['DATE'])\n",
    "gdp = pd.read_csv(\"data/gdp.csv\", parse_dates=['DATE'])\n"
   ]
  },
  {
   "cell_type": "code",
   "execution_count": 4,
   "metadata": {
    "collapsed": false
   },
   "outputs": [
    {
     "data": {
      "text/html": [
       "<div>\n",
       "<table border=\"1\" class=\"dataframe\">\n",
       "  <thead>\n",
       "    <tr style=\"text-align: right;\">\n",
       "      <th></th>\n",
       "      <th>DATE</th>\n",
       "      <th>CPIAUCSL</th>\n",
       "    </tr>\n",
       "  </thead>\n",
       "  <tbody>\n",
       "    <tr>\n",
       "      <th>0</th>\n",
       "      <td>1947-01-01</td>\n",
       "      <td>21.48</td>\n",
       "    </tr>\n",
       "    <tr>\n",
       "      <th>1</th>\n",
       "      <td>1947-02-01</td>\n",
       "      <td>21.62</td>\n",
       "    </tr>\n",
       "    <tr>\n",
       "      <th>2</th>\n",
       "      <td>1947-03-01</td>\n",
       "      <td>22.00</td>\n",
       "    </tr>\n",
       "    <tr>\n",
       "      <th>3</th>\n",
       "      <td>1947-04-01</td>\n",
       "      <td>22.00</td>\n",
       "    </tr>\n",
       "    <tr>\n",
       "      <th>4</th>\n",
       "      <td>1947-05-01</td>\n",
       "      <td>21.95</td>\n",
       "    </tr>\n",
       "  </tbody>\n",
       "</table>\n",
       "</div>"
      ],
      "text/plain": [
       "        DATE  CPIAUCSL\n",
       "0 1947-01-01     21.48\n",
       "1 1947-02-01     21.62\n",
       "2 1947-03-01     22.00\n",
       "3 1947-04-01     22.00\n",
       "4 1947-05-01     21.95"
      ]
     },
     "execution_count": 4,
     "metadata": {},
     "output_type": "execute_result"
    }
   ],
   "source": [
    "cpi.head()"
   ]
  },
  {
   "cell_type": "code",
   "execution_count": 31,
   "metadata": {
    "collapsed": false
   },
   "outputs": [
    {
     "data": {
      "text/html": [
       "<div>\n",
       "<table border=\"1\" class=\"dataframe\">\n",
       "  <thead>\n",
       "    <tr style=\"text-align: right;\">\n",
       "      <th></th>\n",
       "      <th>DATE</th>\n",
       "      <th>GDP</th>\n",
       "    </tr>\n",
       "  </thead>\n",
       "  <tbody>\n",
       "    <tr>\n",
       "      <th>0</th>\n",
       "      <td>1947-01-01</td>\n",
       "      <td>243.1</td>\n",
       "    </tr>\n",
       "    <tr>\n",
       "      <th>1</th>\n",
       "      <td>1947-04-01</td>\n",
       "      <td>246.3</td>\n",
       "    </tr>\n",
       "    <tr>\n",
       "      <th>2</th>\n",
       "      <td>1947-07-01</td>\n",
       "      <td>250.1</td>\n",
       "    </tr>\n",
       "    <tr>\n",
       "      <th>3</th>\n",
       "      <td>1947-10-01</td>\n",
       "      <td>260.3</td>\n",
       "    </tr>\n",
       "    <tr>\n",
       "      <th>4</th>\n",
       "      <td>1948-01-01</td>\n",
       "      <td>266.2</td>\n",
       "    </tr>\n",
       "  </tbody>\n",
       "</table>\n",
       "</div>"
      ],
      "text/plain": [
       "        DATE    GDP\n",
       "0 1947-01-01  243.1\n",
       "1 1947-04-01  246.3\n",
       "2 1947-07-01  250.1\n",
       "3 1947-10-01  260.3\n",
       "4 1948-01-01  266.2"
      ]
     },
     "execution_count": 31,
     "metadata": {},
     "output_type": "execute_result"
    }
   ],
   "source": [
    "gdp.head()"
   ]
  },
  {
   "cell_type": "markdown",
   "metadata": {},
   "source": [
    "Typically, we would use `DATE` as the index (`index_col='DATE'` in `read_csv`). But to appreciate the value of labels, we'll take them away for now.\n",
    "\n",
    "Real GDP is [defined to be wikipedia](https://en.wikipedia.org/wiki/Real_gross_domestic_product) nominal GDP (which is what our `gdp` DataFrame contains) divided by a measure of the *price index*. Typically you'd use the GDP deflator, but we'll use CPI so that I can make a point later.\n",
    "\n",
    "To calculate real GDP, divide `gdp` by `cpi`. Without meaningful labels, we have to do the alignemnt. We'll find the dates in common between the two series, manually filter to those, and then do the division"
   ]
  },
  {
   "cell_type": "code",
   "execution_count": 32,
   "metadata": {
    "collapsed": false
   },
   "outputs": [
    {
     "data": {
      "text/plain": [
       "0     11.317505\n",
       "3     11.195455\n",
       "6     11.250562\n",
       "9     11.361851\n",
       "12    11.241554\n",
       "Name: CPIAUCSL, dtype: float64"
      ]
     },
     "execution_count": 32,
     "metadata": {},
     "output_type": "execute_result"
    }
   ],
   "source": [
    "# the NumPy Way, find `common` index dates.\n",
    "common = pd.Index(cpi.DATE).intersection(gdp.DATE)\n",
    "rgdp = (gdp.loc[gdp.DATE.isin(common), 'GDP'].values /\n",
    "        cpi.loc[cpi.DATE.isin(common), 'CPIAUCSL'])\n",
    "rgdp.head()"
   ]
  },
  {
   "cell_type": "code",
   "execution_count": 33,
   "metadata": {
    "collapsed": false
   },
   "outputs": [
    {
     "data": {
      "text/plain": [
       "0    11.317505\n",
       "1    11.195455\n",
       "2    11.250562\n",
       "3    11.361851\n",
       "4    11.241554\n",
       "dtype: float64"
      ]
     },
     "execution_count": 33,
     "metadata": {},
     "output_type": "execute_result"
    }
   ],
   "source": [
    "# The R / database way\n",
    "m = pd.merge(gdp, cpi, on=\"DATE\")\n",
    "rgdp = m['GDP'] / m['CPIAUCSL']\n",
    "rgdp.head()"
   ]
  },
  {
   "cell_type": "markdown",
   "metadata": {},
   "source": [
    "The better way: Set the `DATE` column to the index, squeeze down to a series, and use the `/` operator."
   ]
  },
  {
   "cell_type": "code",
   "execution_count": 12,
   "metadata": {
    "collapsed": false
   },
   "outputs": [
    {
     "data": {
      "text/html": [
       "\n",
       "    <div class=\"table-responsive col-md-6\">\n",
       "        <style  type=\"text/css\" >\n",
       "        \n",
       "        \n",
       "        </style>\n",
       "\n",
       "        <table id=\"T_3c3b9eec_93c2_11e6_b297_a45e60bd97fb\" style=\"display: float; max-width:50%\" class=\"table\">\n",
       "        \n",
       "\n",
       "        <thead>\n",
       "            \n",
       "            <tr>\n",
       "                \n",
       "                \n",
       "                <th class=\"blank level0\" >\n",
       "                  \n",
       "                \n",
       "                \n",
       "                \n",
       "                <th class=\"col_heading level0 col0\" colspan=1>\n",
       "                  GDP\n",
       "                \n",
       "                \n",
       "            </tr>\n",
       "            \n",
       "            <tr>\n",
       "                \n",
       "                \n",
       "                <th class=\"index_name level0\" >\n",
       "                  DATE\n",
       "                \n",
       "                \n",
       "                \n",
       "                <th class=\"blank\" >\n",
       "                  \n",
       "                \n",
       "                \n",
       "            </tr>\n",
       "            \n",
       "        </thead>\n",
       "        <tbody>\n",
       "            \n",
       "            <tr>\n",
       "                \n",
       "                \n",
       "                <th id=\"T_3c3b9eec_93c2_11e6_b297_a45e60bd97fb\"\n",
       "                 class=\"row_heading level0 row0\" rowspan=1>\n",
       "                    1947-01-01 00:00:00\n",
       "                \n",
       "                \n",
       "                \n",
       "                <td id=\"T_3c3b9eec_93c2_11e6_b297_a45e60bd97fbrow0_col0\"\n",
       "                 class=\"data row0 col0\" >\n",
       "                    243.1\n",
       "                \n",
       "                \n",
       "            </tr>\n",
       "            \n",
       "            <tr>\n",
       "                \n",
       "                \n",
       "                <th id=\"T_3c3b9eec_93c2_11e6_b297_a45e60bd97fb\"\n",
       "                 class=\"row_heading level0 row1\" rowspan=1>\n",
       "                    1947-04-01 00:00:00\n",
       "                \n",
       "                \n",
       "                \n",
       "                <td id=\"T_3c3b9eec_93c2_11e6_b297_a45e60bd97fbrow1_col0\"\n",
       "                 class=\"data row1 col0\" >\n",
       "                    246.3\n",
       "                \n",
       "                \n",
       "            </tr>\n",
       "            \n",
       "            <tr>\n",
       "                \n",
       "                \n",
       "                <th id=\"T_3c3b9eec_93c2_11e6_b297_a45e60bd97fb\"\n",
       "                 class=\"row_heading level0 row2\" rowspan=1>\n",
       "                    1947-07-01 00:00:00\n",
       "                \n",
       "                \n",
       "                \n",
       "                <td id=\"T_3c3b9eec_93c2_11e6_b297_a45e60bd97fbrow2_col0\"\n",
       "                 class=\"data row2 col0\" >\n",
       "                    250.1\n",
       "                \n",
       "                \n",
       "            </tr>\n",
       "            \n",
       "            <tr>\n",
       "                \n",
       "                \n",
       "                <th id=\"T_3c3b9eec_93c2_11e6_b297_a45e60bd97fb\"\n",
       "                 class=\"row_heading level0 row3\" rowspan=1>\n",
       "                    1947-10-01 00:00:00\n",
       "                \n",
       "                \n",
       "                \n",
       "                <td id=\"T_3c3b9eec_93c2_11e6_b297_a45e60bd97fbrow3_col0\"\n",
       "                 class=\"data row3 col0\" >\n",
       "                    260.3\n",
       "                \n",
       "                \n",
       "            </tr>\n",
       "            \n",
       "            <tr>\n",
       "                \n",
       "                \n",
       "                <th id=\"T_3c3b9eec_93c2_11e6_b297_a45e60bd97fb\"\n",
       "                 class=\"row_heading level0 row4\" rowspan=1>\n",
       "                    1948-01-01 00:00:00\n",
       "                \n",
       "                \n",
       "                \n",
       "                <td id=\"T_3c3b9eec_93c2_11e6_b297_a45e60bd97fbrow4_col0\"\n",
       "                 class=\"data row4 col0\" >\n",
       "                    266.2\n",
       "                \n",
       "                \n",
       "            </tr>\n",
       "            \n",
       "        </tbody>\n",
       "        </table>\n",
       "        </div>\n",
       "    <div class=\"table-responsive col-md-6\">\n",
       "        <style  type=\"text/css\" >\n",
       "        \n",
       "        \n",
       "        </style>\n",
       "\n",
       "        <table id=\"T_3c3d25a8_93c2_11e6_a8fd_a45e60bd97fb\" style=\"display: float; max-width:50%\" class=\"table\">\n",
       "        \n",
       "\n",
       "        <thead>\n",
       "            \n",
       "            <tr>\n",
       "                \n",
       "                \n",
       "                <th class=\"blank level0\" >\n",
       "                  \n",
       "                \n",
       "                \n",
       "                \n",
       "                <th class=\"col_heading level0 col0\" colspan=1>\n",
       "                  cpi\n",
       "                \n",
       "                \n",
       "            </tr>\n",
       "            \n",
       "            <tr>\n",
       "                \n",
       "                \n",
       "                <th class=\"index_name level0\" >\n",
       "                  DATE\n",
       "                \n",
       "                \n",
       "                \n",
       "                <th class=\"blank\" >\n",
       "                  \n",
       "                \n",
       "                \n",
       "            </tr>\n",
       "            \n",
       "        </thead>\n",
       "        <tbody>\n",
       "            \n",
       "            <tr>\n",
       "                \n",
       "                \n",
       "                <th id=\"T_3c3d25a8_93c2_11e6_a8fd_a45e60bd97fb\"\n",
       "                 class=\"row_heading level0 row0\" rowspan=1>\n",
       "                    1947-01-01 00:00:00\n",
       "                \n",
       "                \n",
       "                \n",
       "                <td id=\"T_3c3d25a8_93c2_11e6_a8fd_a45e60bd97fbrow0_col0\"\n",
       "                 class=\"data row0 col0\" >\n",
       "                    21.48\n",
       "                \n",
       "                \n",
       "            </tr>\n",
       "            \n",
       "            <tr>\n",
       "                \n",
       "                \n",
       "                <th id=\"T_3c3d25a8_93c2_11e6_a8fd_a45e60bd97fb\"\n",
       "                 class=\"row_heading level0 row1\" rowspan=1>\n",
       "                    1947-02-01 00:00:00\n",
       "                \n",
       "                \n",
       "                \n",
       "                <td id=\"T_3c3d25a8_93c2_11e6_a8fd_a45e60bd97fbrow1_col0\"\n",
       "                 class=\"data row1 col0\" >\n",
       "                    21.62\n",
       "                \n",
       "                \n",
       "            </tr>\n",
       "            \n",
       "            <tr>\n",
       "                \n",
       "                \n",
       "                <th id=\"T_3c3d25a8_93c2_11e6_a8fd_a45e60bd97fb\"\n",
       "                 class=\"row_heading level0 row2\" rowspan=1>\n",
       "                    1947-03-01 00:00:00\n",
       "                \n",
       "                \n",
       "                \n",
       "                <td id=\"T_3c3d25a8_93c2_11e6_a8fd_a45e60bd97fbrow2_col0\"\n",
       "                 class=\"data row2 col0\" >\n",
       "                    22\n",
       "                \n",
       "                \n",
       "            </tr>\n",
       "            \n",
       "            <tr>\n",
       "                \n",
       "                \n",
       "                <th id=\"T_3c3d25a8_93c2_11e6_a8fd_a45e60bd97fb\"\n",
       "                 class=\"row_heading level0 row3\" rowspan=1>\n",
       "                    1947-04-01 00:00:00\n",
       "                \n",
       "                \n",
       "                \n",
       "                <td id=\"T_3c3d25a8_93c2_11e6_a8fd_a45e60bd97fbrow3_col0\"\n",
       "                 class=\"data row3 col0\" >\n",
       "                    22\n",
       "                \n",
       "                \n",
       "            </tr>\n",
       "            \n",
       "            <tr>\n",
       "                \n",
       "                \n",
       "                <th id=\"T_3c3d25a8_93c2_11e6_a8fd_a45e60bd97fb\"\n",
       "                 class=\"row_heading level0 row4\" rowspan=1>\n",
       "                    1947-05-01 00:00:00\n",
       "                \n",
       "                \n",
       "                \n",
       "                <td id=\"T_3c3d25a8_93c2_11e6_a8fd_a45e60bd97fbrow4_col0\"\n",
       "                 class=\"data row4 col0\" >\n",
       "                    21.95\n",
       "                \n",
       "                \n",
       "            </tr>\n",
       "            \n",
       "        </tbody>\n",
       "        </table>\n",
       "        </div>\n",
       "    "
      ],
      "text/plain": [
       "<IPython.core.display.HTML object>"
      ]
     },
     "execution_count": 12,
     "metadata": {},
     "output_type": "execute_result"
    }
   ],
   "source": [
    "# %load solutions/alignment_02.py\n",
    "gdp = gdp.set_index(\"DATE\").squeeze()\n",
    "cpi = cpi.set_index(\"DATE\").squeeze().rename(\"cpi\")\n",
    "side_by_side(gdp.head(), cpi.head())\n"
   ]
  },
  {
   "cell_type": "markdown",
   "metadata": {},
   "source": [
    "Now when you do the division, pandas will handle the alignemnt."
   ]
  },
  {
   "cell_type": "code",
   "execution_count": 16,
   "metadata": {
    "collapsed": false
   },
   "outputs": [
    {
     "data": {
      "image/png": "[encoded data removed]",
      "text/plain": [
       "<matplotlib.figure.Figure at 0x1124276a0>"
      ]
     },
     "metadata": {},
     "output_type": "display_data"
    }
   ],
   "source": [
    "(gdp / cpi).dropna().plot()\n",
    "sns.despine();"
   ]
  },
  {
   "cell_type": "markdown",
   "metadata": {},
   "source": [
    "Why the `.dropna`? Let's dig into the auto-alignment a bit."
   ]
  },
  {
   "cell_type": "code",
   "execution_count": 17,
   "metadata": {
    "collapsed": false
   },
   "outputs": [
    {
     "data": {
      "text/html": [
       "\n",
       "    <div class=\"table-responsive col-md-6\">\n",
       "        <style  type=\"text/css\" >\n",
       "        \n",
       "        \n",
       "        </style>\n",
       "\n",
       "        <table id=\"T_5a8f3e30_93c2_11e6_8fb3_a45e60bd97fb\" style=\"display: float; max-width:50%\" class=\"table\">\n",
       "        \n",
       "\n",
       "        <thead>\n",
       "            \n",
       "            <tr>\n",
       "                \n",
       "                \n",
       "                <th class=\"blank level0\" >\n",
       "                  \n",
       "                \n",
       "                \n",
       "                \n",
       "                <th class=\"col_heading level0 col0\" colspan=1>\n",
       "                  GDP\n",
       "                \n",
       "                \n",
       "            </tr>\n",
       "            \n",
       "            <tr>\n",
       "                \n",
       "                \n",
       "                <th class=\"index_name level0\" >\n",
       "                  DATE\n",
       "                \n",
       "                \n",
       "                \n",
       "                <th class=\"blank\" >\n",
       "                  \n",
       "                \n",
       "                \n",
       "            </tr>\n",
       "            \n",
       "        </thead>\n",
       "        <tbody>\n",
       "            \n",
       "            <tr>\n",
       "                \n",
       "                \n",
       "                <th id=\"T_5a8f3e30_93c2_11e6_8fb3_a45e60bd97fb\"\n",
       "                 class=\"row_heading level0 row0\" rowspan=1>\n",
       "                    1947-01-01 00:00:00\n",
       "                \n",
       "                \n",
       "                \n",
       "                <td id=\"T_5a8f3e30_93c2_11e6_8fb3_a45e60bd97fbrow0_col0\"\n",
       "                 class=\"data row0 col0\" >\n",
       "                    243.1\n",
       "                \n",
       "                \n",
       "            </tr>\n",
       "            \n",
       "            <tr>\n",
       "                \n",
       "                \n",
       "                <th id=\"T_5a8f3e30_93c2_11e6_8fb3_a45e60bd97fb\"\n",
       "                 class=\"row_heading level0 row1\" rowspan=1>\n",
       "                    1947-02-01 00:00:00\n",
       "                \n",
       "                \n",
       "                \n",
       "                <td id=\"T_5a8f3e30_93c2_11e6_8fb3_a45e60bd97fbrow1_col0\"\n",
       "                 class=\"data row1 col0\" >\n",
       "                    nan\n",
       "                \n",
       "                \n",
       "            </tr>\n",
       "            \n",
       "            <tr>\n",
       "                \n",
       "                \n",
       "                <th id=\"T_5a8f3e30_93c2_11e6_8fb3_a45e60bd97fb\"\n",
       "                 class=\"row_heading level0 row2\" rowspan=1>\n",
       "                    1947-03-01 00:00:00\n",
       "                \n",
       "                \n",
       "                \n",
       "                <td id=\"T_5a8f3e30_93c2_11e6_8fb3_a45e60bd97fbrow2_col0\"\n",
       "                 class=\"data row2 col0\" >\n",
       "                    nan\n",
       "                \n",
       "                \n",
       "            </tr>\n",
       "            \n",
       "            <tr>\n",
       "                \n",
       "                \n",
       "                <th id=\"T_5a8f3e30_93c2_11e6_8fb3_a45e60bd97fb\"\n",
       "                 class=\"row_heading level0 row3\" rowspan=1>\n",
       "                    1947-04-01 00:00:00\n",
       "                \n",
       "                \n",
       "                \n",
       "                <td id=\"T_5a8f3e30_93c2_11e6_8fb3_a45e60bd97fbrow3_col0\"\n",
       "                 class=\"data row3 col0\" >\n",
       "                    246.3\n",
       "                \n",
       "                \n",
       "            </tr>\n",
       "            \n",
       "            <tr>\n",
       "                \n",
       "                \n",
       "                <th id=\"T_5a8f3e30_93c2_11e6_8fb3_a45e60bd97fb\"\n",
       "                 class=\"row_heading level0 row4\" rowspan=1>\n",
       "                    1947-05-01 00:00:00\n",
       "                \n",
       "                \n",
       "                \n",
       "                <td id=\"T_5a8f3e30_93c2_11e6_8fb3_a45e60bd97fbrow4_col0\"\n",
       "                 class=\"data row4 col0\" >\n",
       "                    nan\n",
       "                \n",
       "                \n",
       "            </tr>\n",
       "            \n",
       "        </tbody>\n",
       "        </table>\n",
       "        </div>\n",
       "    <div class=\"table-responsive col-md-6\">\n",
       "        <style  type=\"text/css\" >\n",
       "        \n",
       "        \n",
       "        </style>\n",
       "\n",
       "        <table id=\"T_5a8f8d88_93c2_11e6_b866_a45e60bd97fb\" style=\"display: float; max-width:50%\" class=\"table\">\n",
       "        \n",
       "\n",
       "        <thead>\n",
       "            \n",
       "            <tr>\n",
       "                \n",
       "                \n",
       "                <th class=\"blank level0\" >\n",
       "                  \n",
       "                \n",
       "                \n",
       "                \n",
       "                <th class=\"col_heading level0 col0\" colspan=1>\n",
       "                  cpi\n",
       "                \n",
       "                \n",
       "            </tr>\n",
       "            \n",
       "            <tr>\n",
       "                \n",
       "                \n",
       "                <th class=\"index_name level0\" >\n",
       "                  DATE\n",
       "                \n",
       "                \n",
       "                \n",
       "                <th class=\"blank\" >\n",
       "                  \n",
       "                \n",
       "                \n",
       "            </tr>\n",
       "            \n",
       "        </thead>\n",
       "        <tbody>\n",
       "            \n",
       "            <tr>\n",
       "                \n",
       "                \n",
       "                <th id=\"T_5a8f8d88_93c2_11e6_b866_a45e60bd97fb\"\n",
       "                 class=\"row_heading level0 row0\" rowspan=1>\n",
       "                    1947-01-01 00:00:00\n",
       "                \n",
       "                \n",
       "                \n",
       "                <td id=\"T_5a8f8d88_93c2_11e6_b866_a45e60bd97fbrow0_col0\"\n",
       "                 class=\"data row0 col0\" >\n",
       "                    21.48\n",
       "                \n",
       "                \n",
       "            </tr>\n",
       "            \n",
       "            <tr>\n",
       "                \n",
       "                \n",
       "                <th id=\"T_5a8f8d88_93c2_11e6_b866_a45e60bd97fb\"\n",
       "                 class=\"row_heading level0 row1\" rowspan=1>\n",
       "                    1947-02-01 00:00:00\n",
       "                \n",
       "                \n",
       "                \n",
       "                <td id=\"T_5a8f8d88_93c2_11e6_b866_a45e60bd97fbrow1_col0\"\n",
       "                 class=\"data row1 col0\" >\n",
       "                    21.62\n",
       "                \n",
       "                \n",
       "            </tr>\n",
       "            \n",
       "            <tr>\n",
       "                \n",
       "                \n",
       "                <th id=\"T_5a8f8d88_93c2_11e6_b866_a45e60bd97fb\"\n",
       "                 class=\"row_heading level0 row2\" rowspan=1>\n",
       "                    1947-03-01 00:00:00\n",
       "                \n",
       "                \n",
       "                \n",
       "                <td id=\"T_5a8f8d88_93c2_11e6_b866_a45e60bd97fbrow2_col0\"\n",
       "                 class=\"data row2 col0\" >\n",
       "                    22\n",
       "                \n",
       "                \n",
       "            </tr>\n",
       "            \n",
       "            <tr>\n",
       "                \n",
       "                \n",
       "                <th id=\"T_5a8f8d88_93c2_11e6_b866_a45e60bd97fb\"\n",
       "                 class=\"row_heading level0 row3\" rowspan=1>\n",
       "                    1947-04-01 00:00:00\n",
       "                \n",
       "                \n",
       "                \n",
       "                <td id=\"T_5a8f8d88_93c2_11e6_b866_a45e60bd97fbrow3_col0\"\n",
       "                 class=\"data row3 col0\" >\n",
       "                    22\n",
       "                \n",
       "                \n",
       "            </tr>\n",
       "            \n",
       "            <tr>\n",
       "                \n",
       "                \n",
       "                <th id=\"T_5a8f8d88_93c2_11e6_b866_a45e60bd97fb\"\n",
       "                 class=\"row_heading level0 row4\" rowspan=1>\n",
       "                    1947-05-01 00:00:00\n",
       "                \n",
       "                \n",
       "                \n",
       "                <td id=\"T_5a8f8d88_93c2_11e6_b866_a45e60bd97fbrow4_col0\"\n",
       "                 class=\"data row4 col0\" >\n",
       "                    21.95\n",
       "                \n",
       "                \n",
       "            </tr>\n",
       "            \n",
       "        </tbody>\n",
       "        </table>\n",
       "        </div>\n",
       "    "
      ],
      "text/plain": [
       "<IPython.core.display.HTML object>"
      ]
     },
     "execution_count": 17,
     "metadata": {},
     "output_type": "execute_result"
    }
   ],
   "source": [
    "l, r = gdp.align(cpi)\n",
    "side_by_side(l.head(), r.head())"
   ]
  },
  {
   "cell_type": "markdown",
   "metadata": {},
   "source": [
    "`.align` will take the *union* (in the set-theory sense) of the two indexes."
   ]
  },
  {
   "cell_type": "code",
   "execution_count": 20,
   "metadata": {
    "collapsed": false
   },
   "outputs": [
    {
     "data": {
      "text/plain": [
       "DatetimeIndex(['1947-01-01', '1947-02-01', '1947-03-01', '1947-04-01',\n",
       "               '1947-05-01', '1947-06-01', '1947-07-01', '1947-08-01',\n",
       "               '1947-09-01', '1947-10-01',\n",
       "               ...\n",
       "               '2014-08-01', '2014-09-01', '2014-10-01', '2014-11-01',\n",
       "               '2014-12-01', '2015-01-01', '2015-02-01', '2015-03-01',\n",
       "               '2015-04-01', '2015-05-01'],\n",
       "              dtype='datetime64[ns]', name='DATE', length=821, freq=None)"
      ]
     },
     "execution_count": 20,
     "metadata": {},
     "output_type": "execute_result"
    }
   ],
   "source": [
    "# Take the set unio\n",
    "idx = gdp.index | cpi.index\n",
    "idx"
   ]
  },
  {
   "cell_type": "markdown",
   "metadata": {},
   "source": [
    "Then the two Series / DataFrames are *reindexed* by the common index.\n",
    "This is what introduces the `NaN`s"
   ]
  },
  {
   "cell_type": "code",
   "execution_count": 21,
   "metadata": {
    "collapsed": false
   },
   "outputs": [
    {
     "data": {
      "text/plain": [
       "DATE\n",
       "1947-01-01    11.317505\n",
       "1947-02-01          NaN\n",
       "1947-03-01          NaN\n",
       "1947-04-01    11.195455\n",
       "1947-05-01          NaN\n",
       "                ...    \n",
       "2015-01-01          NaN\n",
       "2015-02-01          NaN\n",
       "2015-03-01          NaN\n",
       "2015-04-01          NaN\n",
       "2015-05-01          NaN\n",
       "dtype: float64"
      ]
     },
     "execution_count": 21,
     "metadata": {},
     "output_type": "execute_result"
    }
   ],
   "source": [
    "# Reindex both to align, then divide\n",
    "gdp.reindex(idx) / cpi.reindex(idx)"
   ]
  },
  {
   "cell_type": "code",
   "execution_count": 22,
   "metadata": {
    "collapsed": false
   },
   "outputs": [
    {
     "data": {
      "text/plain": [
       "DATE\n",
       "1947-01-01    11.317505\n",
       "1947-04-01    11.195455\n",
       "1947-07-01    11.250562\n",
       "1947-10-01    11.361851\n",
       "1948-01-01    11.241554\n",
       "                ...    \n",
       "2013-01-01    71.124715\n",
       "2013-04-01    71.343420\n",
       "2013-07-01    71.962930\n",
       "2013-10-01    72.711603\n",
       "2014-01-01    72.313495\n",
       "dtype: float64"
      ]
     },
     "execution_count": 22,
     "metadata": {},
     "output_type": "execute_result"
    }
   ],
   "source": [
    "(gdp / cpi).dropna()"
   ]
  },
  {
   "cell_type": "markdown",
   "metadata": {},
   "source": [
    "We also see alignment in action with `pd.concat`:"
   ]
  },
  {
   "cell_type": "code",
   "execution_count": 24,
   "metadata": {
    "collapsed": false
   },
   "outputs": [
    {
     "data": {
      "text/html": [
       "<div>\n",
       "<table border=\"1\" class=\"dataframe\">\n",
       "  <thead>\n",
       "    <tr style=\"text-align: right;\">\n",
       "      <th></th>\n",
       "      <th>GDP</th>\n",
       "      <th>cpi</th>\n",
       "    </tr>\n",
       "    <tr>\n",
       "      <th>DATE</th>\n",
       "      <th></th>\n",
       "      <th></th>\n",
       "    </tr>\n",
       "  </thead>\n",
       "  <tbody>\n",
       "    <tr>\n",
       "      <th>1947-01-01</th>\n",
       "      <td>243.1</td>\n",
       "      <td>21.480</td>\n",
       "    </tr>\n",
       "    <tr>\n",
       "      <th>1947-02-01</th>\n",
       "      <td>NaN</td>\n",
       "      <td>21.620</td>\n",
       "    </tr>\n",
       "    <tr>\n",
       "      <th>1947-03-01</th>\n",
       "      <td>NaN</td>\n",
       "      <td>22.000</td>\n",
       "    </tr>\n",
       "    <tr>\n",
       "      <th>1947-04-01</th>\n",
       "      <td>246.3</td>\n",
       "      <td>22.000</td>\n",
       "    </tr>\n",
       "    <tr>\n",
       "      <th>1947-05-01</th>\n",
       "      <td>NaN</td>\n",
       "      <td>21.950</td>\n",
       "    </tr>\n",
       "    <tr>\n",
       "      <th>...</th>\n",
       "      <td>...</td>\n",
       "      <td>...</td>\n",
       "    </tr>\n",
       "    <tr>\n",
       "      <th>2015-01-01</th>\n",
       "      <td>NaN</td>\n",
       "      <td>234.954</td>\n",
       "    </tr>\n",
       "    <tr>\n",
       "      <th>2015-02-01</th>\n",
       "      <td>NaN</td>\n",
       "      <td>235.415</td>\n",
       "    </tr>\n",
       "    <tr>\n",
       "      <th>2015-03-01</th>\n",
       "      <td>NaN</td>\n",
       "      <td>235.859</td>\n",
       "    </tr>\n",
       "    <tr>\n",
       "      <th>2015-04-01</th>\n",
       "      <td>NaN</td>\n",
       "      <td>236.197</td>\n",
       "    </tr>\n",
       "    <tr>\n",
       "      <th>2015-05-01</th>\n",
       "      <td>NaN</td>\n",
       "      <td>236.876</td>\n",
       "    </tr>\n",
       "  </tbody>\n",
       "</table>\n",
       "<p>821 rows × 2 columns</p>\n",
       "</div>"
      ],
      "text/plain": [
       "              GDP      cpi\n",
       "DATE                      \n",
       "1947-01-01  243.1   21.480\n",
       "1947-02-01    NaN   21.620\n",
       "1947-03-01    NaN   22.000\n",
       "1947-04-01  246.3   22.000\n",
       "1947-05-01    NaN   21.950\n",
       "...           ...      ...\n",
       "2015-01-01    NaN  234.954\n",
       "2015-02-01    NaN  235.415\n",
       "2015-03-01    NaN  235.859\n",
       "2015-04-01    NaN  236.197\n",
       "2015-05-01    NaN  236.876\n",
       "\n",
       "[821 rows x 2 columns]"
      ]
     },
     "execution_count": 24,
     "metadata": {},
     "output_type": "execute_result"
    }
   ],
   "source": [
    "# concat gdp and CPI\n",
    "pd.concat([gdp, cpi], axis=1)"
   ]
  },
  {
   "cell_type": "markdown",
   "metadata": {},
   "source": [
    "And `pd.merge`"
   ]
  },
  {
   "cell_type": "code",
   "execution_count": 26,
   "metadata": {
    "collapsed": false
   },
   "outputs": [
    {
     "data": {
      "text/html": [
       "<div>\n",
       "<table border=\"1\" class=\"dataframe\">\n",
       "  <thead>\n",
       "    <tr style=\"text-align: right;\">\n",
       "      <th></th>\n",
       "      <th>GDP</th>\n",
       "      <th>cpi</th>\n",
       "    </tr>\n",
       "    <tr>\n",
       "      <th>DATE</th>\n",
       "      <th></th>\n",
       "      <th></th>\n",
       "    </tr>\n",
       "  </thead>\n",
       "  <tbody>\n",
       "    <tr>\n",
       "      <th>1947-01-01</th>\n",
       "      <td>243.1</td>\n",
       "      <td>21.480</td>\n",
       "    </tr>\n",
       "    <tr>\n",
       "      <th>1947-02-01</th>\n",
       "      <td>NaN</td>\n",
       "      <td>21.620</td>\n",
       "    </tr>\n",
       "    <tr>\n",
       "      <th>1947-03-01</th>\n",
       "      <td>NaN</td>\n",
       "      <td>22.000</td>\n",
       "    </tr>\n",
       "    <tr>\n",
       "      <th>1947-04-01</th>\n",
       "      <td>246.3</td>\n",
       "      <td>22.000</td>\n",
       "    </tr>\n",
       "    <tr>\n",
       "      <th>1947-05-01</th>\n",
       "      <td>NaN</td>\n",
       "      <td>21.950</td>\n",
       "    </tr>\n",
       "    <tr>\n",
       "      <th>...</th>\n",
       "      <td>...</td>\n",
       "      <td>...</td>\n",
       "    </tr>\n",
       "    <tr>\n",
       "      <th>2015-01-01</th>\n",
       "      <td>NaN</td>\n",
       "      <td>234.954</td>\n",
       "    </tr>\n",
       "    <tr>\n",
       "      <th>2015-02-01</th>\n",
       "      <td>NaN</td>\n",
       "      <td>235.415</td>\n",
       "    </tr>\n",
       "    <tr>\n",
       "      <th>2015-03-01</th>\n",
       "      <td>NaN</td>\n",
       "      <td>235.859</td>\n",
       "    </tr>\n",
       "    <tr>\n",
       "      <th>2015-04-01</th>\n",
       "      <td>NaN</td>\n",
       "      <td>236.197</td>\n",
       "    </tr>\n",
       "    <tr>\n",
       "      <th>2015-05-01</th>\n",
       "      <td>NaN</td>\n",
       "      <td>236.876</td>\n",
       "    </tr>\n",
       "  </tbody>\n",
       "</table>\n",
       "<p>821 rows × 2 columns</p>\n",
       "</div>"
      ],
      "text/plain": [
       "              GDP      cpi\n",
       "DATE                      \n",
       "1947-01-01  243.1   21.480\n",
       "1947-02-01    NaN   21.620\n",
       "1947-03-01    NaN   22.000\n",
       "1947-04-01  246.3   22.000\n",
       "1947-05-01    NaN   21.950\n",
       "...           ...      ...\n",
       "2015-01-01    NaN  234.954\n",
       "2015-02-01    NaN  235.415\n",
       "2015-03-01    NaN  235.859\n",
       "2015-04-01    NaN  236.197\n",
       "2015-05-01    NaN  236.876\n",
       "\n",
       "[821 rows x 2 columns]"
      ]
     },
     "execution_count": 26,
     "metadata": {},
     "output_type": "execute_result"
    }
   ],
   "source": [
    "# Merge DataFrames with left_index & right_index\n",
    "pd.merge(gdp.to_frame(), cpi.to_frame(), left_index=True, right_index=True,\n",
    "         how='outer')"
   ]
  },
  {
   "cell_type": "markdown",
   "metadata": {
    "collapsed": true
   },
   "source": [
    "## Exercise: JOLTS"
   ]
  },
  {
   "cell_type": "markdown",
   "metadata": {},
   "source": [
    "During the housing bubble and financial crisis, [CalculatedRisk](http://www.calculatedriskblog.com) was one of the best places for information on the internet. Let's reproduce one of his charts:"
   ]
  },
  {
   "cell_type": "code",
   "execution_count": 40,
   "metadata": {
    "collapsed": false
   },
   "outputs": [
    {
     "data": {
      "text/html": [
       "<img src=\"http://1.bp.blogspot.com/-Q60opady2iQ/VNoeGepLMWI/AAAAAAAAiQc/PCA1LfFJFCg/s1600/JOLTSDec2014.PNG\"/>"
      ],
      "text/plain": [
       "<IPython.core.display.Image object>"
      ]
     },
     "execution_count": 40,
     "metadata": {},
     "output_type": "execute_result"
    }
   ],
   "source": [
    "display.Image(url='http://1.bp.blogspot.com/-Q60opady2iQ/VNoeGepLMWI/AAAAAAAAiQc/PCA1LfFJFCg/s1600/JOLTSDec2014.PNG')"
   ]
  },
  {
   "cell_type": "markdown",
   "metadata": {},
   "source": [
    "This shows the components of turnover in the labor market. People leave jobs for two reasons:\n",
    "\n",
    "1. Quits (light blue) or\n",
    "2. Layoffs, discharges, or other (red).\n",
    "\n",
    "Companies post job openings (yellow) and fill some number of those (Blue).\n",
    "The difference between the openings and hires represents the change in the stock of open positions, and measures the slackness of the labor market.\n",
    "The difference between the Hires and the sum of Quites and Layoffs / Discharges represents the change in the employed labor force (though the unemployment rate is calculated differently).\n",
    "\n",
    "To get you started, the FRED series codes are\n",
    "\n",
    "- JTSJOL: Openings\n",
    "- JTSQUL: Quits\n",
    "- JTSHIL: Hires\n",
    "- JTSLDL: Layoffs\n",
    "\n",
    "Use the `pandas_datareader.data.DataReader` class, which accepts a list of symbols, and a data_source (`'fred'`).\n",
    "As a hint, you can use pandas' `.plot.area()` method for the Quits and Layoffs series. That handles all the stacking for you."
   ]
  },
  {
   "cell_type": "code",
   "execution_count": 27,
   "metadata": {
    "collapsed": true
   },
   "outputs": [],
   "source": [
    "from pandas_datareader.data import DataReader\n",
    "\n",
    "series = ['JTSJOL', 'JTSQUL', 'JTSHIL', 'JTSLDL']\n",
    "names = ['openings', 'quits', 'hires', 'layoffs']\n",
    "\n",
    "colors = {'quits': '#52b5ea', 'layoffs': '#d32c2c',\n",
    "          'hires': '#2531db', 'openings': '#fffb49'}\n",
    "\n",
    "area_colors = [colors['quits'], colors['layoffs']]\n",
    "line_colors = [colors['hires'], colors['openings']]"
   ]
  },
  {
   "cell_type": "code",
   "execution_count": 29,
   "metadata": {
    "collapsed": false
   },
   "outputs": [
    {
     "data": {
      "image/png": "[encoded data removed]",
      "text/plain": [
       "<matplotlib.figure.Figure at 0x10cb5c940>"
      ]
     },
     "metadata": {},
     "output_type": "display_data"
    }
   ],
   "source": [
    "# %load solutions/alignment_03.py\n",
    "res = DataReader(series, start='2000-01-01', data_source=\"fred\")\n",
    "res = res.rename(columns=dict(zip(series, names)))\n",
    "\n",
    "fig, ax = plt.subplots(figsize=(12, 8))\n",
    "res[['quits', 'layoffs']].plot.area(\n",
    "    color=area_colors, ax=ax)\n",
    "res[['hires', 'openings']].plot(\n",
    "    ax=ax, color=line_colors, linewidth=3);"
   ]
  },
  {
   "cell_type": "markdown",
   "metadata": {},
   "source": [
    "If you finish that, feel free to poke around [FRED](https://fred.stlouisfed.org) for more interesting series."
   ]
  },
  {
   "cell_type": "markdown",
   "metadata": {},
   "source": [
    "## Summary\n",
    "\n",
    "Use alignment to make things easier on yourself.\n",
    "Highlights one of the biggest difference between NumPy and pandas.\n",
    "With NumPy, it was up to *you* to align things *by position*.\n",
    "If you're deep in the middle of a complicated filtering and grouping\n",
    "operation, you have to hope you haven't messed anything up. You could\n",
    "easily end up in a situation where the output looks sensible, but has\n",
    "been misaligned.\n",
    "\n",
    "Pandas handles the alignment for you."
   ]
  }
 ],
 "metadata": {
  "kernelspec": {
   "display_name": "Python 3",
   "language": "python",
   "name": "python3"
  },
  "language_info": {
   "codemirror_mode": {
    "name": "ipython",
    "version": 3
   },
   "file_extension": ".py",
   "mimetype": "text/x-python",
   "name": "python",
   "nbconvert_exporter": "python",
   "pygments_lexer": "ipython3",
   "version": "3.5.2"
  }
 },
 "nbformat": 4,
 "nbformat_minor": 0
}
