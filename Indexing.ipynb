{
 "cells": [
  {
   "cell_type": "markdown",
   "metadata": {},
   "source": [
    "# Indexing"
   ]
  },
  {
   "cell_type": "code",
   "execution_count": 9,
   "metadata": {
    "collapsed": false
   },
   "outputs": [],
   "source": [
    "%matplotlib inline\n",
    "\n",
    "import numpy as np\n",
    "import pandas as pd\n",
    "import seaborn as sns\n",
    "import matplotlib.pyplot as plt\n",
    "\n",
    "from utils import join_date_time\n",
    "\n",
    "pd.options.display.max_rows = 10\n",
    "pd.options.display.float_format = '{:,.2f}'.format"
   ]
  },
  {
   "cell_type": "markdown",
   "metadata": {},
   "source": [
    "For this section we'll work with the flights dataset."
   ]
  },
  {
   "cell_type": "code",
   "execution_count": 10,
   "metadata": {
    "collapsed": false
   },
   "outputs": [
    {
     "data": {
      "text/html": [
       "<div>\n",
       "<table border=\"1\" class=\"dataframe\">\n",
       "  <thead>\n",
       "    <tr style=\"text-align: right;\">\n",
       "      <th></th>\n",
       "      <th>fl_date</th>\n",
       "      <th>unique_carrier</th>\n",
       "      <th>airline_id</th>\n",
       "      <th>tail_num</th>\n",
       "      <th>fl_num</th>\n",
       "      <th>origin</th>\n",
       "      <th>dest</th>\n",
       "      <th>dep_time</th>\n",
       "      <th>dep_delay</th>\n",
       "      <th>arr_time</th>\n",
       "      <th>arr_delay</th>\n",
       "      <th>cancelled</th>\n",
       "      <th>arr</th>\n",
       "      <th>dep</th>\n",
       "    </tr>\n",
       "  </thead>\n",
       "  <tbody>\n",
       "    <tr>\n",
       "      <th>0</th>\n",
       "      <td>2014-01-01</td>\n",
       "      <td>AA</td>\n",
       "      <td>19805</td>\n",
       "      <td>N338AA</td>\n",
       "      <td>1</td>\n",
       "      <td>JFK</td>\n",
       "      <td>LAX</td>\n",
       "      <td>914.00</td>\n",
       "      <td>14.00</td>\n",
       "      <td>1,238.00</td>\n",
       "      <td>13.00</td>\n",
       "      <td>0.00</td>\n",
       "      <td>2014-01-01 12:38:00</td>\n",
       "      <td>2014-01-01 09:14:00</td>\n",
       "    </tr>\n",
       "    <tr>\n",
       "      <th>1</th>\n",
       "      <td>2014-01-01</td>\n",
       "      <td>AA</td>\n",
       "      <td>19805</td>\n",
       "      <td>N339AA</td>\n",
       "      <td>2</td>\n",
       "      <td>LAX</td>\n",
       "      <td>JFK</td>\n",
       "      <td>1,132.00</td>\n",
       "      <td>122.00</td>\n",
       "      <td>1,951.00</td>\n",
       "      <td>111.00</td>\n",
       "      <td>0.00</td>\n",
       "      <td>2014-01-01 19:51:00</td>\n",
       "      <td>2014-01-01 11:32:00</td>\n",
       "    </tr>\n",
       "    <tr>\n",
       "      <th>2</th>\n",
       "      <td>2014-01-01</td>\n",
       "      <td>AA</td>\n",
       "      <td>19805</td>\n",
       "      <td>N335AA</td>\n",
       "      <td>3</td>\n",
       "      <td>JFK</td>\n",
       "      <td>LAX</td>\n",
       "      <td>1,157.00</td>\n",
       "      <td>-3.00</td>\n",
       "      <td>1,523.00</td>\n",
       "      <td>13.00</td>\n",
       "      <td>0.00</td>\n",
       "      <td>2014-01-01 15:23:00</td>\n",
       "      <td>2014-01-01 11:57:00</td>\n",
       "    </tr>\n",
       "    <tr>\n",
       "      <th>3</th>\n",
       "      <td>2014-01-01</td>\n",
       "      <td>AA</td>\n",
       "      <td>19805</td>\n",
       "      <td>N367AA</td>\n",
       "      <td>5</td>\n",
       "      <td>DFW</td>\n",
       "      <td>HNL</td>\n",
       "      <td>1,307.00</td>\n",
       "      <td>2.00</td>\n",
       "      <td>1,746.00</td>\n",
       "      <td>1.00</td>\n",
       "      <td>0.00</td>\n",
       "      <td>2014-01-01 17:46:00</td>\n",
       "      <td>2014-01-01 13:07:00</td>\n",
       "    </tr>\n",
       "    <tr>\n",
       "      <th>4</th>\n",
       "      <td>2014-01-01</td>\n",
       "      <td>AA</td>\n",
       "      <td>19805</td>\n",
       "      <td>N364AA</td>\n",
       "      <td>6</td>\n",
       "      <td>OGG</td>\n",
       "      <td>DFW</td>\n",
       "      <td>1,753.00</td>\n",
       "      <td>-2.00</td>\n",
       "      <td>452.00</td>\n",
       "      <td>-8.00</td>\n",
       "      <td>0.00</td>\n",
       "      <td>2014-01-01 04:52:00</td>\n",
       "      <td>2014-01-01 17:53:00</td>\n",
       "    </tr>\n",
       "  </tbody>\n",
       "</table>\n",
       "</div>"
      ],
      "text/plain": [
       "     fl_date unique_carrier  airline_id tail_num  fl_num origin dest  \\\n",
       "0 2014-01-01             AA       19805   N338AA       1    JFK  LAX   \n",
       "1 2014-01-01             AA       19805   N339AA       2    LAX  JFK   \n",
       "2 2014-01-01             AA       19805   N335AA       3    JFK  LAX   \n",
       "3 2014-01-01             AA       19805   N367AA       5    DFW  HNL   \n",
       "4 2014-01-01             AA       19805   N364AA       6    OGG  DFW   \n",
       "\n",
       "   dep_time  dep_delay  arr_time  arr_delay  cancelled                 arr  \\\n",
       "0    914.00      14.00  1,238.00      13.00       0.00 2014-01-01 12:38:00   \n",
       "1  1,132.00     122.00  1,951.00     111.00       0.00 2014-01-01 19:51:00   \n",
       "2  1,157.00      -3.00  1,523.00      13.00       0.00 2014-01-01 15:23:00   \n",
       "3  1,307.00       2.00  1,746.00       1.00       0.00 2014-01-01 17:46:00   \n",
       "4  1,753.00      -2.00    452.00      -8.00       0.00 2014-01-01 04:52:00   \n",
       "\n",
       "                  dep  \n",
       "0 2014-01-01 09:14:00  \n",
       "1 2014-01-01 11:32:00  \n",
       "2 2014-01-01 11:57:00  \n",
       "3 2014-01-01 13:07:00  \n",
       "4 2014-01-01 17:53:00  "
      ]
     },
     "execution_count": 10,
     "metadata": {},
     "output_type": "execute_result"
    }
   ],
   "source": [
    "columns = [\n",
    "    'FL_DATE', 'UNIQUE_CARRIER', 'AIRLINE_ID',\n",
    "    'TAIL_NUM', 'FL_NUM', 'ORIGIN', 'DEST',\n",
    "    'DEP_TIME', 'DEP_DELAY', 'ARR_TIME',\n",
    "    'ARR_DELAY', 'CANCELLED'\n",
    "]\n",
    "\n",
    "flights = (pd.read_csv(\"data/flights.csv.zip\",\n",
    "                       parse_dates=[\"FL_DATE\"],\n",
    "                       usecols=columns)\n",
    "             .rename(columns=str.lower)\n",
    "             .pipe(join_date_time))\n",
    "\n",
    "flights.head()"
   ]
  },
  {
   "cell_type": "code",
   "execution_count": 11,
   "metadata": {
    "collapsed": false
   },
   "outputs": [
    {
     "name": "stdout",
     "output_type": "stream",
     "text": [
      "<class 'pandas.core.frame.DataFrame'>\n",
      "RangeIndex: 471949 entries, 0 to 471948\n",
      "Data columns (total 14 columns):\n",
      "fl_date           471949 non-null datetime64[ns]\n",
      "unique_carrier    471949 non-null object\n",
      "airline_id        471949 non-null int64\n",
      "tail_num          467903 non-null object\n",
      "fl_num            471949 non-null int64\n",
      "origin            471949 non-null object\n",
      "dest              471949 non-null object\n",
      "dep_time          441622 non-null float64\n",
      "dep_delay         441622 non-null float64\n",
      "arr_time          440453 non-null float64\n",
      "arr_delay         439620 non-null float64\n",
      "cancelled         471949 non-null float64\n",
      "arr               440453 non-null datetime64[ns]\n",
      "dep               441622 non-null datetime64[ns]\n",
      "dtypes: datetime64[ns](3), float64(5), int64(2), object(4)\n",
      "memory usage: 50.4+ MB\n"
     ]
    }
   ],
   "source": [
    "flights.info()"
   ]
  },
  {
   "cell_type": "markdown",
   "metadata": {},
   "source": [
    "It covers January 2014. Each record has information about a single flight including the carrier, tail number, origin, destination, and delays.\n",
    "\n",
    "To get a bit of intuition about the data we're working with, let's to a brief bit of exploratory analysis:"
   ]
  },
  {
   "cell_type": "code",
   "execution_count": 12,
   "metadata": {
    "collapsed": false
   },
   "outputs": [
    {
     "data": {
      "image/png": "[encoded data removed]",
      "text/plain": [
       "<matplotlib.figure.Figure at 0x114b269b0>"
      ]
     },
     "metadata": {},
     "output_type": "display_data"
    }
   ],
   "source": [
    "(flights.dep\n",
    "    .value_counts()\n",
    "    .resample('H')\n",
    "    .sum()\n",
    "    .rolling(8).mean()\n",
    "    .plot(figsize=(12, 6)))\n",
    "sns.despine()\n",
    "plt.show()"
   ]
  },
  {
   "cell_type": "code",
   "execution_count": 13,
   "metadata": {
    "collapsed": false
   },
   "outputs": [
    {
     "data": {
      "image/png": "[encoded data removed]",
      "text/plain": [
       "<matplotlib.figure.Figure at 0x114da5860>"
      ]
     },
     "metadata": {},
     "output_type": "display_data"
    }
   ],
   "source": [
    "sns.countplot(flights.unique_carrier,\n",
    "              order=flights.unique_carrier.value_counts().index,\n",
    "              palette='Blues_r')\n",
    "plt.show();"
   ]
  },
  {
   "cell_type": "code",
   "execution_count": 14,
   "metadata": {
    "collapsed": false
   },
   "outputs": [
    {
     "data": {
      "image/png": "[encoded data removed]",
      "text/plain": [
       "<matplotlib.figure.Figure at 0x114b50d30>"
      ]
     },
     "metadata": {},
     "output_type": "display_data"
    }
   ],
   "source": [
    "sns.jointplot('dep_delay', 'arr_delay',\n",
    "              flights[(flights.dep_delay > 1) & (flights.dep_delay < 500)],\n",
    "              alpha=.25, marker='.')\n",
    "plt.show()"
   ]
  },
  {
   "cell_type": "markdown",
   "metadata": {},
   "source": [
    "And now to the incredibly dry (but important!) topic of indexing.\n",
    "It's a good starting point, because it comes up in so many other places;\n",
    "It's a terrible starting point because it's somewhat complicated, and somewhat boring.\n",
    "\n",
    "Indexing tries to do so much.\n",
    "\n",
    "- Like lists, you can index by integer location.\n",
    "- Like dictionaries, you can index by label.\n",
    "- Like NumPy arrays, you can index by boolean masks.\n",
    "- You can index with scalar, `slice`s, or arrays\n",
    "- Any of these should work on the index (row labels) or columns of a DataFrame.\n",
    "- And any of these should work on Hierarchical indexes."
   ]
  },
  {
   "cell_type": "markdown",
   "metadata": {},
   "source": [
    "Let's get a DataFrame with a labeled index by selecting the\n",
    "first flight for each carrier. We'll talk about `groupby` later."
   ]
  },
  {
   "cell_type": "code",
   "execution_count": 15,
   "metadata": {
    "collapsed": false
   },
   "outputs": [
    {
     "data": {
      "text/html": [
       "<div>\n",
       "<table border=\"1\" class=\"dataframe\">\n",
       "  <thead>\n",
       "    <tr style=\"text-align: right;\">\n",
       "      <th></th>\n",
       "      <th>fl_date</th>\n",
       "      <th>airline_id</th>\n",
       "      <th>tail_num</th>\n",
       "      <th>fl_num</th>\n",
       "      <th>origin</th>\n",
       "      <th>dest</th>\n",
       "      <th>dep_time</th>\n",
       "      <th>dep_delay</th>\n",
       "      <th>arr_time</th>\n",
       "      <th>arr_delay</th>\n",
       "      <th>cancelled</th>\n",
       "      <th>arr</th>\n",
       "      <th>dep</th>\n",
       "    </tr>\n",
       "    <tr>\n",
       "      <th>unique_carrier</th>\n",
       "      <th></th>\n",
       "      <th></th>\n",
       "      <th></th>\n",
       "      <th></th>\n",
       "      <th></th>\n",
       "      <th></th>\n",
       "      <th></th>\n",
       "      <th></th>\n",
       "      <th></th>\n",
       "      <th></th>\n",
       "      <th></th>\n",
       "      <th></th>\n",
       "      <th></th>\n",
       "    </tr>\n",
       "  </thead>\n",
       "  <tbody>\n",
       "    <tr>\n",
       "      <th>AA</th>\n",
       "      <td>2014-01-01</td>\n",
       "      <td>19805</td>\n",
       "      <td>N338AA</td>\n",
       "      <td>1</td>\n",
       "      <td>JFK</td>\n",
       "      <td>LAX</td>\n",
       "      <td>914.00</td>\n",
       "      <td>14.00</td>\n",
       "      <td>1,238.00</td>\n",
       "      <td>13.00</td>\n",
       "      <td>0.00</td>\n",
       "      <td>2014-01-01 12:38:00</td>\n",
       "      <td>2014-01-01 09:14:00</td>\n",
       "    </tr>\n",
       "    <tr>\n",
       "      <th>AS</th>\n",
       "      <td>2014-01-01</td>\n",
       "      <td>19930</td>\n",
       "      <td>N524AS</td>\n",
       "      <td>1</td>\n",
       "      <td>DCA</td>\n",
       "      <td>SEA</td>\n",
       "      <td>733.00</td>\n",
       "      <td>-12.00</td>\n",
       "      <td>1,022.00</td>\n",
       "      <td>-15.00</td>\n",
       "      <td>0.00</td>\n",
       "      <td>2014-01-01 10:22:00</td>\n",
       "      <td>2014-01-01 07:33:00</td>\n",
       "    </tr>\n",
       "    <tr>\n",
       "      <th>B6</th>\n",
       "      <td>2014-01-01</td>\n",
       "      <td>20409</td>\n",
       "      <td>N317JB</td>\n",
       "      <td>1236</td>\n",
       "      <td>SJU</td>\n",
       "      <td>STT</td>\n",
       "      <td>809.00</td>\n",
       "      <td>-11.00</td>\n",
       "      <td>840.00</td>\n",
       "      <td>-14.00</td>\n",
       "      <td>0.00</td>\n",
       "      <td>2014-01-01 08:40:00</td>\n",
       "      <td>2014-01-01 08:09:00</td>\n",
       "    </tr>\n",
       "    <tr>\n",
       "      <th>DL</th>\n",
       "      <td>2014-01-01</td>\n",
       "      <td>19790</td>\n",
       "      <td>N911DL</td>\n",
       "      <td>7</td>\n",
       "      <td>ATL</td>\n",
       "      <td>MIA</td>\n",
       "      <td>839.00</td>\n",
       "      <td>70.00</td>\n",
       "      <td>1,027.00</td>\n",
       "      <td>62.00</td>\n",
       "      <td>0.00</td>\n",
       "      <td>2014-01-01 10:27:00</td>\n",
       "      <td>2014-01-01 08:39:00</td>\n",
       "    </tr>\n",
       "    <tr>\n",
       "      <th>EV</th>\n",
       "      <td>2014-01-01</td>\n",
       "      <td>20366</td>\n",
       "      <td>N906EV</td>\n",
       "      <td>2500</td>\n",
       "      <td>DFW</td>\n",
       "      <td>HOU</td>\n",
       "      <td>1,805.00</td>\n",
       "      <td>70.00</td>\n",
       "      <td>2,005.00</td>\n",
       "      <td>65.00</td>\n",
       "      <td>1.00</td>\n",
       "      <td>2014-01-01 20:05:00</td>\n",
       "      <td>2014-01-01 18:05:00</td>\n",
       "    </tr>\n",
       "  </tbody>\n",
       "</table>\n",
       "</div>"
      ],
      "text/plain": [
       "                  fl_date  airline_id tail_num  fl_num origin dest  dep_time  \\\n",
       "unique_carrier                                                                 \n",
       "AA             2014-01-01       19805   N338AA       1    JFK  LAX    914.00   \n",
       "AS             2014-01-01       19930   N524AS       1    DCA  SEA    733.00   \n",
       "B6             2014-01-01       20409   N317JB    1236    SJU  STT    809.00   \n",
       "DL             2014-01-01       19790   N911DL       7    ATL  MIA    839.00   \n",
       "EV             2014-01-01       20366   N906EV    2500    DFW  HOU  1,805.00   \n",
       "\n",
       "                dep_delay  arr_time  arr_delay  cancelled                 arr  \\\n",
       "unique_carrier                                                                  \n",
       "AA                  14.00  1,238.00      13.00       0.00 2014-01-01 12:38:00   \n",
       "AS                 -12.00  1,022.00     -15.00       0.00 2014-01-01 10:22:00   \n",
       "B6                 -11.00    840.00     -14.00       0.00 2014-01-01 08:40:00   \n",
       "DL                  70.00  1,027.00      62.00       0.00 2014-01-01 10:27:00   \n",
       "EV                  70.00  2,005.00      65.00       1.00 2014-01-01 20:05:00   \n",
       "\n",
       "                               dep  \n",
       "unique_carrier                      \n",
       "AA             2014-01-01 09:14:00  \n",
       "AS             2014-01-01 07:33:00  \n",
       "B6             2014-01-01 08:09:00  \n",
       "DL             2014-01-01 08:39:00  \n",
       "EV             2014-01-01 18:05:00  "
      ]
     },
     "execution_count": 15,
     "metadata": {},
     "output_type": "execute_result"
    }
   ],
   "source": [
    "# first\n",
    "first = flights.groupby(\"unique_carrier\").first()\n",
    "first.head()"
   ]
  },
  {
   "cell_type": "code",
   "execution_count": 16,
   "metadata": {
    "collapsed": false
   },
   "outputs": [
    {
     "data": {
      "text/plain": [
       "(14, 13)"
      ]
     },
     "execution_count": 16,
     "metadata": {},
     "output_type": "execute_result"
    }
   ],
   "source": [
    "first.shape"
   ]
  },
  {
   "cell_type": "markdown",
   "metadata": {},
   "source": [
    "# The Basic Rules\n",
    "\n",
    "The one cell to take away from our session:\n",
    "\n",
    "1. Use `.loc` for label-based indexing\n",
    "2. Use `.iloc` for position-based indexing"
   ]
  },
  {
   "cell_type": "markdown",
   "metadata": {},
   "source": [
    "## Label-Based Indexing"
   ]
  },
  {
   "cell_type": "code",
   "execution_count": 17,
   "metadata": {
    "collapsed": false
   },
   "outputs": [
    {
     "data": {
      "text/plain": [
       "Index(['AA', 'AS', 'B6', 'DL', 'EV', 'F9', 'FL', 'HA', 'MQ', 'OO', 'UA', 'US',\n",
       "       'VX', 'WN'],\n",
       "      dtype='object', name='unique_carrier')"
      ]
     },
     "execution_count": 17,
     "metadata": {},
     "output_type": "execute_result"
    }
   ],
   "source": [
    "first.index"
   ]
  },
  {
   "cell_type": "code",
   "execution_count": 18,
   "metadata": {
    "collapsed": false
   },
   "outputs": [
    {
     "data": {
      "text/html": [
       "<div>\n",
       "<table border=\"1\" class=\"dataframe\">\n",
       "  <thead>\n",
       "    <tr style=\"text-align: right;\">\n",
       "      <th></th>\n",
       "      <th>fl_date</th>\n",
       "      <th>airline_id</th>\n",
       "      <th>tail_num</th>\n",
       "      <th>fl_num</th>\n",
       "      <th>origin</th>\n",
       "      <th>dest</th>\n",
       "      <th>dep_time</th>\n",
       "      <th>dep_delay</th>\n",
       "      <th>arr_time</th>\n",
       "      <th>arr_delay</th>\n",
       "      <th>cancelled</th>\n",
       "      <th>arr</th>\n",
       "      <th>dep</th>\n",
       "    </tr>\n",
       "    <tr>\n",
       "      <th>unique_carrier</th>\n",
       "      <th></th>\n",
       "      <th></th>\n",
       "      <th></th>\n",
       "      <th></th>\n",
       "      <th></th>\n",
       "      <th></th>\n",
       "      <th></th>\n",
       "      <th></th>\n",
       "      <th></th>\n",
       "      <th></th>\n",
       "      <th></th>\n",
       "      <th></th>\n",
       "      <th></th>\n",
       "    </tr>\n",
       "  </thead>\n",
       "  <tbody>\n",
       "    <tr>\n",
       "      <th>AA</th>\n",
       "      <td>2014-01-01</td>\n",
       "      <td>19805</td>\n",
       "      <td>N338AA</td>\n",
       "      <td>1</td>\n",
       "      <td>JFK</td>\n",
       "      <td>LAX</td>\n",
       "      <td>914.00</td>\n",
       "      <td>14.00</td>\n",
       "      <td>1,238.00</td>\n",
       "      <td>13.00</td>\n",
       "      <td>0.00</td>\n",
       "      <td>2014-01-01 12:38:00</td>\n",
       "      <td>2014-01-01 09:14:00</td>\n",
       "    </tr>\n",
       "    <tr>\n",
       "      <th>DL</th>\n",
       "      <td>2014-01-01</td>\n",
       "      <td>19790</td>\n",
       "      <td>N911DL</td>\n",
       "      <td>7</td>\n",
       "      <td>ATL</td>\n",
       "      <td>MIA</td>\n",
       "      <td>839.00</td>\n",
       "      <td>70.00</td>\n",
       "      <td>1,027.00</td>\n",
       "      <td>62.00</td>\n",
       "      <td>0.00</td>\n",
       "      <td>2014-01-01 10:27:00</td>\n",
       "      <td>2014-01-01 08:39:00</td>\n",
       "    </tr>\n",
       "    <tr>\n",
       "      <th>US</th>\n",
       "      <td>2014-01-01</td>\n",
       "      <td>20355</td>\n",
       "      <td>N650AW</td>\n",
       "      <td>553</td>\n",
       "      <td>SEA</td>\n",
       "      <td>PHL</td>\n",
       "      <td>834.00</td>\n",
       "      <td>-1.00</td>\n",
       "      <td>1,632.00</td>\n",
       "      <td>-9.00</td>\n",
       "      <td>0.00</td>\n",
       "      <td>2014-01-01 16:32:00</td>\n",
       "      <td>2014-01-01 08:34:00</td>\n",
       "    </tr>\n",
       "    <tr>\n",
       "      <th>WN</th>\n",
       "      <td>2014-01-01</td>\n",
       "      <td>19393</td>\n",
       "      <td>N412WN</td>\n",
       "      <td>2</td>\n",
       "      <td>DEN</td>\n",
       "      <td>LGA</td>\n",
       "      <td>1,045.00</td>\n",
       "      <td>15.00</td>\n",
       "      <td>1,624.00</td>\n",
       "      <td>9.00</td>\n",
       "      <td>0.00</td>\n",
       "      <td>2014-01-01 16:24:00</td>\n",
       "      <td>2014-01-01 10:45:00</td>\n",
       "    </tr>\n",
       "  </tbody>\n",
       "</table>\n",
       "</div>"
      ],
      "text/plain": [
       "                  fl_date  airline_id tail_num  fl_num origin dest  dep_time  \\\n",
       "unique_carrier                                                                 \n",
       "AA             2014-01-01       19805   N338AA       1    JFK  LAX    914.00   \n",
       "DL             2014-01-01       19790   N911DL       7    ATL  MIA    839.00   \n",
       "US             2014-01-01       20355   N650AW     553    SEA  PHL    834.00   \n",
       "WN             2014-01-01       19393   N412WN       2    DEN  LGA  1,045.00   \n",
       "\n",
       "                dep_delay  arr_time  arr_delay  cancelled                 arr  \\\n",
       "unique_carrier                                                                  \n",
       "AA                  14.00  1,238.00      13.00       0.00 2014-01-01 12:38:00   \n",
       "DL                  70.00  1,027.00      62.00       0.00 2014-01-01 10:27:00   \n",
       "US                  -1.00  1,632.00      -9.00       0.00 2014-01-01 16:32:00   \n",
       "WN                  15.00  1,624.00       9.00       0.00 2014-01-01 16:24:00   \n",
       "\n",
       "                               dep  \n",
       "unique_carrier                      \n",
       "AA             2014-01-01 09:14:00  \n",
       "DL             2014-01-01 08:39:00  \n",
       "US             2014-01-01 08:34:00  \n",
       "WN             2014-01-01 10:45:00  "
      ]
     },
     "execution_count": 18,
     "metadata": {},
     "output_type": "execute_result"
    }
   ],
   "source": [
    "carriers = ['AA', 'DL', 'US', 'WN']\n",
    "# Select those carriers by label\n",
    "first.loc[carriers]"
   ]
  },
  {
   "cell_type": "markdown",
   "metadata": {},
   "source": [
    "The more general form is `.loc[row_indexer, column_indexer]`, where an indexer is  one of\n",
    "\n",
    "- A scalar or array of row labels\n",
    "- A `slice` object\n",
    "- A boolean mask\n",
    "\n",
    "Let's step through these possibilites:"
   ]
  },
  {
   "cell_type": "markdown",
   "metadata": {},
   "source": [
    "## Scalar / Array"
   ]
  },
  {
   "cell_type": "code",
   "execution_count": 19,
   "metadata": {
    "collapsed": false
   },
   "outputs": [
    {
     "data": {
      "text/html": [
       "<div>\n",
       "<table border=\"1\" class=\"dataframe\">\n",
       "  <thead>\n",
       "    <tr style=\"text-align: right;\">\n",
       "      <th></th>\n",
       "      <th>origin</th>\n",
       "      <th>dest</th>\n",
       "      <th>dep_delay</th>\n",
       "    </tr>\n",
       "    <tr>\n",
       "      <th>unique_carrier</th>\n",
       "      <th></th>\n",
       "      <th></th>\n",
       "      <th></th>\n",
       "    </tr>\n",
       "  </thead>\n",
       "  <tbody>\n",
       "    <tr>\n",
       "      <th>AA</th>\n",
       "      <td>JFK</td>\n",
       "      <td>LAX</td>\n",
       "      <td>14.00</td>\n",
       "    </tr>\n",
       "    <tr>\n",
       "      <th>DL</th>\n",
       "      <td>ATL</td>\n",
       "      <td>MIA</td>\n",
       "      <td>70.00</td>\n",
       "    </tr>\n",
       "    <tr>\n",
       "      <th>US</th>\n",
       "      <td>SEA</td>\n",
       "      <td>PHL</td>\n",
       "      <td>-1.00</td>\n",
       "    </tr>\n",
       "    <tr>\n",
       "      <th>WN</th>\n",
       "      <td>DEN</td>\n",
       "      <td>LGA</td>\n",
       "      <td>15.00</td>\n",
       "    </tr>\n",
       "  </tbody>\n",
       "</table>\n",
       "</div>"
      ],
      "text/plain": [
       "               origin dest  dep_delay\n",
       "unique_carrier                       \n",
       "AA                JFK  LAX      14.00\n",
       "DL                ATL  MIA      70.00\n",
       "US                SEA  PHL      -1.00\n",
       "WN                DEN  LGA      15.00"
      ]
     },
     "execution_count": 19,
     "metadata": {},
     "output_type": "execute_result"
    }
   ],
   "source": [
    "# select just `carriers` and origin, dest, and dep_delay\n",
    "first.loc[carriers, ['origin', 'dest', 'dep_delay']]"
   ]
  },
  {
   "cell_type": "markdown",
   "metadata": {},
   "source": [
    "Pandas will *reduce dimensionality* when possible, so slicing with a scalar\n",
    "will return a Series (usually; the exception being duplicates in the index or columns)"
   ]
  },
  {
   "cell_type": "code",
   "execution_count": 20,
   "metadata": {
    "collapsed": false
   },
   "outputs": [
    {
     "data": {
      "text/plain": [
       "unique_carrier\n",
       "AA    N338AA\n",
       "DL    N911DL\n",
       "US    N650AW\n",
       "WN    N412WN\n",
       "Name: tail_num, dtype: object"
      ]
     },
     "execution_count": 20,
     "metadata": {},
     "output_type": "execute_result"
    }
   ],
   "source": [
    "# select just tail_num for those `carriers`\n",
    "first.loc[carriers, 'tail_num']"
   ]
  },
  {
   "cell_type": "markdown",
   "metadata": {},
   "source": [
    "## `slice` objects"
   ]
  },
  {
   "cell_type": "markdown",
   "metadata": {},
   "source": [
    "`slice`s make the most sense when your index is sorted. Groupby sorts the keys for us, so  we're OK here."
   ]
  },
  {
   "cell_type": "code",
   "execution_count": 21,
   "metadata": {
    "collapsed": false
   },
   "outputs": [
    {
     "data": {
      "text/html": [
       "<div>\n",
       "<table border=\"1\" class=\"dataframe\">\n",
       "  <thead>\n",
       "    <tr style=\"text-align: right;\">\n",
       "      <th></th>\n",
       "      <th>fl_date</th>\n",
       "      <th>airline_id</th>\n",
       "      <th>tail_num</th>\n",
       "      <th>fl_num</th>\n",
       "      <th>origin</th>\n",
       "      <th>dest</th>\n",
       "      <th>dep_time</th>\n",
       "      <th>dep_delay</th>\n",
       "      <th>arr_time</th>\n",
       "      <th>arr_delay</th>\n",
       "      <th>cancelled</th>\n",
       "      <th>arr</th>\n",
       "      <th>dep</th>\n",
       "    </tr>\n",
       "    <tr>\n",
       "      <th>unique_carrier</th>\n",
       "      <th></th>\n",
       "      <th></th>\n",
       "      <th></th>\n",
       "      <th></th>\n",
       "      <th></th>\n",
       "      <th></th>\n",
       "      <th></th>\n",
       "      <th></th>\n",
       "      <th></th>\n",
       "      <th></th>\n",
       "      <th></th>\n",
       "      <th></th>\n",
       "      <th></th>\n",
       "    </tr>\n",
       "  </thead>\n",
       "  <tbody>\n",
       "    <tr>\n",
       "      <th>AA</th>\n",
       "      <td>2014-01-01</td>\n",
       "      <td>19805</td>\n",
       "      <td>N338AA</td>\n",
       "      <td>1</td>\n",
       "      <td>JFK</td>\n",
       "      <td>LAX</td>\n",
       "      <td>914.00</td>\n",
       "      <td>14.00</td>\n",
       "      <td>1,238.00</td>\n",
       "      <td>13.00</td>\n",
       "      <td>0.00</td>\n",
       "      <td>2014-01-01 12:38:00</td>\n",
       "      <td>2014-01-01 09:14:00</td>\n",
       "    </tr>\n",
       "    <tr>\n",
       "      <th>AS</th>\n",
       "      <td>2014-01-01</td>\n",
       "      <td>19930</td>\n",
       "      <td>N524AS</td>\n",
       "      <td>1</td>\n",
       "      <td>DCA</td>\n",
       "      <td>SEA</td>\n",
       "      <td>733.00</td>\n",
       "      <td>-12.00</td>\n",
       "      <td>1,022.00</td>\n",
       "      <td>-15.00</td>\n",
       "      <td>0.00</td>\n",
       "      <td>2014-01-01 10:22:00</td>\n",
       "      <td>2014-01-01 07:33:00</td>\n",
       "    </tr>\n",
       "    <tr>\n",
       "      <th>B6</th>\n",
       "      <td>2014-01-01</td>\n",
       "      <td>20409</td>\n",
       "      <td>N317JB</td>\n",
       "      <td>1236</td>\n",
       "      <td>SJU</td>\n",
       "      <td>STT</td>\n",
       "      <td>809.00</td>\n",
       "      <td>-11.00</td>\n",
       "      <td>840.00</td>\n",
       "      <td>-14.00</td>\n",
       "      <td>0.00</td>\n",
       "      <td>2014-01-01 08:40:00</td>\n",
       "      <td>2014-01-01 08:09:00</td>\n",
       "    </tr>\n",
       "  </tbody>\n",
       "</table>\n",
       "</div>"
      ],
      "text/plain": [
       "                  fl_date  airline_id tail_num  fl_num origin dest  dep_time  \\\n",
       "unique_carrier                                                                 \n",
       "AA             2014-01-01       19805   N338AA       1    JFK  LAX    914.00   \n",
       "AS             2014-01-01       19930   N524AS       1    DCA  SEA    733.00   \n",
       "B6             2014-01-01       20409   N317JB    1236    SJU  STT    809.00   \n",
       "\n",
       "                dep_delay  arr_time  arr_delay  cancelled                 arr  \\\n",
       "unique_carrier                                                                  \n",
       "AA                  14.00  1,238.00      13.00       0.00 2014-01-01 12:38:00   \n",
       "AS                 -12.00  1,022.00     -15.00       0.00 2014-01-01 10:22:00   \n",
       "B6                 -11.00    840.00     -14.00       0.00 2014-01-01 08:40:00   \n",
       "\n",
       "                               dep  \n",
       "unique_carrier                      \n",
       "AA             2014-01-01 09:14:00  \n",
       "AS             2014-01-01 07:33:00  \n",
       "B6             2014-01-01 08:09:00  "
      ]
     },
     "execution_count": 21,
     "metadata": {},
     "output_type": "execute_result"
    }
   ],
   "source": [
    "# slice from AA to DL\n",
    "first.loc['AA':'BZ']"
   ]
  },
  {
   "cell_type": "markdown",
   "metadata": {},
   "source": [
    "Notice that the slice is inclusive on *both* sides *when using `.loc`* (`.iloc` follows the usual python rules of closed on the left, open on the right)."
   ]
  },
  {
   "cell_type": "markdown",
   "metadata": {},
   "source": [
    "## Boolean Indexing"
   ]
  },
  {
   "cell_type": "markdown",
   "metadata": {},
   "source": [
    "This is esstentially a SQL `WHERE` clause. For examples, get the top 5 most common carriers."
   ]
  },
  {
   "cell_type": "code",
   "execution_count": 22,
   "metadata": {
    "collapsed": false
   },
   "outputs": [
    {
     "data": {
      "text/plain": [
       "WN    91564\n",
       "DL    59030\n",
       "EV    58508\n",
       "OO    50484\n",
       "AA    45401\n",
       "      ...  \n",
       "AS    12403\n",
       "FL     9405\n",
       "HA     6019\n",
       "F9     5736\n",
       "VX     4810\n",
       "Name: unique_carrier, dtype: int64"
      ]
     },
     "execution_count": 22,
     "metadata": {},
     "output_type": "execute_result"
    }
   ],
   "source": [
    "# Get the counts for `flights.unique_carrier`\n",
    "vc = flights.unique_carrier.value_counts()\n",
    "vc"
   ]
  },
  {
   "cell_type": "code",
   "execution_count": 23,
   "metadata": {
    "collapsed": false
   },
   "outputs": [
    {
     "data": {
      "text/plain": [
       "Index(['WN', 'DL', 'EV', 'OO', 'AA'], dtype='object')"
      ]
     },
     "execution_count": 23,
     "metadata": {},
     "output_type": "execute_result"
    }
   ],
   "source": [
    "# Get a boolean mask for whether `counts` is in the top 5.\n",
    "mask = vc.index.isin(vc.index[:5])\n",
    "labels = vc.index[mask]\n",
    "labels"
   ]
  },
  {
   "cell_type": "markdown",
   "metadata": {},
   "source": [
    "*We used the `.isin` method there, which is handy for checking membership of a set. It's available on `Index`, `Series`, and `DataFrame`*."
   ]
  },
  {
   "cell_type": "code",
   "execution_count": 24,
   "metadata": {
    "collapsed": false
   },
   "outputs": [
    {
     "data": {
      "text/html": [
       "<div>\n",
       "<table border=\"1\" class=\"dataframe\">\n",
       "  <thead>\n",
       "    <tr style=\"text-align: right;\">\n",
       "      <th></th>\n",
       "      <th>tail_num</th>\n",
       "      <th>fl_num</th>\n",
       "    </tr>\n",
       "  </thead>\n",
       "  <tbody>\n",
       "    <tr>\n",
       "      <th>WN</th>\n",
       "      <td>N412WN</td>\n",
       "      <td>2</td>\n",
       "    </tr>\n",
       "    <tr>\n",
       "      <th>DL</th>\n",
       "      <td>N911DL</td>\n",
       "      <td>7</td>\n",
       "    </tr>\n",
       "    <tr>\n",
       "      <th>EV</th>\n",
       "      <td>N906EV</td>\n",
       "      <td>2500</td>\n",
       "    </tr>\n",
       "    <tr>\n",
       "      <th>OO</th>\n",
       "      <td>N868CA</td>\n",
       "      <td>2612</td>\n",
       "    </tr>\n",
       "    <tr>\n",
       "      <th>AA</th>\n",
       "      <td>N338AA</td>\n",
       "      <td>1</td>\n",
       "    </tr>\n",
       "  </tbody>\n",
       "</table>\n",
       "</div>"
      ],
      "text/plain": [
       "   tail_num  fl_num\n",
       "WN   N412WN       2\n",
       "DL   N911DL       7\n",
       "EV   N906EV    2500\n",
       "OO   N868CA    2612\n",
       "AA   N338AA       1"
      ]
     },
     "execution_count": 24,
     "metadata": {},
     "output_type": "execute_result"
    }
   ],
   "source": [
    "# Filter to the `mask` rows and ['tail_num', 'fl_num']\n",
    "first.loc[labels, ['tail_num', 'fl_num']]"
   ]
  },
  {
   "cell_type": "markdown",
   "metadata": {},
   "source": [
    "The reguler `__getitem__` (square brackets) also accepts a boolean mask, which will subset the rows. This is similar to NumPy."
   ]
  },
  {
   "cell_type": "code",
   "execution_count": 25,
   "metadata": {
    "collapsed": false
   },
   "outputs": [
    {
     "data": {
      "text/html": [
       "<div>\n",
       "<table border=\"1\" class=\"dataframe\">\n",
       "  <thead>\n",
       "    <tr style=\"text-align: right;\">\n",
       "      <th></th>\n",
       "      <th>fl_date</th>\n",
       "      <th>airline_id</th>\n",
       "      <th>tail_num</th>\n",
       "      <th>fl_num</th>\n",
       "      <th>origin</th>\n",
       "      <th>dest</th>\n",
       "      <th>dep_time</th>\n",
       "      <th>dep_delay</th>\n",
       "      <th>arr_time</th>\n",
       "      <th>arr_delay</th>\n",
       "      <th>cancelled</th>\n",
       "      <th>arr</th>\n",
       "      <th>dep</th>\n",
       "    </tr>\n",
       "    <tr>\n",
       "      <th>unique_carrier</th>\n",
       "      <th></th>\n",
       "      <th></th>\n",
       "      <th></th>\n",
       "      <th></th>\n",
       "      <th></th>\n",
       "      <th></th>\n",
       "      <th></th>\n",
       "      <th></th>\n",
       "      <th></th>\n",
       "      <th></th>\n",
       "      <th></th>\n",
       "      <th></th>\n",
       "      <th></th>\n",
       "    </tr>\n",
       "  </thead>\n",
       "  <tbody>\n",
       "    <tr>\n",
       "      <th>AA</th>\n",
       "      <td>2014-01-01</td>\n",
       "      <td>19805</td>\n",
       "      <td>N338AA</td>\n",
       "      <td>1</td>\n",
       "      <td>JFK</td>\n",
       "      <td>LAX</td>\n",
       "      <td>914.00</td>\n",
       "      <td>14.00</td>\n",
       "      <td>1,238.00</td>\n",
       "      <td>13.00</td>\n",
       "      <td>0.00</td>\n",
       "      <td>2014-01-01 12:38:00</td>\n",
       "      <td>2014-01-01 09:14:00</td>\n",
       "    </tr>\n",
       "    <tr>\n",
       "      <th>AS</th>\n",
       "      <td>2014-01-01</td>\n",
       "      <td>19930</td>\n",
       "      <td>N524AS</td>\n",
       "      <td>1</td>\n",
       "      <td>DCA</td>\n",
       "      <td>SEA</td>\n",
       "      <td>733.00</td>\n",
       "      <td>-12.00</td>\n",
       "      <td>1,022.00</td>\n",
       "      <td>-15.00</td>\n",
       "      <td>0.00</td>\n",
       "      <td>2014-01-01 10:22:00</td>\n",
       "      <td>2014-01-01 07:33:00</td>\n",
       "    </tr>\n",
       "    <tr>\n",
       "      <th>B6</th>\n",
       "      <td>2014-01-01</td>\n",
       "      <td>20409</td>\n",
       "      <td>N317JB</td>\n",
       "      <td>1236</td>\n",
       "      <td>SJU</td>\n",
       "      <td>STT</td>\n",
       "      <td>809.00</td>\n",
       "      <td>-11.00</td>\n",
       "      <td>840.00</td>\n",
       "      <td>-14.00</td>\n",
       "      <td>0.00</td>\n",
       "      <td>2014-01-01 08:40:00</td>\n",
       "      <td>2014-01-01 08:09:00</td>\n",
       "    </tr>\n",
       "    <tr>\n",
       "      <th>DL</th>\n",
       "      <td>2014-01-01</td>\n",
       "      <td>19790</td>\n",
       "      <td>N911DL</td>\n",
       "      <td>7</td>\n",
       "      <td>ATL</td>\n",
       "      <td>MIA</td>\n",
       "      <td>839.00</td>\n",
       "      <td>70.00</td>\n",
       "      <td>1,027.00</td>\n",
       "      <td>62.00</td>\n",
       "      <td>0.00</td>\n",
       "      <td>2014-01-01 10:27:00</td>\n",
       "      <td>2014-01-01 08:39:00</td>\n",
       "    </tr>\n",
       "    <tr>\n",
       "      <th>EV</th>\n",
       "      <td>2014-01-01</td>\n",
       "      <td>20366</td>\n",
       "      <td>N906EV</td>\n",
       "      <td>2500</td>\n",
       "      <td>DFW</td>\n",
       "      <td>HOU</td>\n",
       "      <td>1,805.00</td>\n",
       "      <td>70.00</td>\n",
       "      <td>2,005.00</td>\n",
       "      <td>65.00</td>\n",
       "      <td>1.00</td>\n",
       "      <td>2014-01-01 20:05:00</td>\n",
       "      <td>2014-01-01 18:05:00</td>\n",
       "    </tr>\n",
       "  </tbody>\n",
       "</table>\n",
       "</div>"
      ],
      "text/plain": [
       "                  fl_date  airline_id tail_num  fl_num origin dest  dep_time  \\\n",
       "unique_carrier                                                                 \n",
       "AA             2014-01-01       19805   N338AA       1    JFK  LAX    914.00   \n",
       "AS             2014-01-01       19930   N524AS       1    DCA  SEA    733.00   \n",
       "B6             2014-01-01       20409   N317JB    1236    SJU  STT    809.00   \n",
       "DL             2014-01-01       19790   N911DL       7    ATL  MIA    839.00   \n",
       "EV             2014-01-01       20366   N906EV    2500    DFW  HOU  1,805.00   \n",
       "\n",
       "                dep_delay  arr_time  arr_delay  cancelled                 arr  \\\n",
       "unique_carrier                                                                  \n",
       "AA                  14.00  1,238.00      13.00       0.00 2014-01-01 12:38:00   \n",
       "AS                 -12.00  1,022.00     -15.00       0.00 2014-01-01 10:22:00   \n",
       "B6                 -11.00    840.00     -14.00       0.00 2014-01-01 08:40:00   \n",
       "DL                  70.00  1,027.00      62.00       0.00 2014-01-01 10:27:00   \n",
       "EV                  70.00  2,005.00      65.00       1.00 2014-01-01 20:05:00   \n",
       "\n",
       "                               dep  \n",
       "unique_carrier                      \n",
       "AA             2014-01-01 09:14:00  \n",
       "AS             2014-01-01 07:33:00  \n",
       "B6             2014-01-01 08:09:00  \n",
       "DL             2014-01-01 08:39:00  \n",
       "EV             2014-01-01 18:05:00  "
      ]
     },
     "execution_count": 25,
     "metadata": {},
     "output_type": "execute_result"
    }
   ],
   "source": [
    "first[mask]"
   ]
  },
  {
   "cell_type": "markdown",
   "metadata": {},
   "source": [
    "Boolean indexers are useful because so many operations can produce an array of booleans.\n",
    "\n",
    "- null checks (`.isnull`, `.notnull`)\n",
    "- container checks (`.isin`)\n",
    "- boolean aggregations (`.any`, `.all`)\n",
    "- comparisions (`.gt`, `.lt`, etc.)"
   ]
  },
  {
   "cell_type": "code",
   "execution_count": 26,
   "metadata": {
    "collapsed": false
   },
   "outputs": [
    {
     "data": {
      "text/html": [
       "<div>\n",
       "<table border=\"1\" class=\"dataframe\">\n",
       "  <thead>\n",
       "    <tr style=\"text-align: right;\">\n",
       "      <th></th>\n",
       "      <th>fl_date</th>\n",
       "      <th>unique_carrier</th>\n",
       "      <th>airline_id</th>\n",
       "      <th>tail_num</th>\n",
       "      <th>fl_num</th>\n",
       "      <th>origin</th>\n",
       "      <th>dest</th>\n",
       "      <th>dep_time</th>\n",
       "      <th>dep_delay</th>\n",
       "      <th>arr_time</th>\n",
       "      <th>arr_delay</th>\n",
       "      <th>cancelled</th>\n",
       "      <th>arr</th>\n",
       "      <th>dep</th>\n",
       "    </tr>\n",
       "  </thead>\n",
       "  <tbody>\n",
       "    <tr>\n",
       "      <th>95</th>\n",
       "      <td>2014-01-01</td>\n",
       "      <td>AA</td>\n",
       "      <td>19805</td>\n",
       "      <td>N583AA</td>\n",
       "      <td>193</td>\n",
       "      <td>MCI</td>\n",
       "      <td>ORD</td>\n",
       "      <td>nan</td>\n",
       "      <td>nan</td>\n",
       "      <td>nan</td>\n",
       "      <td>nan</td>\n",
       "      <td>1.00</td>\n",
       "      <td>NaT</td>\n",
       "      <td>NaT</td>\n",
       "    </tr>\n",
       "    <tr>\n",
       "      <th>96</th>\n",
       "      <td>2014-01-01</td>\n",
       "      <td>AA</td>\n",
       "      <td>19805</td>\n",
       "      <td>N583AA</td>\n",
       "      <td>193</td>\n",
       "      <td>ORD</td>\n",
       "      <td>MCI</td>\n",
       "      <td>nan</td>\n",
       "      <td>nan</td>\n",
       "      <td>nan</td>\n",
       "      <td>nan</td>\n",
       "      <td>1.00</td>\n",
       "      <td>NaT</td>\n",
       "      <td>NaT</td>\n",
       "    </tr>\n",
       "    <tr>\n",
       "      <th>104</th>\n",
       "      <td>2014-01-01</td>\n",
       "      <td>AA</td>\n",
       "      <td>19805</td>\n",
       "      <td>N3DRAA</td>\n",
       "      <td>197</td>\n",
       "      <td>SFO</td>\n",
       "      <td>ORD</td>\n",
       "      <td>nan</td>\n",
       "      <td>nan</td>\n",
       "      <td>nan</td>\n",
       "      <td>nan</td>\n",
       "      <td>1.00</td>\n",
       "      <td>NaT</td>\n",
       "      <td>NaT</td>\n",
       "    </tr>\n",
       "    <tr>\n",
       "      <th>198</th>\n",
       "      <td>2014-01-01</td>\n",
       "      <td>AA</td>\n",
       "      <td>19805</td>\n",
       "      <td>N3CKAA</td>\n",
       "      <td>288</td>\n",
       "      <td>ORD</td>\n",
       "      <td>BOS</td>\n",
       "      <td>nan</td>\n",
       "      <td>nan</td>\n",
       "      <td>nan</td>\n",
       "      <td>nan</td>\n",
       "      <td>1.00</td>\n",
       "      <td>NaT</td>\n",
       "      <td>NaT</td>\n",
       "    </tr>\n",
       "    <tr>\n",
       "      <th>321</th>\n",
       "      <td>2014-01-01</td>\n",
       "      <td>AA</td>\n",
       "      <td>19805</td>\n",
       "      <td>N3EAAA</td>\n",
       "      <td>359</td>\n",
       "      <td>LGA</td>\n",
       "      <td>ORD</td>\n",
       "      <td>nan</td>\n",
       "      <td>nan</td>\n",
       "      <td>nan</td>\n",
       "      <td>nan</td>\n",
       "      <td>1.00</td>\n",
       "      <td>NaT</td>\n",
       "      <td>NaT</td>\n",
       "    </tr>\n",
       "    <tr>\n",
       "      <th>...</th>\n",
       "      <td>...</td>\n",
       "      <td>...</td>\n",
       "      <td>...</td>\n",
       "      <td>...</td>\n",
       "      <td>...</td>\n",
       "      <td>...</td>\n",
       "      <td>...</td>\n",
       "      <td>...</td>\n",
       "      <td>...</td>\n",
       "      <td>...</td>\n",
       "      <td>...</td>\n",
       "      <td>...</td>\n",
       "      <td>...</td>\n",
       "      <td>...</td>\n",
       "    </tr>\n",
       "    <tr>\n",
       "      <th>471733</th>\n",
       "      <td>2014-01-31</td>\n",
       "      <td>UA</td>\n",
       "      <td>19977</td>\n",
       "      <td>NaN</td>\n",
       "      <td>1599</td>\n",
       "      <td>ORD</td>\n",
       "      <td>RIC</td>\n",
       "      <td>nan</td>\n",
       "      <td>nan</td>\n",
       "      <td>nan</td>\n",
       "      <td>nan</td>\n",
       "      <td>1.00</td>\n",
       "      <td>NaT</td>\n",
       "      <td>NaT</td>\n",
       "    </tr>\n",
       "    <tr>\n",
       "      <th>471772</th>\n",
       "      <td>2014-01-31</td>\n",
       "      <td>UA</td>\n",
       "      <td>19977</td>\n",
       "      <td>NaN</td>\n",
       "      <td>1643</td>\n",
       "      <td>DEN</td>\n",
       "      <td>EWR</td>\n",
       "      <td>nan</td>\n",
       "      <td>nan</td>\n",
       "      <td>nan</td>\n",
       "      <td>nan</td>\n",
       "      <td>1.00</td>\n",
       "      <td>NaT</td>\n",
       "      <td>NaT</td>\n",
       "    </tr>\n",
       "    <tr>\n",
       "      <th>471806</th>\n",
       "      <td>2014-01-31</td>\n",
       "      <td>UA</td>\n",
       "      <td>19977</td>\n",
       "      <td>NaN</td>\n",
       "      <td>1668</td>\n",
       "      <td>SFO</td>\n",
       "      <td>EWR</td>\n",
       "      <td>nan</td>\n",
       "      <td>nan</td>\n",
       "      <td>nan</td>\n",
       "      <td>nan</td>\n",
       "      <td>1.00</td>\n",
       "      <td>NaT</td>\n",
       "      <td>NaT</td>\n",
       "    </tr>\n",
       "    <tr>\n",
       "      <th>471912</th>\n",
       "      <td>2014-01-31</td>\n",
       "      <td>OO</td>\n",
       "      <td>20304</td>\n",
       "      <td>N716SK</td>\n",
       "      <td>5546</td>\n",
       "      <td>DEN</td>\n",
       "      <td>ASE</td>\n",
       "      <td>nan</td>\n",
       "      <td>nan</td>\n",
       "      <td>nan</td>\n",
       "      <td>nan</td>\n",
       "      <td>1.00</td>\n",
       "      <td>NaT</td>\n",
       "      <td>NaT</td>\n",
       "    </tr>\n",
       "    <tr>\n",
       "      <th>471921</th>\n",
       "      <td>2014-01-31</td>\n",
       "      <td>OO</td>\n",
       "      <td>20304</td>\n",
       "      <td>N907SW</td>\n",
       "      <td>2934</td>\n",
       "      <td>PHX</td>\n",
       "      <td>FLG</td>\n",
       "      <td>nan</td>\n",
       "      <td>nan</td>\n",
       "      <td>nan</td>\n",
       "      <td>nan</td>\n",
       "      <td>1.00</td>\n",
       "      <td>NaT</td>\n",
       "      <td>NaT</td>\n",
       "    </tr>\n",
       "  </tbody>\n",
       "</table>\n",
       "<p>30327 rows × 14 columns</p>\n",
       "</div>"
      ],
      "text/plain": [
       "          fl_date unique_carrier  airline_id tail_num  fl_num origin dest  \\\n",
       "95     2014-01-01             AA       19805   N583AA     193    MCI  ORD   \n",
       "96     2014-01-01             AA       19805   N583AA     193    ORD  MCI   \n",
       "104    2014-01-01             AA       19805   N3DRAA     197    SFO  ORD   \n",
       "198    2014-01-01             AA       19805   N3CKAA     288    ORD  BOS   \n",
       "321    2014-01-01             AA       19805   N3EAAA     359    LGA  ORD   \n",
       "...           ...            ...         ...      ...     ...    ...  ...   \n",
       "471733 2014-01-31             UA       19977      NaN    1599    ORD  RIC   \n",
       "471772 2014-01-31             UA       19977      NaN    1643    DEN  EWR   \n",
       "471806 2014-01-31             UA       19977      NaN    1668    SFO  EWR   \n",
       "471912 2014-01-31             OO       20304   N716SK    5546    DEN  ASE   \n",
       "471921 2014-01-31             OO       20304   N907SW    2934    PHX  FLG   \n",
       "\n",
       "        dep_time  dep_delay  arr_time  arr_delay  cancelled arr dep  \n",
       "95           nan        nan       nan        nan       1.00 NaT NaT  \n",
       "96           nan        nan       nan        nan       1.00 NaT NaT  \n",
       "104          nan        nan       nan        nan       1.00 NaT NaT  \n",
       "198          nan        nan       nan        nan       1.00 NaT NaT  \n",
       "321          nan        nan       nan        nan       1.00 NaT NaT  \n",
       "...          ...        ...       ...        ...        ...  ..  ..  \n",
       "471733       nan        nan       nan        nan       1.00 NaT NaT  \n",
       "471772       nan        nan       nan        nan       1.00 NaT NaT  \n",
       "471806       nan        nan       nan        nan       1.00 NaT NaT  \n",
       "471912       nan        nan       nan        nan       1.00 NaT NaT  \n",
       "471921       nan        nan       nan        nan       1.00 NaT NaT  \n",
       "\n",
       "[30327 rows x 14 columns]"
      ]
     },
     "execution_count": 26,
     "metadata": {},
     "output_type": "execute_result"
    }
   ],
   "source": [
    "# Select rows where `dep` is null\n",
    "\n",
    "flights.loc[flights.dep.isnull()]"
   ]
  },
  {
   "cell_type": "markdown",
   "metadata": {},
   "source": [
    "<div class=\"alert alert-success\">\n",
    "  <h1><i class=\"fa fa-tasks\" aria-hidden=\"true\"></i> Exercise</h1>\n",
    "</div>\n",
    "\n",
    "Filter down to rows where the departure **`hour`** is before 6:00 or after 18:00.\n",
    "\n",
    "- Hint: Use the `flights.dep.dt` namespace\n",
    "- Hint: Be careful with the order of operations"
   ]
  },
  {
   "cell_type": "code",
   "execution_count": 29,
   "metadata": {
    "collapsed": false
   },
   "outputs": [
    {
     "data": {
      "text/html": [
       "<div>\n",
       "<table border=\"1\" class=\"dataframe\">\n",
       "  <thead>\n",
       "    <tr style=\"text-align: right;\">\n",
       "      <th></th>\n",
       "      <th>fl_date</th>\n",
       "      <th>unique_carrier</th>\n",
       "      <th>airline_id</th>\n",
       "      <th>tail_num</th>\n",
       "      <th>fl_num</th>\n",
       "      <th>origin</th>\n",
       "      <th>dest</th>\n",
       "      <th>dep_time</th>\n",
       "      <th>dep_delay</th>\n",
       "      <th>arr_time</th>\n",
       "      <th>arr_delay</th>\n",
       "      <th>cancelled</th>\n",
       "      <th>arr</th>\n",
       "      <th>dep</th>\n",
       "    </tr>\n",
       "  </thead>\n",
       "  <tbody>\n",
       "    <tr>\n",
       "      <th>2571</th>\n",
       "      <td>2014-01-01</td>\n",
       "      <td>DL</td>\n",
       "      <td>19790</td>\n",
       "      <td>N617DL</td>\n",
       "      <td>39</td>\n",
       "      <td>ATL</td>\n",
       "      <td>MCO</td>\n",
       "      <td>1,552.00</td>\n",
       "      <td>-3.00</td>\n",
       "      <td>1,714.00</td>\n",
       "      <td>-6.00</td>\n",
       "      <td>0.00</td>\n",
       "      <td>2014-01-01 17:14:00</td>\n",
       "      <td>2014-01-01 15:52:00</td>\n",
       "    </tr>\n",
       "    <tr>\n",
       "      <th>2624</th>\n",
       "      <td>2014-01-01</td>\n",
       "      <td>DL</td>\n",
       "      <td>19790</td>\n",
       "      <td>N978DL</td>\n",
       "      <td>331</td>\n",
       "      <td>ATL</td>\n",
       "      <td>MCO</td>\n",
       "      <td>1,815.00</td>\n",
       "      <td>20.00</td>\n",
       "      <td>1,944.00</td>\n",
       "      <td>19.00</td>\n",
       "      <td>0.00</td>\n",
       "      <td>2014-01-01 19:44:00</td>\n",
       "      <td>2014-01-01 18:15:00</td>\n",
       "    </tr>\n",
       "    <tr>\n",
       "      <th>2800</th>\n",
       "      <td>2014-01-01</td>\n",
       "      <td>DL</td>\n",
       "      <td>19790</td>\n",
       "      <td>N922DL</td>\n",
       "      <td>786</td>\n",
       "      <td>ATL</td>\n",
       "      <td>LGA</td>\n",
       "      <td>1,747.00</td>\n",
       "      <td>2.00</td>\n",
       "      <td>1,929.00</td>\n",
       "      <td>-35.00</td>\n",
       "      <td>0.00</td>\n",
       "      <td>2014-01-01 19:29:00</td>\n",
       "      <td>2014-01-01 17:47:00</td>\n",
       "    </tr>\n",
       "    <tr>\n",
       "      <th>2809</th>\n",
       "      <td>2014-01-01</td>\n",
       "      <td>DL</td>\n",
       "      <td>19790</td>\n",
       "      <td>N901DE</td>\n",
       "      <td>802</td>\n",
       "      <td>ATL</td>\n",
       "      <td>LGA</td>\n",
       "      <td>1,443.00</td>\n",
       "      <td>-2.00</td>\n",
       "      <td>1,640.00</td>\n",
       "      <td>-17.00</td>\n",
       "      <td>0.00</td>\n",
       "      <td>2014-01-01 16:40:00</td>\n",
       "      <td>2014-01-01 14:43:00</td>\n",
       "    </tr>\n",
       "    <tr>\n",
       "      <th>2854</th>\n",
       "      <td>2014-01-01</td>\n",
       "      <td>DL</td>\n",
       "      <td>19790</td>\n",
       "      <td>N667DN</td>\n",
       "      <td>871</td>\n",
       "      <td>ATL</td>\n",
       "      <td>MCO</td>\n",
       "      <td>2,149.00</td>\n",
       "      <td>-1.00</td>\n",
       "      <td>2,314.00</td>\n",
       "      <td>-1.00</td>\n",
       "      <td>0.00</td>\n",
       "      <td>2014-01-01 23:14:00</td>\n",
       "      <td>2014-01-01 21:49:00</td>\n",
       "    </tr>\n",
       "  </tbody>\n",
       "</table>\n",
       "</div>"
      ],
      "text/plain": [
       "        fl_date unique_carrier  airline_id tail_num  fl_num origin dest  \\\n",
       "2571 2014-01-01             DL       19790   N617DL      39    ATL  MCO   \n",
       "2624 2014-01-01             DL       19790   N978DL     331    ATL  MCO   \n",
       "2800 2014-01-01             DL       19790   N922DL     786    ATL  LGA   \n",
       "2809 2014-01-01             DL       19790   N901DE     802    ATL  LGA   \n",
       "2854 2014-01-01             DL       19790   N667DN     871    ATL  MCO   \n",
       "\n",
       "      dep_time  dep_delay  arr_time  arr_delay  cancelled                 arr  \\\n",
       "2571  1,552.00      -3.00  1,714.00      -6.00       0.00 2014-01-01 17:14:00   \n",
       "2624  1,815.00      20.00  1,944.00      19.00       0.00 2014-01-01 19:44:00   \n",
       "2800  1,747.00       2.00  1,929.00     -35.00       0.00 2014-01-01 19:29:00   \n",
       "2809  1,443.00      -2.00  1,640.00     -17.00       0.00 2014-01-01 16:40:00   \n",
       "2854  2,149.00      -1.00  2,314.00      -1.00       0.00 2014-01-01 23:14:00   \n",
       "\n",
       "                     dep  \n",
       "2571 2014-01-01 15:52:00  \n",
       "2624 2014-01-01 18:15:00  \n",
       "2800 2014-01-01 17:47:00  \n",
       "2809 2014-01-01 14:43:00  \n",
       "2854 2014-01-01 21:49:00  "
      ]
     },
     "execution_count": 29,
     "metadata": {},
     "output_type": "execute_result"
    }
   ],
   "source": [
    "%load solutions/indexing_01.py"
   ]
  },
  {
   "cell_type": "markdown",
   "metadata": {},
   "source": [
    "# Position-Based Indexing\n",
    "\n",
    "Uses `.iloc`."
   ]
  },
  {
   "cell_type": "code",
   "execution_count": 33,
   "metadata": {
    "collapsed": false
   },
   "outputs": [
    {
     "data": {
      "text/html": [
       "<div>\n",
       "<table border=\"1\" class=\"dataframe\">\n",
       "  <thead>\n",
       "    <tr style=\"text-align: right;\">\n",
       "      <th></th>\n",
       "      <th>tail_num</th>\n",
       "      <th>fl_num</th>\n",
       "      <th>origin</th>\n",
       "    </tr>\n",
       "  </thead>\n",
       "  <tbody>\n",
       "    <tr>\n",
       "      <th>0</th>\n",
       "      <td>N338AA</td>\n",
       "      <td>1</td>\n",
       "      <td>JFK</td>\n",
       "    </tr>\n",
       "    <tr>\n",
       "      <th>1</th>\n",
       "      <td>N339AA</td>\n",
       "      <td>2</td>\n",
       "      <td>LAX</td>\n",
       "    </tr>\n",
       "  </tbody>\n",
       "</table>\n",
       "</div>"
      ],
      "text/plain": [
       "  tail_num  fl_num origin\n",
       "0   N338AA       1    JFK\n",
       "1   N339AA       2    LAX"
      ]
     },
     "execution_count": 33,
     "metadata": {},
     "output_type": "execute_result"
    }
   ],
   "source": [
    "# select the first two rows, and the 3rd, 4th, and 5th columns\n",
    "flights.iloc[:2, 3:6]"
   ]
  },
  {
   "cell_type": "markdown",
   "metadata": {},
   "source": [
    "The same general form applies. Use `.iloc[row_indexer, column_indexer]`, where an indexer is a scalar or array of **positions**, a slice (by position) or a boolean mask. Notice that the slice is open on the right (like regular python slices)."
   ]
  }
 ],
 "metadata": {
  "kernelspec": {
   "display_name": "ph2t",
   "language": "python",
   "name": "ph2t"
  },
  "language_info": {
   "codemirror_mode": {
    "name": "ipython",
    "version": 3
   },
   "file_extension": ".py",
   "mimetype": "text/x-python",
   "name": "python",
   "nbconvert_exporter": "python",
   "pygments_lexer": "ipython3",
   "version": "3.5.2"
  }
 },
 "nbformat": 4,
 "nbformat_minor": 1
}
