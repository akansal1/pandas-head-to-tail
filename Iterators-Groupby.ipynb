{
 "cells": [
  {
   "cell_type": "markdown",
   "metadata": {},
   "source": [
    "# Iterators\n",
    "\n",
    "My favorite \"feature\" of pandas is that it's written in Python.\n",
    "Python has great language-level features for handling streams of text\n",
    "that don't nescessarily fit in memory."
   ]
  },
  {
   "cell_type": "code",
   "execution_count": 3,
   "metadata": {
    "collapsed": true
   },
   "outputs": [],
   "source": [
    "%matplotlib inline\n",
    "\n",
    "import os\n",
    "import gzip\n",
    "from itertools import islice, takewhile\n",
    "\n",
    "import numpy as np\n",
    "import pandas as pd\n",
    "import seaborn as sns\n",
    "import dask.dataframe as dd\n",
    "from toolz import partition_all, partitionby\n",
    "import matplotlib.pyplot as plt\n",
    "\n",
    "pd.options.display.max_rows = 10"
   ]
  },
  {
   "cell_type": "code",
   "execution_count": 15,
   "metadata": {
    "collapsed": false
   },
   "outputs": [
    {
     "name": "stdout",
     "output_type": "stream",
     "text": [
      "beer/name: Sausa Weizen\n",
      "beer/beerId: 47986\n",
      "beer/brewerId: 10325\n",
      "beer/ABV: 5.00\n",
      "beer/style: Hefeweizen\n",
      "review/appearance: 2.5\n",
      "review/aroma: 2\n",
      "review/palate: 1.5\n",
      "review/taste: 1.5\n",
      "review/overall: 1.5\n",
      "review/time: 1234817823\n",
      "review/profileName: stcules\n",
      "review/text: A lot of foam. But a lot.\tIn the smell some banana, and then lactic and tart. Not a good start.\tQuite dark orange in color, with a lively carbonation (now visible, under the foam).\tAgain tending to lactic sourness.\tSame for the taste. With some yeast and banana.\t\t\n",
      "\n",
      "beer/name: Red Moon\n",
      "beer/beerId: 48213\n",
      "beer/brewerId: 10325\n",
      "beer/ABV: 6.20\n",
      "beer/style: English Strong Ale\n",
      "review/appearance: 3\n",
      "review/aroma: 2.5\n",
      "review/palate: 3\n",
      "review/taste: 3\n",
      "review/overall: 3\n",
      "review/time: 1235915097\n",
      "review/profileName: stcules\n",
      "review/text: Dark red color, light beige foam, average.\tIn the smell malt and caramel, not really light.\tAgain malt and caramel in the taste, not bad in the end.\tMaybe a note of honey in teh back, and a light fruitiness.\tAverage body.\tIn the aftertaste a light bitterness, with the malt and red fruit.\tNothing exceptional, but not bad, drinkable beer.\t\t\n",
      "\n",
      "beer/name: Black Horse Black Beer\n",
      "beer/beerId: 48215\n",
      "beer/brewerId: 10325\n",
      "beer/ABV: 6.50\n",
      "beer/style: Foreign / Export Stout\n",
      "review/appearance: 3\n",
      "review/aroma: 2.5\n",
      "review/palate: 3\n",
      "review/taste: 3\n",
      "review/overall: 3\n",
      "review/time: 1235916604\n",
      "review/profileName: stcules\n",
      "review/text: Almost totally black. Beige foam, quite compact, not bad.\tLight smell, just a bit of roas\n"
     ]
    }
   ],
   "source": [
    "HEADER = 512\n",
    "with gzip.open(\"data/beeradvocate.tar.gz\", \"r\") as f:\n",
    "    f.seek(HEADER)\n",
    "    print(f.read(1500).decode('utf-8'))"
   ]
  },
  {
   "cell_type": "markdown",
   "metadata": {},
   "source": [
    "This is a dataset on beer reviews from beeradvocate.com.\n",
    "It's a plaintext file where\n",
    "\n",
    "- Reviews are separated by blank lines (i.e. the line is just `'\\n'`)\n",
    "- Each field of a review is its own line formated like `meta/field: value`\n",
    "\n",
    "Pandas can't read this file natively, but we have Python!"
   ]
  },
  {
   "cell_type": "markdown",
   "metadata": {},
   "source": [
    "## Developing a solution"
   ]
  },
  {
   "cell_type": "code",
   "execution_count": 48,
   "metadata": {
    "collapsed": false
   },
   "outputs": [
    {
     "data": {
      "text/plain": [
       "512"
      ]
     },
     "execution_count": 48,
     "metadata": {},
     "output_type": "execute_result"
    }
   ],
   "source": [
    "f = gzip.open(\"data/beeradvocate.tar.gz\", \"rt\")\n",
    "f.seek(0)\n",
    "f.seek(HEADER)"
   ]
  },
  {
   "cell_type": "markdown",
   "metadata": {},
   "source": [
    "We can't just read in the entire file into memory.\n",
    "Let's grab the first review using `takewhile` till the first `'\\n'`"
   ]
  },
  {
   "cell_type": "code",
   "execution_count": 18,
   "metadata": {
    "collapsed": true
   },
   "outputs": [],
   "source": [
    "from itertools import takewhile"
   ]
  },
  {
   "cell_type": "code",
   "execution_count": 19,
   "metadata": {
    "collapsed": true
   },
   "outputs": [],
   "source": [
    "takewhile?"
   ]
  },
  {
   "cell_type": "code",
   "execution_count": 50,
   "metadata": {
    "collapsed": false
   },
   "outputs": [
    {
     "data": {
      "text/plain": [
       "['beer/name: Sausa Weizen\\n',\n",
       " 'beer/beerId: 47986\\n',\n",
       " 'beer/brewerId: 10325\\n',\n",
       " 'beer/ABV: 5.00\\n',\n",
       " 'beer/style: Hefeweizen\\n',\n",
       " 'review/appearance: 2.5\\n',\n",
       " 'review/aroma: 2\\n',\n",
       " 'review/palate: 1.5\\n',\n",
       " 'review/taste: 1.5\\n',\n",
       " 'review/overall: 1.5\\n',\n",
       " 'review/time: 1234817823\\n',\n",
       " 'review/profileName: stcules\\n',\n",
       " 'review/text: A lot of foam. But a lot.\\tIn the smell some banana, and then lactic and tart. Not a good start.\\tQuite dark orange in color, with a lively carbonation (now visible, under the foam).\\tAgain tending to lactic sourness.\\tSame for the taste. With some yeast and banana.\\t\\t\\n']"
      ]
     },
     "execution_count": 50,
     "metadata": {},
     "output_type": "execute_result"
    }
   ],
   "source": [
    "first = list(takewhile(lambda x: x != '\\n', f))\n",
    "first"
   ]
  },
  {
   "cell_type": "markdown",
   "metadata": {},
   "source": [
    "That's essentially a dictionary, but we need to split they keys and values, cleanup some line endings."
   ]
  },
  {
   "cell_type": "code",
   "execution_count": 67,
   "metadata": {
    "collapsed": false
   },
   "outputs": [
    {
     "data": {
      "text/plain": [
       "{'beer/ABV': '5.00',\n",
       " 'beer/beerId': '47986',\n",
       " 'beer/brewerId': '10325',\n",
       " 'beer/name': 'Sausa Weizen',\n",
       " 'beer/style': 'Hefeweizen',\n",
       " 'review/appearance': '2.5',\n",
       " 'review/aroma': '2',\n",
       " 'review/overall': '1.5',\n",
       " 'review/palate': '1.5',\n",
       " 'review/profileName': 'stcules',\n",
       " 'review/taste': '1.5',\n",
       " 'review/text': 'A lot of foam. But a lot.\\tIn the smell some banana, and then lactic and tart. Not a good start.\\tQuite dark orange in color, with a lively carbonation (now visible, under the foam).\\tAgain tending to lactic sourness.\\tSame for the taste. With some yeast and banana.\\t\\t',\n",
       " 'review/time': '1234817823'}"
      ]
     },
     "execution_count": 67,
     "metadata": {},
     "output_type": "execute_result"
    }
   ],
   "source": [
    "r = dict([x.strip('\\n').split(\": \", 1) for x in first])\n",
    "r"
   ]
  },
  {
   "cell_type": "markdown",
   "metadata": {},
   "source": [
    "Notice that optional argument to split; If a review had contained a literal `': '`, we'd be in trouble without limiting the split to just 1."
   ]
  },
  {
   "cell_type": "code",
   "execution_count": 59,
   "metadata": {
    "collapsed": false
   },
   "outputs": [
    {
     "data": {
      "text/plain": [
       "['review/text', 'Why I love beer: 1. ']"
      ]
     },
     "execution_count": 59,
     "metadata": {},
     "output_type": "execute_result"
    }
   ],
   "source": [
    "'review/text: Why I love beer: 1. '.split(': ', 1)"
   ]
  },
  {
   "cell_type": "markdown",
   "metadata": {},
   "source": [
    "Lets wrap that up into a function `format_review`"
   ]
  },
  {
   "cell_type": "code",
   "execution_count": 65,
   "metadata": {
    "collapsed": false
   },
   "outputs": [],
   "source": [
    "def format_review(review):\n",
    "    return dict(map(lambda x: x.strip('\\n').split(\": \", 1), review))"
   ]
  },
  {
   "cell_type": "markdown",
   "metadata": {},
   "source": [
    "Assuming we've processed many reviews into a list, we'll then build op a DataFrame."
   ]
  },
  {
   "cell_type": "markdown",
   "metadata": {},
   "source": [
    "We have a bit of dtype work to do:"
   ]
  },
  {
   "cell_type": "code",
   "execution_count": 73,
   "metadata": {
    "collapsed": false
   },
   "outputs": [
    {
     "data": {
      "text/html": [
       "<div>\n",
       "<table border=\"1\" class=\"dataframe\">\n",
       "  <thead>\n",
       "    <tr style=\"text-align: right;\">\n",
       "      <th></th>\n",
       "      <th>abv</th>\n",
       "      <th>beer_id</th>\n",
       "      <th>brewer_id</th>\n",
       "      <th>beer_name</th>\n",
       "      <th>beer_style</th>\n",
       "      <th>review_appearance</th>\n",
       "      <th>review_aroma</th>\n",
       "      <th>review_overall</th>\n",
       "      <th>review_palate</th>\n",
       "      <th>profile_name</th>\n",
       "      <th>review_taste</th>\n",
       "      <th>text</th>\n",
       "      <th>time</th>\n",
       "    </tr>\n",
       "  </thead>\n",
       "  <tbody>\n",
       "    <tr>\n",
       "      <th>0</th>\n",
       "      <td>5.0</td>\n",
       "      <td>47986</td>\n",
       "      <td>10325</td>\n",
       "      <td>Sausa Weizen</td>\n",
       "      <td>Hefeweizen</td>\n",
       "      <td>2.5</td>\n",
       "      <td>2.0</td>\n",
       "      <td>1.5</td>\n",
       "      <td>1.5</td>\n",
       "      <td>stcules</td>\n",
       "      <td>1.5</td>\n",
       "      <td>A lot of foam. But a lot.\\tIn the smell some b...</td>\n",
       "      <td>2009-02-16 20:57:03</td>\n",
       "    </tr>\n",
       "  </tbody>\n",
       "</table>\n",
       "</div>"
      ],
      "text/plain": [
       "   abv beer_id brewer_id     beer_name  beer_style  review_appearance  \\\n",
       "0  5.0   47986     10325  Sausa Weizen  Hefeweizen                2.5   \n",
       "\n",
       "   review_aroma  review_overall  review_palate profile_name  review_taste  \\\n",
       "0           2.0             1.5            1.5      stcules           1.5   \n",
       "\n",
       "                                                text                time  \n",
       "0  A lot of foam. But a lot.\\tIn the smell some b... 2009-02-16 20:57:03  "
      ]
     },
     "execution_count": 73,
     "metadata": {},
     "output_type": "execute_result"
    }
   ],
   "source": [
    "col_names = {\n",
    "    'beer/ABV': 'abv',\n",
    "    'beer/beerId': 'beer_id',\n",
    "    'beer/brewerId': 'brewer_id',\n",
    "    'beer/name': 'beer_name',\n",
    "    'beer/style': 'beer_style',\n",
    "    'review/appearance': 'review_appearance',\n",
    "    'review/aroma': 'review_aroma',\n",
    "    'review/overall': 'review_overall',\n",
    "    'review/palate': 'review_palate',\n",
    "    'review/profileName': 'profile_name',\n",
    "    'review/taste': 'review_taste',\n",
    "    'review/text': 'text',\n",
    "    'review/time': 'time'\n",
    "}\n",
    "df = pd.DataFrame([r])\n",
    "numeric = ['abv', 'review_appearance', 'review_aroma',\n",
    "           'review_overall', 'review_palate', 'review_taste']\n",
    "df = (df.rename(columns=col_names)\n",
    "        .replace('', np.nan))\n",
    "df[numeric] = df[numeric].astype(float)\n",
    "df['time'] = pd.to_datetime(df.time.astype(int), unit='s')\n",
    "df"
   ]
  },
  {
   "cell_type": "markdown",
   "metadata": {},
   "source": [
    "Writing that as a function:"
   ]
  },
  {
   "cell_type": "code",
   "execution_count": 75,
   "metadata": {
    "collapsed": true
   },
   "outputs": [],
   "source": [
    "def as_dataframe(reviews):\n",
    "    col_names = {\n",
    "        'beer/ABV': 'abv',\n",
    "        'beer/beerId': 'beer_id',\n",
    "        'beer/brewerId': 'brewer_id',\n",
    "        'beer/name': 'beer_name',\n",
    "        'beer/style': 'beer_style',\n",
    "        'review/appearance': 'review_appearance',\n",
    "        'review/aroma': 'review_aroma',\n",
    "        'review/overall': 'review_overall',\n",
    "        'review/palate': 'review_palate',\n",
    "        'review/profileName': 'profile_name',\n",
    "        'review/taste': 'review_taste',\n",
    "        'review/text': 'text',\n",
    "        'review/time': 'time'\n",
    "    }\n",
    "    df = pd.DataFrame(list(reviews))\n",
    "    numeric = ['abv', 'review_appearance', 'review_aroma',\n",
    "               'review_overall', 'review_palate', 'review_taste']\n",
    "    df = (df.rename(columns=col_names)\n",
    "            .replace('', np.nan))\n",
    "    df[numeric] = df[numeric].astype(float)\n",
    "    df['time'] = pd.to_datetime(df.time.astype(int), unit='s')\n",
    "    return df"
   ]
  },
  {
   "cell_type": "markdown",
   "metadata": {},
   "source": [
    "And now we can process the files; We'll get a handle for the full dataset, and stream chunks through our little pipeline of\n",
    "\n",
    "1. split reviews on `'\\n'`\n",
    "2. pipe lines through `format_review`, returning a review\n",
    "3. pipe lists of reviews through `as_dataframe`"
   ]
  },
  {
   "cell_type": "code",
   "execution_count": 76,
   "metadata": {
    "collapsed": false
   },
   "outputs": [
    {
     "data": {
      "text/plain": [
       "<generator object <genexpr> at 0x111072728>"
      ]
     },
     "execution_count": 76,
     "metadata": {},
     "output_type": "execute_result"
    }
   ],
   "source": [
    "(x for x in f)"
   ]
  },
  {
   "cell_type": "markdown",
   "metadata": {
    "collapsed": false
   },
   "source": [
    "```python\n",
    "with gzip.open(\"data/beeradvocate.tar.gz\", \"rt\") as f:\n",
    "    f.seek(HEADER)\n",
    "    lines = (x for x in f if not x.startswith('\\x00'))\n",
    "    review_lines = filter(lambda x: x != ('\\n',),\n",
    "                          partitionby(lambda x: x == '\\n', lines))\n",
    "    reviews = (format_review(x) for x in review_lines)\n",
    "    chunks = partition_all(100000, reviews)\n",
    "\n",
    "    dfs = (as_dataframe(chunk) for chunk in chunks)\n",
    "    os.makedirs(\"data/beer/\", exist_ok=True)\n",
    "\n",
    "    for i, df in enumerate(dfs):\n",
    "        df.to_csv(\"data/beer/chunk_%s.csv.gz\" % i, index=False,\n",
    "                  compression=\"gzip\")\n",
    "        print(i)\n",
    "```"
   ]
  },
  {
   "cell_type": "code",
   "execution_count": 5,
   "metadata": {
    "collapsed": false
   },
   "outputs": [
    {
     "name": "stdout",
     "output_type": "stream",
     "text": [
      "\u001b[31mcpi.csv\u001b[m\u001b[m           \u001b[31mgames.csv\u001b[m\u001b[m         ny-flights.csv.gz\r\n",
      "\u001b[31mflights.csv.zip\u001b[m\u001b[m   \u001b[31mgdp.csv\u001b[m\u001b[m           \u001b[31msubset.csv.gz\u001b[m\u001b[m\r\n"
     ]
    }
   ],
   "source": [
    "!ls data/"
   ]
  },
  {
   "cell_type": "markdown",
   "metadata": {},
   "source": [
    "# Using Dask\n",
    "\n",
    "The row order in the raw file seemed to be random. I wanted to grab\n",
    "out an interesting subset: All reviews by the top 750 reviewers.\n",
    "\n",
    "Again, we have the problem that the dataset doesn't quite fit in memory.\n",
    "We could manually loop through the list of CSVs, keeping track of the count\n",
    "of reviews per reviewer, manually freeing the memory after finishing that\n",
    "CSV, but we'll let dask do it for us."
   ]
  },
  {
   "cell_type": "code",
   "execution_count": 78,
   "metadata": {
    "collapsed": true
   },
   "outputs": [],
   "source": [
    "import dask.dataframe as dd\n",
    "\n",
    "from dask.diagnostics import ResourceProfiler, ProgressBar\n",
    "prof = ResourceProfiler()\n",
    "pbar = ProgressBar()"
   ]
  },
  {
   "cell_type": "code",
   "execution_count": 83,
   "metadata": {
    "collapsed": false
   },
   "outputs": [
    {
     "data": {
      "text/plain": [
       "dd.DataFrame<from-de..., npartitions=17>"
      ]
     },
     "execution_count": 83,
     "metadata": {},
     "output_type": "execute_result"
    }
   ],
   "source": [
    "# read in df, note that it's `dd.read_csv`\n",
    "df = dd.read_csv(\"data/beer/*.csv.gz\", blocksize=None, parse_dates=['time'],\n",
    "                 compression='gzip')\n",
    "df"
   ]
  },
  {
   "cell_type": "markdown",
   "metadata": {},
   "source": [
    "Haven't actually done anything yet; Just collected some metadata.\n",
    "\n",
    "Now let's get the counts."
   ]
  },
  {
   "cell_type": "code",
   "execution_count": 86,
   "metadata": {
    "collapsed": false
   },
   "outputs": [
    {
     "data": {
      "text/plain": [
       "dd.Series<value-c..., npartitions=1>"
      ]
     },
     "execution_count": 86,
     "metadata": {},
     "output_type": "execute_result"
    }
   ],
   "source": [
    "vc = df.profile_name.value_counts()\n",
    "vc"
   ]
  },
  {
   "cell_type": "markdown",
   "metadata": {},
   "source": [
    "Well, we still haven't done anything; Need to actually call `.compute` to trigger that."
   ]
  },
  {
   "cell_type": "code",
   "execution_count": 87,
   "metadata": {
    "collapsed": false
   },
   "outputs": [
    {
     "name": "stdout",
     "output_type": "stream",
     "text": [
      "[########################################] | 100% Completed | 29.2s\n"
     ]
    }
   ],
   "source": [
    "with pbar, prof:\n",
    "    profiles = vc.compute().index[:750]"
   ]
  },
  {
   "cell_type": "code",
   "execution_count": 91,
   "metadata": {
    "collapsed": false
   },
   "outputs": [
    {
     "data": {
      "text/plain": [
       "Index(['northyorksammy', 'BuckeyeNation', 'NeroFiddled', 'feloniousmonk',\n",
       "       'mikesgroove', 'oberon', 'Gusler', 'WesWes', 'Jason', 'Bighuge',\n",
       "       ...\n",
       "       'GRPunk', 'shand', 'Minkybut', 'JamnesCameron', 'brownbeer', 'gmfessen',\n",
       "       'JRed', 'ColdPoncho', 'Gosox8787', 'Vonerichs'],\n",
       "      dtype='object', length=750)"
      ]
     },
     "execution_count": 91,
     "metadata": {},
     "output_type": "execute_result"
    }
   ],
   "source": [
    "profiles"
   ]
  },
  {
   "cell_type": "code",
   "execution_count": 88,
   "metadata": {
    "collapsed": false
   },
   "outputs": [
    {
     "name": "stderr",
     "output_type": "stream",
     "text": [
      "WARNING:/Users/tom.augspurger/miniconda3/envs/uni/lib/python3.5/site-packages/bokeh/core/validation/check.py:W-1005 (SNAPPED_TOOLBAR_ANNOTATIONS): Snapped toolbars and annotations on the same side MAY overlap visually: Figure(id='5c7a4745-c8e2-4dd1-97c7-ddf3c7f1fc97', ...)\n",
      "WARNING:/Users/tom.augspurger/miniconda3/envs/uni/lib/python3.5/site-packages/bokeh/core/validation/check.py:W-1005 (SNAPPED_TOOLBAR_ANNOTATIONS): Snapped toolbars and annotations on the same side MAY overlap visually: Figure(id='5c7a4745-c8e2-4dd1-97c7-ddf3c7f1fc97', ...)\n"
     ]
    }
   ],
   "source": [
    "prof.visualize();"
   ]
  },
  {
   "cell_type": "code",
   "execution_count": 89,
   "metadata": {
    "collapsed": false
   },
   "outputs": [
    {
     "name": "stdout",
     "output_type": "stream",
     "text": [
      "[########################################] | 100% Completed | 30.3s\n"
     ]
    }
   ],
   "source": [
    "with prof, pbar:\n",
    "    sdf = df[df.profile_name.isin(profiles)].compute()"
   ]
  },
  {
   "cell_type": "code",
   "execution_count": 90,
   "metadata": {
    "collapsed": false
   },
   "outputs": [
    {
     "data": {
      "text/plain": [
       "852610"
      ]
     },
     "execution_count": 90,
     "metadata": {},
     "output_type": "execute_result"
    }
   ],
   "source": [
    "len(sdf)"
   ]
  },
  {
   "cell_type": "markdown",
   "metadata": {
    "collapsed": true
   },
   "source": [
    "```python\n",
    "sdf.sort_values('time').head(100000).to_csv(\n",
    "    \"data/beer/subset.csv.gz\", compression=\"gzip\")\n",
    "```"
   ]
  },
  {
   "cell_type": "code",
   "execution_count": 34,
   "metadata": {
    "collapsed": true
   },
   "outputs": [],
   "source": [
    "%xdel sdf"
   ]
  },
  {
   "cell_type": "markdown",
   "metadata": {},
   "source": [
    "# Aside: Python & Parallelism\n",
    "\n",
    "Python has a slightly complicated concurrency & parallelism story.\n",
    "The first thing you'll hear is that, \"Python has a GIL, so you should never use threads\".\n",
    "\n",
    "The GIL, or \"Global Interpreter Lock\", is a CPython implementation detail that makes you writing CPython itself easier. The general idea is that only one thread touching *python* objects can run at a time. [David Beazley](http://www.dabeaz.com/GIL/) is the person to listen to on this subject.\n",
    "You can end up with the strange case where adding threads actually slows down the computation.\n",
    "\n",
    "The usual answer among python programmers is to use MultiProcessing. Oversimplifying again, this essentailly starts a new python interpreter, serializes and copys all the objects in your runtime, and starts the task. Any results are serialized and sent back to the main processes. It's that serialization overhead that can be prohibitively costly for scientific python. We'd much prefer the shared-memory parallelism offered by threads.\n",
    "\n",
    "Fortunately for us, a lot of the scientific stack is written in C or Fortran. Above, I noted that the GIL only applies to *python* objects. A library using compiled extensions *can* release the GIL. Anthing built on top of\n",
    "\n",
    "- NumPy\n",
    "- SciPy\n",
    "- Numba (if requested)\n",
    "- scikit-learn\n",
    "- scikit-image\n",
    "- pandas*\n",
    " \n",
    "Will have be able to use threads just fine. The asterisk is there for pandas because not bit of C code releases the GIL. Thanks to Jeff Reback's work, (at the prompting of Matthew Rocklin, who has [written about this](http://matthewrocklin.com/blog/work/2015/03/10/PyData-GIL)). A rough list includes\n",
    "\n",
    "- groupby\n",
    "- nsmallest\n",
    "- value_counts\n",
    "- factorize (used in Groupby)\n",
    "- Some datetime operations\n",
    "- parts of read_csv\n",
    "\n",
    "For the most part, you as a user don't have anything to worry about. Just use dask, and you'll get shared-memory parallelism for free."
   ]
  },
  {
   "cell_type": "code",
   "execution_count": 7,
   "metadata": {
    "collapsed": false
   },
   "outputs": [
    {
     "data": {
      "text/html": [
       "<div>\n",
       "<table border=\"1\" class=\"dataframe\">\n",
       "  <thead>\n",
       "    <tr style=\"text-align: right;\">\n",
       "      <th></th>\n",
       "      <th>abv</th>\n",
       "      <th>beer_id</th>\n",
       "      <th>brewer_id</th>\n",
       "      <th>beer_name</th>\n",
       "      <th>beer_style</th>\n",
       "      <th>review_appearance</th>\n",
       "      <th>review_aroma</th>\n",
       "      <th>review_overall</th>\n",
       "      <th>review_palate</th>\n",
       "      <th>profile_name</th>\n",
       "      <th>review_taste</th>\n",
       "      <th>text</th>\n",
       "      <th>time</th>\n",
       "    </tr>\n",
       "  </thead>\n",
       "  <tbody>\n",
       "    <tr>\n",
       "      <th>0</th>\n",
       "      <td>5.3</td>\n",
       "      <td>93</td>\n",
       "      <td>33</td>\n",
       "      <td>Steel Rail Extra Pale Ale</td>\n",
       "      <td>American Pale Ale (APA)</td>\n",
       "      <td>3.5</td>\n",
       "      <td>3.5</td>\n",
       "      <td>4.0</td>\n",
       "      <td>4.0</td>\n",
       "      <td>Todd</td>\n",
       "      <td>4.0</td>\n",
       "      <td>Presentation: Pint size, on tap from the Easts...</td>\n",
       "      <td>1996-08-22 00:00:01</td>\n",
       "    </tr>\n",
       "    <tr>\n",
       "      <th>1</th>\n",
       "      <td>17.5</td>\n",
       "      <td>111</td>\n",
       "      <td>35</td>\n",
       "      <td>Samuel Adams Triple Bock</td>\n",
       "      <td>American Strong Ale</td>\n",
       "      <td>3.0</td>\n",
       "      <td>4.0</td>\n",
       "      <td>4.0</td>\n",
       "      <td>4.5</td>\n",
       "      <td>Todd</td>\n",
       "      <td>4.5</td>\n",
       "      <td>Presentation: 8.45oz blue bottle with gold let...</td>\n",
       "      <td>1998-01-10 00:00:01</td>\n",
       "    </tr>\n",
       "    <tr>\n",
       "      <th>2</th>\n",
       "      <td>NaN</td>\n",
       "      <td>110</td>\n",
       "      <td>35</td>\n",
       "      <td>Samuel Adams Cream Ale</td>\n",
       "      <td>Cream Ale</td>\n",
       "      <td>4.5</td>\n",
       "      <td>4.0</td>\n",
       "      <td>4.5</td>\n",
       "      <td>4.0</td>\n",
       "      <td>Jason</td>\n",
       "      <td>4.5</td>\n",
       "      <td>Presentation: Pint. On tap at the Samuel Adams...</td>\n",
       "      <td>1998-01-28 00:00:01</td>\n",
       "    </tr>\n",
       "    <tr>\n",
       "      <th>3</th>\n",
       "      <td>5.2</td>\n",
       "      <td>148</td>\n",
       "      <td>45</td>\n",
       "      <td>Brooklyn Lager</td>\n",
       "      <td>American Amber / Red Lager</td>\n",
       "      <td>3.0</td>\n",
       "      <td>2.5</td>\n",
       "      <td>4.0</td>\n",
       "      <td>3.5</td>\n",
       "      <td>Todd</td>\n",
       "      <td>3.5</td>\n",
       "      <td>Presentation: 12 oz. brown bottle with a clear...</td>\n",
       "      <td>1998-02-11 00:00:01</td>\n",
       "    </tr>\n",
       "    <tr>\n",
       "      <th>4</th>\n",
       "      <td>5.6</td>\n",
       "      <td>325</td>\n",
       "      <td>100</td>\n",
       "      <td>McNeill's Firehouse Amber Ale</td>\n",
       "      <td>American Amber / Red Ale</td>\n",
       "      <td>3.5</td>\n",
       "      <td>3.5</td>\n",
       "      <td>4.0</td>\n",
       "      <td>3.5</td>\n",
       "      <td>Todd</td>\n",
       "      <td>4.0</td>\n",
       "      <td>Presentation: An old picture of firehouse with...</td>\n",
       "      <td>1998-02-14 00:00:01</td>\n",
       "    </tr>\n",
       "  </tbody>\n",
       "</table>\n",
       "</div>"
      ],
      "text/plain": [
       "    abv  beer_id  brewer_id                      beer_name  \\\n",
       "0   5.3       93         33      Steel Rail Extra Pale Ale   \n",
       "1  17.5      111         35       Samuel Adams Triple Bock   \n",
       "2   NaN      110         35         Samuel Adams Cream Ale   \n",
       "3   5.2      148         45                 Brooklyn Lager   \n",
       "4   5.6      325        100  McNeill's Firehouse Amber Ale   \n",
       "\n",
       "                   beer_style  review_appearance  review_aroma  \\\n",
       "0     American Pale Ale (APA)                3.5           3.5   \n",
       "1         American Strong Ale                3.0           4.0   \n",
       "2                   Cream Ale                4.5           4.0   \n",
       "3  American Amber / Red Lager                3.0           2.5   \n",
       "4    American Amber / Red Ale                3.5           3.5   \n",
       "\n",
       "   review_overall  review_palate profile_name  review_taste  \\\n",
       "0             4.0            4.0         Todd           4.0   \n",
       "1             4.0            4.5         Todd           4.5   \n",
       "2             4.5            4.0        Jason           4.5   \n",
       "3             4.0            3.5         Todd           3.5   \n",
       "4             4.0            3.5         Todd           4.0   \n",
       "\n",
       "                                                text                time  \n",
       "0  Presentation: Pint size, on tap from the Easts... 1996-08-22 00:00:01  \n",
       "1  Presentation: 8.45oz blue bottle with gold let... 1998-01-10 00:00:01  \n",
       "2  Presentation: Pint. On tap at the Samuel Adams... 1998-01-28 00:00:01  \n",
       "3  Presentation: 12 oz. brown bottle with a clear... 1998-02-11 00:00:01  \n",
       "4  Presentation: An old picture of firehouse with... 1998-02-14 00:00:01  "
      ]
     },
     "execution_count": 7,
     "metadata": {},
     "output_type": "execute_result"
    }
   ],
   "source": [
    "df = pd.read_csv(\"data/subset.csv.gz\", compression=\"gzip\",\n",
    "                 parse_dates=['time'])\n",
    "df.head()"
   ]
  },
  {
   "cell_type": "code",
   "execution_count": 10,
   "metadata": {
    "collapsed": false
   },
   "outputs": [
    {
     "data": {
      "text/plain": [
       "Gusler           1949\n",
       "NeroFiddled      1702\n",
       "feloniousmonk    1677\n",
       "Jason            1616\n",
       "francisweizen    1485\n",
       "                 ... \n",
       "IronDjinn         437\n",
       "edchicma          431\n",
       "Crosling          418\n",
       "BeerManDan        415\n",
       "Tballz420         408\n",
       "Name: profile_name, dtype: int64"
      ]
     },
     "execution_count": 10,
     "metadata": {},
     "output_type": "execute_result"
    }
   ],
   "source": [
    "df.profile_name.value_counts()"
   ]
  },
  {
   "cell_type": "markdown",
   "metadata": {},
   "source": [
    "# Aside: Namespaces\n",
    "\n",
    "Pandas has been expanding its use of namespaces (or accessors) on `DataFrame` to group together related methods. This also limits the number of methods direclty attached to `DataFrame` itself, which can be overwhelming.\n",
    "\n",
    "Currently, we have these namespaces:\n",
    "\n",
    "- `.str`: defined on `Series` and `Index`es containing strings (object dtype)\n",
    "- `.dt`: defined on `Series` with `datetime` or `timedelta` dtype\n",
    "- `.cat`: defined on `Series` and `Indexes` with `category` dtype\n",
    "- `.plot`: defined on `Series` and `DataFrames`"
   ]
  },
  {
   "cell_type": "markdown",
   "metadata": {},
   "source": [
    "<div class=\"alert alert-success\">\n",
    "  <h1><i class=\"fa fa-tasks\" aria-hidden=\"true\"></i> Exercise</h1>\n",
    "</div>\n",
    "\n",
    "Make a barplot of the count of reviews by hour of the day.\n",
    "\n",
    "- Hint: Use the `.dt` namespace to get the `hour` component of a `datetime`\n",
    "- Use the `.plot` namespace to get a `bar` chart"
   ]
  },
  {
   "cell_type": "code",
   "execution_count": 11,
   "metadata": {
    "collapsed": false
   },
   "outputs": [
    {
     "data": {
      "image/png": "[encoded data removed]",
      "text/plain": [
       "<matplotlib.figure.Figure at 0x119b40748>"
      ]
     },
     "metadata": {},
     "output_type": "display_data"
    }
   ],
   "source": [
    "df.time.dt.hour.value_counts().sort_index().plot.bar(color='black', width=.85, rot=0);"
   ]
  },
  {
   "cell_type": "code",
   "execution_count": 61,
   "metadata": {
    "collapsed": false
   },
   "outputs": [
    {
     "data": {
      "image/png": "[encoded data removed]",
      "text/plain": [
       "<matplotlib.figure.Figure at 0x123005c50>"
      ]
     },
     "metadata": {},
     "output_type": "display_data"
    }
   ],
   "source": [
    "%load solutions/groupby_03.py"
   ]
  },
  {
   "cell_type": "markdown",
   "metadata": {},
   "source": [
    "<div class=\"alert alert-success\">\n",
    "  <h1><i class=\"fa fa-tasks\" aria-hidden=\"true\"></i> Exercise</h1>\n",
    "</div>\n",
    "\n",
    "Make a variable `pale_ales` that filters `df` to just rows containing `'pale ale'` (ignoring case)"
   ]
  },
  {
   "cell_type": "code",
   "execution_count": 14,
   "metadata": {
    "collapsed": false
   },
   "outputs": [
    {
     "data": {
      "text/html": [
       "<div>\n",
       "<table border=\"1\" class=\"dataframe\">\n",
       "  <thead>\n",
       "    <tr style=\"text-align: right;\">\n",
       "      <th></th>\n",
       "      <th>abv</th>\n",
       "      <th>beer_id</th>\n",
       "      <th>brewer_id</th>\n",
       "      <th>beer_name</th>\n",
       "      <th>beer_style</th>\n",
       "      <th>review_appearance</th>\n",
       "      <th>review_aroma</th>\n",
       "      <th>review_overall</th>\n",
       "      <th>review_palate</th>\n",
       "      <th>profile_name</th>\n",
       "      <th>review_taste</th>\n",
       "      <th>text</th>\n",
       "      <th>time</th>\n",
       "    </tr>\n",
       "  </thead>\n",
       "  <tbody>\n",
       "    <tr>\n",
       "      <th>0</th>\n",
       "      <td>5.3</td>\n",
       "      <td>93</td>\n",
       "      <td>33</td>\n",
       "      <td>Steel Rail Extra Pale Ale</td>\n",
       "      <td>American Pale Ale (APA)</td>\n",
       "      <td>3.5</td>\n",
       "      <td>3.5</td>\n",
       "      <td>4.0</td>\n",
       "      <td>4.0</td>\n",
       "      <td>Todd</td>\n",
       "      <td>4.0</td>\n",
       "      <td>Presentation: Pint size, on tap from the Easts...</td>\n",
       "      <td>1996-08-22 00:00:01</td>\n",
       "    </tr>\n",
       "    <tr>\n",
       "      <th>5</th>\n",
       "      <td>5.5</td>\n",
       "      <td>324</td>\n",
       "      <td>100</td>\n",
       "      <td>McNeill's Champ Ale</td>\n",
       "      <td>American Pale Ale (APA)</td>\n",
       "      <td>4.0</td>\n",
       "      <td>3.5</td>\n",
       "      <td>4.0</td>\n",
       "      <td>3.0</td>\n",
       "      <td>Todd</td>\n",
       "      <td>3.5</td>\n",
       "      <td>Presentation: 12 oz. bottle. Another story on ...</td>\n",
       "      <td>1998-02-17 00:00:01</td>\n",
       "    </tr>\n",
       "    <tr>\n",
       "      <th>11</th>\n",
       "      <td>5.0</td>\n",
       "      <td>264</td>\n",
       "      <td>6994</td>\n",
       "      <td>Alexander Keith's India Pale Ale</td>\n",
       "      <td>English India Pale Ale (IPA)</td>\n",
       "      <td>2.5</td>\n",
       "      <td>2.5</td>\n",
       "      <td>4.0</td>\n",
       "      <td>3.0</td>\n",
       "      <td>Todd</td>\n",
       "      <td>2.5</td>\n",
       "      <td>Presentation: 12oz brown twisty, with a red st...</td>\n",
       "      <td>1998-04-16 00:00:01</td>\n",
       "    </tr>\n",
       "    <tr>\n",
       "      <th>17</th>\n",
       "      <td>7.6</td>\n",
       "      <td>411</td>\n",
       "      <td>112</td>\n",
       "      <td>Pranqster</td>\n",
       "      <td>Belgian Strong Pale Ale</td>\n",
       "      <td>4.0</td>\n",
       "      <td>4.0</td>\n",
       "      <td>5.0</td>\n",
       "      <td>5.0</td>\n",
       "      <td>Todd</td>\n",
       "      <td>5.0</td>\n",
       "      <td>Presentation: 12oz fat twisty with a black&amp;whi...</td>\n",
       "      <td>1998-06-01 00:00:01</td>\n",
       "    </tr>\n",
       "    <tr>\n",
       "      <th>30</th>\n",
       "      <td>5.5</td>\n",
       "      <td>6900</td>\n",
       "      <td>495</td>\n",
       "      <td>Nor'Wester Oregon Pale Ale</td>\n",
       "      <td>American Pale Ale (APA)</td>\n",
       "      <td>4.0</td>\n",
       "      <td>4.5</td>\n",
       "      <td>4.0</td>\n",
       "      <td>4.0</td>\n",
       "      <td>Jason</td>\n",
       "      <td>4.5</td>\n",
       "      <td>Copper colour on the light side with a decent ...</td>\n",
       "      <td>1998-08-16 09:35:25</td>\n",
       "    </tr>\n",
       "    <tr>\n",
       "      <th>...</th>\n",
       "      <td>...</td>\n",
       "      <td>...</td>\n",
       "      <td>...</td>\n",
       "      <td>...</td>\n",
       "      <td>...</td>\n",
       "      <td>...</td>\n",
       "      <td>...</td>\n",
       "      <td>...</td>\n",
       "      <td>...</td>\n",
       "      <td>...</td>\n",
       "      <td>...</td>\n",
       "      <td>...</td>\n",
       "      <td>...</td>\n",
       "    </tr>\n",
       "    <tr>\n",
       "      <th>75951</th>\n",
       "      <td>NaN</td>\n",
       "      <td>24029</td>\n",
       "      <td>1154</td>\n",
       "      <td>Willoughby Extra Pale Belgian Ale</td>\n",
       "      <td>Belgian Pale Ale</td>\n",
       "      <td>3.5</td>\n",
       "      <td>3.0</td>\n",
       "      <td>4.0</td>\n",
       "      <td>3.5</td>\n",
       "      <td>Dogbrick</td>\n",
       "      <td>3.0</td>\n",
       "      <td>On draught at 69 Taps in Akron. Lightly-hazed ...</td>\n",
       "      <td>2005-06-01 02:58:21</td>\n",
       "    </tr>\n",
       "    <tr>\n",
       "      <th>75956</th>\n",
       "      <td>5.0</td>\n",
       "      <td>5653</td>\n",
       "      <td>2210</td>\n",
       "      <td>Double Barrel Ale</td>\n",
       "      <td>English Pale Ale</td>\n",
       "      <td>4.0</td>\n",
       "      <td>4.0</td>\n",
       "      <td>4.0</td>\n",
       "      <td>3.5</td>\n",
       "      <td>BuckeyeNation</td>\n",
       "      <td>4.0</td>\n",
       "      <td>Bright coppery orange with maize colored accen...</td>\n",
       "      <td>2005-06-01 13:47:58</td>\n",
       "    </tr>\n",
       "    <tr>\n",
       "      <th>75977</th>\n",
       "      <td>NaN</td>\n",
       "      <td>17662</td>\n",
       "      <td>2423</td>\n",
       "      <td>Pale Ale</td>\n",
       "      <td>American Pale Ale (APA)</td>\n",
       "      <td>4.0</td>\n",
       "      <td>3.0</td>\n",
       "      <td>4.0</td>\n",
       "      <td>3.5</td>\n",
       "      <td>bditty187</td>\n",
       "      <td>4.0</td>\n",
       "      <td>Chill-haze, coppery-gold in hue, I think, the ...</td>\n",
       "      <td>2005-06-01 18:34:12</td>\n",
       "    </tr>\n",
       "    <tr>\n",
       "      <th>76002</th>\n",
       "      <td>5.0</td>\n",
       "      <td>2993</td>\n",
       "      <td>932</td>\n",
       "      <td>Hale's Moss Bay Extra</td>\n",
       "      <td>American Pale Ale (APA)</td>\n",
       "      <td>4.5</td>\n",
       "      <td>4.5</td>\n",
       "      <td>4.0</td>\n",
       "      <td>4.0</td>\n",
       "      <td>WesWes</td>\n",
       "      <td>4.0</td>\n",
       "      <td>The beer pours a ruby red color with a thick f...</td>\n",
       "      <td>2005-06-01 23:39:18</td>\n",
       "    </tr>\n",
       "    <tr>\n",
       "      <th>76009</th>\n",
       "      <td>NaN</td>\n",
       "      <td>24035</td>\n",
       "      <td>1177</td>\n",
       "      <td>Galena Pale Ale</td>\n",
       "      <td>American Pale Ale (APA)</td>\n",
       "      <td>4.0</td>\n",
       "      <td>4.0</td>\n",
       "      <td>4.0</td>\n",
       "      <td>4.5</td>\n",
       "      <td>feloniousmonk</td>\n",
       "      <td>4.5</td>\n",
       "      <td>Clear, coppery/ amber hue, good, creamy dollop...</td>\n",
       "      <td>2005-06-02 01:31:22</td>\n",
       "    </tr>\n",
       "  </tbody>\n",
       "</table>\n",
       "<p>9514 rows × 13 columns</p>\n",
       "</div>"
      ],
      "text/plain": [
       "       abv  beer_id  brewer_id                          beer_name  \\\n",
       "0      5.3       93         33          Steel Rail Extra Pale Ale   \n",
       "5      5.5      324        100                McNeill's Champ Ale   \n",
       "11     5.0      264       6994   Alexander Keith's India Pale Ale   \n",
       "17     7.6      411        112                          Pranqster   \n",
       "30     5.5     6900        495         Nor'Wester Oregon Pale Ale   \n",
       "...    ...      ...        ...                                ...   \n",
       "75951  NaN    24029       1154  Willoughby Extra Pale Belgian Ale   \n",
       "75956  5.0     5653       2210                  Double Barrel Ale   \n",
       "75977  NaN    17662       2423                           Pale Ale   \n",
       "76002  5.0     2993        932              Hale's Moss Bay Extra   \n",
       "76009  NaN    24035       1177                    Galena Pale Ale   \n",
       "\n",
       "                         beer_style  review_appearance  review_aroma  \\\n",
       "0           American Pale Ale (APA)                3.5           3.5   \n",
       "5           American Pale Ale (APA)                4.0           3.5   \n",
       "11     English India Pale Ale (IPA)                2.5           2.5   \n",
       "17          Belgian Strong Pale Ale                4.0           4.0   \n",
       "30          American Pale Ale (APA)                4.0           4.5   \n",
       "...                             ...                ...           ...   \n",
       "75951              Belgian Pale Ale                3.5           3.0   \n",
       "75956              English Pale Ale                4.0           4.0   \n",
       "75977       American Pale Ale (APA)                4.0           3.0   \n",
       "76002       American Pale Ale (APA)                4.5           4.5   \n",
       "76009       American Pale Ale (APA)                4.0           4.0   \n",
       "\n",
       "       review_overall  review_palate   profile_name  review_taste  \\\n",
       "0                 4.0            4.0           Todd           4.0   \n",
       "5                 4.0            3.0           Todd           3.5   \n",
       "11                4.0            3.0           Todd           2.5   \n",
       "17                5.0            5.0           Todd           5.0   \n",
       "30                4.0            4.0          Jason           4.5   \n",
       "...               ...            ...            ...           ...   \n",
       "75951             4.0            3.5       Dogbrick           3.0   \n",
       "75956             4.0            3.5  BuckeyeNation           4.0   \n",
       "75977             4.0            3.5      bditty187           4.0   \n",
       "76002             4.0            4.0         WesWes           4.0   \n",
       "76009             4.0            4.5  feloniousmonk           4.5   \n",
       "\n",
       "                                                    text                time  \n",
       "0      Presentation: Pint size, on tap from the Easts... 1996-08-22 00:00:01  \n",
       "5      Presentation: 12 oz. bottle. Another story on ... 1998-02-17 00:00:01  \n",
       "11     Presentation: 12oz brown twisty, with a red st... 1998-04-16 00:00:01  \n",
       "17     Presentation: 12oz fat twisty with a black&whi... 1998-06-01 00:00:01  \n",
       "30     Copper colour on the light side with a decent ... 1998-08-16 09:35:25  \n",
       "...                                                  ...                 ...  \n",
       "75951  On draught at 69 Taps in Akron. Lightly-hazed ... 2005-06-01 02:58:21  \n",
       "75956  Bright coppery orange with maize colored accen... 2005-06-01 13:47:58  \n",
       "75977  Chill-haze, coppery-gold in hue, I think, the ... 2005-06-01 18:34:12  \n",
       "76002  The beer pours a ruby red color with a thick f... 2005-06-01 23:39:18  \n",
       "76009  Clear, coppery/ amber hue, good, creamy dollop... 2005-06-02 01:31:22  \n",
       "\n",
       "[9514 rows x 13 columns]"
      ]
     },
     "execution_count": 14,
     "metadata": {},
     "output_type": "execute_result"
    }
   ],
   "source": [
    "pale_ales = df.beer_style.str.lower().str.contains('pale ale')\n",
    "df.loc[pale_ales]"
   ]
  },
  {
   "cell_type": "code",
   "execution_count": 65,
   "metadata": {
    "collapsed": false
   },
   "outputs": [
    {
     "data": {
      "text/html": [
       "<div>\n",
       "<table border=\"1\" class=\"dataframe\">\n",
       "  <thead>\n",
       "    <tr style=\"text-align: right;\">\n",
       "      <th></th>\n",
       "      <th>abv</th>\n",
       "      <th>beer_id</th>\n",
       "      <th>brewer_id</th>\n",
       "      <th>beer_name</th>\n",
       "      <th>beer_style</th>\n",
       "      <th>review_appearance</th>\n",
       "      <th>review_aroma</th>\n",
       "      <th>review_overall</th>\n",
       "      <th>review_palate</th>\n",
       "      <th>profile_name</th>\n",
       "      <th>review_taste</th>\n",
       "      <th>text</th>\n",
       "      <th>time</th>\n",
       "    </tr>\n",
       "  </thead>\n",
       "  <tbody>\n",
       "    <tr>\n",
       "      <th>64529</th>\n",
       "      <td>5.3</td>\n",
       "      <td>93</td>\n",
       "      <td>33</td>\n",
       "      <td>Steel Rail Extra Pale Ale</td>\n",
       "      <td>American Pale Ale (APA)</td>\n",
       "      <td>3.5</td>\n",
       "      <td>3.5</td>\n",
       "      <td>4.0</td>\n",
       "      <td>4.0</td>\n",
       "      <td>Todd</td>\n",
       "      <td>4.0</td>\n",
       "      <td>Presentation: Pint size, on tap from the Easts...</td>\n",
       "      <td>1996-08-22 00:00:01</td>\n",
       "    </tr>\n",
       "    <tr>\n",
       "      <th>26093</th>\n",
       "      <td>6.8</td>\n",
       "      <td>147</td>\n",
       "      <td>45</td>\n",
       "      <td>Brooklyn East India Pale Ale</td>\n",
       "      <td>English India Pale Ale (IPA)</td>\n",
       "      <td>3.0</td>\n",
       "      <td>4.0</td>\n",
       "      <td>3.0</td>\n",
       "      <td>3.0</td>\n",
       "      <td>BeerAdvocate</td>\n",
       "      <td>3.0</td>\n",
       "      <td>Presentation: The Brooklyn Brewery style logo ...</td>\n",
       "      <td>1998-02-14 00:00:01</td>\n",
       "    </tr>\n",
       "    <tr>\n",
       "      <th>27201</th>\n",
       "      <td>5.0</td>\n",
       "      <td>264</td>\n",
       "      <td>6994</td>\n",
       "      <td>Alexander Keith's India Pale Ale</td>\n",
       "      <td>English India Pale Ale (IPA)</td>\n",
       "      <td>2.5</td>\n",
       "      <td>2.5</td>\n",
       "      <td>4.0</td>\n",
       "      <td>3.0</td>\n",
       "      <td>Todd</td>\n",
       "      <td>2.5</td>\n",
       "      <td>Presentation: 12oz brown twisty, with a red st...</td>\n",
       "      <td>1998-04-16 00:00:01</td>\n",
       "    </tr>\n",
       "    <tr>\n",
       "      <th>29695</th>\n",
       "      <td>4.5</td>\n",
       "      <td>302</td>\n",
       "      <td>138</td>\n",
       "      <td>India Pale Ale</td>\n",
       "      <td>English India Pale Ale (IPA)</td>\n",
       "      <td>3.5</td>\n",
       "      <td>3.5</td>\n",
       "      <td>3.5</td>\n",
       "      <td>3.0</td>\n",
       "      <td>BeerAdvocate</td>\n",
       "      <td>4.0</td>\n",
       "      <td>Presentation: 12oz. clear bottle (wide w/thin ...</td>\n",
       "      <td>1998-04-23 00:00:01</td>\n",
       "    </tr>\n",
       "    <tr>\n",
       "      <th>21013</th>\n",
       "      <td>5.4</td>\n",
       "      <td>186</td>\n",
       "      <td>141</td>\n",
       "      <td>Smuttynose Shoals Pale Ale</td>\n",
       "      <td>American Pale Ale (APA)</td>\n",
       "      <td>3.0</td>\n",
       "      <td>3.5</td>\n",
       "      <td>4.0</td>\n",
       "      <td>4.0</td>\n",
       "      <td>BeerAdvocate</td>\n",
       "      <td>4.0</td>\n",
       "      <td>Presentation: 12 oz bottle with a picture of t...</td>\n",
       "      <td>1998-05-05 00:00:01</td>\n",
       "    </tr>\n",
       "  </tbody>\n",
       "</table>\n",
       "</div>"
      ],
      "text/plain": [
       "       abv  beer_id  brewer_id                         beer_name  \\\n",
       "64529  5.3       93         33         Steel Rail Extra Pale Ale   \n",
       "26093  6.8      147         45      Brooklyn East India Pale Ale   \n",
       "27201  5.0      264       6994  Alexander Keith's India Pale Ale   \n",
       "29695  4.5      302        138                    India Pale Ale   \n",
       "21013  5.4      186        141        Smuttynose Shoals Pale Ale   \n",
       "\n",
       "                         beer_style  review_appearance  review_aroma  \\\n",
       "64529       American Pale Ale (APA)                3.5           3.5   \n",
       "26093  English India Pale Ale (IPA)                3.0           4.0   \n",
       "27201  English India Pale Ale (IPA)                2.5           2.5   \n",
       "29695  English India Pale Ale (IPA)                3.5           3.5   \n",
       "21013       American Pale Ale (APA)                3.0           3.5   \n",
       "\n",
       "       review_overall  review_palate  profile_name  review_taste  \\\n",
       "64529             4.0            4.0          Todd           4.0   \n",
       "26093             3.0            3.0  BeerAdvocate           3.0   \n",
       "27201             4.0            3.0          Todd           2.5   \n",
       "29695             3.5            3.0  BeerAdvocate           4.0   \n",
       "21013             4.0            4.0  BeerAdvocate           4.0   \n",
       "\n",
       "                                                    text                time  \n",
       "64529  Presentation: Pint size, on tap from the Easts... 1996-08-22 00:00:01  \n",
       "26093  Presentation: The Brooklyn Brewery style logo ... 1998-02-14 00:00:01  \n",
       "27201  Presentation: 12oz brown twisty, with a red st... 1998-04-16 00:00:01  \n",
       "29695  Presentation: 12oz. clear bottle (wide w/thin ... 1998-04-23 00:00:01  \n",
       "21013  Presentation: 12 oz bottle with a picture of t... 1998-05-05 00:00:01  "
      ]
     },
     "execution_count": 65,
     "metadata": {},
     "output_type": "execute_result"
    }
   ],
   "source": [
    "%load solutions/groupby_04.py"
   ]
  },
  {
   "cell_type": "markdown",
   "metadata": {},
   "source": [
    "## Groupby\n",
    "\n",
    "Comes up in a lot of contexts. At its root it's about doing an operation on many subsets of the data, each of which shares something in common.\n",
    "The components of a groupby operation are:\n",
    "\n",
    "1. Split a table into groups\n",
    "2. Apply a function to each group\n",
    "3. Combine the results into a single DataFrame or Series\n",
    "\n",
    "In pandas the first step looks like\n",
    "\n",
    "```python\n",
    "df.groupby( grouper )\n",
    "```\n",
    "\n",
    "`grouper` can be many things\n",
    "\n",
    "- Series (or string indicating a column in `df`)\n",
    "- function (to be applied on the index)\n",
    "- dict : groups by *values*\n",
    "- `levels=[ names of levels in a MultiIndex ]`"
   ]
  },
  {
   "cell_type": "markdown",
   "metadata": {},
   "source": [
    "### 1. split"
   ]
  },
  {
   "cell_type": "code",
   "execution_count": 30,
   "metadata": {
    "collapsed": false
   },
   "outputs": [
    {
     "data": {
      "text/plain": [
       "<pandas.core.groupby.DataFrameGroupBy object at 0x1153f1908>"
      ]
     },
     "execution_count": 30,
     "metadata": {},
     "output_type": "execute_result"
    }
   ],
   "source": [
    "gr = df.groupby(\"beer_name\")\n",
    "gr"
   ]
  },
  {
   "cell_type": "markdown",
   "metadata": {},
   "source": [
    "We haven't really done any actual work yet, but pandas knows what it needs to know to break the larger `df` into many smaller pieces, one for each distinct `beer_name`."
   ]
  },
  {
   "cell_type": "code",
   "execution_count": 31,
   "metadata": {
    "collapsed": false
   },
   "outputs": [
    {
     "data": {
      "text/html": [
       "<div>\n",
       "<table border=\"1\" class=\"dataframe\">\n",
       "  <thead>\n",
       "    <tr style=\"text-align: right;\">\n",
       "      <th></th>\n",
       "      <th>review_appearance</th>\n",
       "      <th>review_aroma</th>\n",
       "      <th>review_overall</th>\n",
       "      <th>review_palate</th>\n",
       "      <th>review_taste</th>\n",
       "    </tr>\n",
       "    <tr>\n",
       "      <th>beer_name</th>\n",
       "      <th></th>\n",
       "      <th></th>\n",
       "      <th></th>\n",
       "      <th></th>\n",
       "      <th></th>\n",
       "    </tr>\n",
       "  </thead>\n",
       "  <tbody>\n",
       "    <tr>\n",
       "      <th>\"50\" Golden Anniversary Lager</th>\n",
       "      <td>5.000000</td>\n",
       "      <td>3.500000</td>\n",
       "      <td>4.000000</td>\n",
       "      <td>3.500000</td>\n",
       "      <td>3.500000</td>\n",
       "    </tr>\n",
       "    <tr>\n",
       "      <th>\"Alt\"ered State</th>\n",
       "      <td>4.000000</td>\n",
       "      <td>3.750000</td>\n",
       "      <td>3.500000</td>\n",
       "      <td>4.000000</td>\n",
       "      <td>4.000000</td>\n",
       "    </tr>\n",
       "    <tr>\n",
       "      <th>\"Double Wrecked Wreck\" IPA</th>\n",
       "      <td>3.250000</td>\n",
       "      <td>3.750000</td>\n",
       "      <td>4.000000</td>\n",
       "      <td>4.000000</td>\n",
       "      <td>3.750000</td>\n",
       "    </tr>\n",
       "    <tr>\n",
       "      <th>\"Marnie\" Gras Carnival Ale</th>\n",
       "      <td>3.666667</td>\n",
       "      <td>4.333333</td>\n",
       "      <td>3.833333</td>\n",
       "      <td>4.000000</td>\n",
       "      <td>4.000000</td>\n",
       "    </tr>\n",
       "    <tr>\n",
       "      <th>\"Old Yeltsin\" Imperial Stout</th>\n",
       "      <td>4.176471</td>\n",
       "      <td>4.088235</td>\n",
       "      <td>3.676471</td>\n",
       "      <td>3.882353</td>\n",
       "      <td>3.970588</td>\n",
       "    </tr>\n",
       "    <tr>\n",
       "      <th>...</th>\n",
       "      <td>...</td>\n",
       "      <td>...</td>\n",
       "      <td>...</td>\n",
       "      <td>...</td>\n",
       "      <td>...</td>\n",
       "    </tr>\n",
       "    <tr>\n",
       "      <th>Öko Ur-Weizen</th>\n",
       "      <td>3.750000</td>\n",
       "      <td>4.000000</td>\n",
       "      <td>3.500000</td>\n",
       "      <td>3.250000</td>\n",
       "      <td>3.500000</td>\n",
       "    </tr>\n",
       "    <tr>\n",
       "      <th>Öko Urtrunk</th>\n",
       "      <td>4.000000</td>\n",
       "      <td>4.000000</td>\n",
       "      <td>4.500000</td>\n",
       "      <td>4.000000</td>\n",
       "      <td>4.000000</td>\n",
       "    </tr>\n",
       "    <tr>\n",
       "      <th>Ölsch</th>\n",
       "      <td>4.000000</td>\n",
       "      <td>4.000000</td>\n",
       "      <td>4.500000</td>\n",
       "      <td>4.000000</td>\n",
       "      <td>4.500000</td>\n",
       "    </tr>\n",
       "    <tr>\n",
       "      <th>Über Pils</th>\n",
       "      <td>4.088235</td>\n",
       "      <td>4.029412</td>\n",
       "      <td>4.235294</td>\n",
       "      <td>3.882353</td>\n",
       "      <td>4.147059</td>\n",
       "    </tr>\n",
       "    <tr>\n",
       "      <th>Über Weisse</th>\n",
       "      <td>4.000000</td>\n",
       "      <td>4.500000</td>\n",
       "      <td>4.000000</td>\n",
       "      <td>4.000000</td>\n",
       "      <td>4.000000</td>\n",
       "    </tr>\n",
       "  </tbody>\n",
       "</table>\n",
       "<p>12018 rows × 5 columns</p>\n",
       "</div>"
      ],
      "text/plain": [
       "                               review_appearance  review_aroma  \\\n",
       "beer_name                                                        \n",
       "\"50\" Golden Anniversary Lager           5.000000      3.500000   \n",
       "\"Alt\"ered State                         4.000000      3.750000   \n",
       "\"Double Wrecked Wreck\" IPA              3.250000      3.750000   \n",
       "\"Marnie\" Gras Carnival Ale              3.666667      4.333333   \n",
       "\"Old Yeltsin\" Imperial Stout            4.176471      4.088235   \n",
       "...                                          ...           ...   \n",
       "Öko Ur-Weizen                           3.750000      4.000000   \n",
       "Öko Urtrunk                             4.000000      4.000000   \n",
       "Ölsch                                   4.000000      4.000000   \n",
       "Über Pils                               4.088235      4.029412   \n",
       "Über Weisse                             4.000000      4.500000   \n",
       "\n",
       "                               review_overall  review_palate  review_taste  \n",
       "beer_name                                                                   \n",
       "\"50\" Golden Anniversary Lager        4.000000       3.500000      3.500000  \n",
       "\"Alt\"ered State                      3.500000       4.000000      4.000000  \n",
       "\"Double Wrecked Wreck\" IPA           4.000000       4.000000      3.750000  \n",
       "\"Marnie\" Gras Carnival Ale           3.833333       4.000000      4.000000  \n",
       "\"Old Yeltsin\" Imperial Stout         3.676471       3.882353      3.970588  \n",
       "...                                       ...            ...           ...  \n",
       "Öko Ur-Weizen                        3.500000       3.250000      3.500000  \n",
       "Öko Urtrunk                          4.500000       4.000000      4.000000  \n",
       "Ölsch                                4.500000       4.000000      4.500000  \n",
       "Über Pils                            4.235294       3.882353      4.147059  \n",
       "Über Weisse                          4.000000       4.000000      4.000000  \n",
       "\n",
       "[12018 rows x 5 columns]"
      ]
     },
     "execution_count": 31,
     "metadata": {},
     "output_type": "execute_result"
    }
   ],
   "source": [
    "review_cols = ['review_appearance', 'review_aroma', 'review_overall',\n",
    "               'review_palate', 'review_taste']\n",
    "df.groupby('beer_name')[review_cols].agg('mean')"
   ]
  },
  {
   "cell_type": "markdown",
   "metadata": {},
   "source": [
    "<div class=\"alert alert-success\">\n",
    "    <b>Exercise</b> Find the `beer_style`s with the greatest variance in `abv`.\n",
    "</div>\n",
    "\n",
    "- hint: `.std` calculates the standard deviation, and is available on `GroupBy` objects like `gr.abv`.\n",
    "- hint: use `.sort_values` to sort a Series by the values (it took us a while to come up with that name)"
   ]
  },
  {
   "cell_type": "code",
   "execution_count": 32,
   "metadata": {
    "collapsed": false
   },
   "outputs": [
    {
     "data": {
      "text/plain": [
       "beer_name\n",
       "\"Alt\"ered State          0.000000\n",
       "Pax Lager                0.000000\n",
       "Pauwel Kwak              0.000000\n",
       "Paulaner Roggen          0.000000\n",
       "Paulaner Premium Pils    0.000000\n",
       "                           ...   \n",
       "Santa's Little Helper    1.745874\n",
       "Framboise                1.767767\n",
       "Anniversary Ale          2.325009\n",
       "Dopplebock               2.381806\n",
       "Belgian Ale              3.111270\n",
       "Name: abv, dtype: float64"
      ]
     },
     "execution_count": 32,
     "metadata": {},
     "output_type": "execute_result"
    }
   ],
   "source": [
    "# TODO\n",
    "gr.abv.std().sort_values().dropna()"
   ]
  },
  {
   "cell_type": "markdown",
   "metadata": {},
   "source": [
    "In this case, the three parts were:\n",
    "\n",
    "- Split: `beer_name`\n",
    "- Apply: `'mean'`\n",
    "- Combine: `agg => 1 row per group`\n",
    "\n",
    "Let's start with `.agg` since it's the most common in my experience.\n",
    "\n",
    "Many Combinations:\n",
    "\n",
    "- Grouper: Controls the output index\n",
    "  * single grouper -> Index\n",
    "  * array-like grouper -> MultiIndex\n",
    "- Subject (Groupee): Controls the output data values\n",
    "  * single column -> Series (or DataFrame if multiple aggregations)\n",
    "  * multiple columns -> DataFrame\n",
    "- Aggregation: Controls the output columns\n",
    "  * single aggfunc -> Index in the colums\n",
    "  * multiple aggfuncs -> MultiIndex in the columns (Or 1-D Index if groupee is 1-D)"
   ]
  },
  {
   "cell_type": "code",
   "execution_count": 33,
   "metadata": {
    "collapsed": false
   },
   "outputs": [
    {
     "data": {
      "text/plain": [
       "beer_style\n",
       "Altbier                       3.844017\n",
       "American Adjunct Lager        2.708166\n",
       "American Amber / Red Ale      3.741607\n",
       "American Amber / Red Lager    3.455166\n",
       "American Barleywine           4.005499\n",
       "                                ...   \n",
       "Vienna Lager                  3.697218\n",
       "Weizenbock                    4.040816\n",
       "Wheatwine                     4.013514\n",
       "Winter Warmer                 3.792023\n",
       "Witbier                       3.886922\n",
       "Name: review_overall, dtype: float64"
      ]
     },
     "execution_count": 33,
     "metadata": {},
     "output_type": "execute_result"
    }
   ],
   "source": [
    "# single grouper, single groupee, single aggregation\n",
    "df.groupby('beer_style').review_overall.agg('mean')"
   ]
  },
  {
   "cell_type": "code",
   "execution_count": 34,
   "metadata": {
    "collapsed": false
   },
   "outputs": [
    {
     "data": {
      "text/html": [
       "<div>\n",
       "<table border=\"1\" class=\"dataframe\">\n",
       "  <thead>\n",
       "    <tr style=\"text-align: right;\">\n",
       "      <th></th>\n",
       "      <th>min</th>\n",
       "      <th>max</th>\n",
       "    </tr>\n",
       "    <tr>\n",
       "      <th>beer_style</th>\n",
       "      <th></th>\n",
       "      <th></th>\n",
       "    </tr>\n",
       "  </thead>\n",
       "  <tbody>\n",
       "    <tr>\n",
       "      <th>Altbier</th>\n",
       "      <td>1.0</td>\n",
       "      <td>5.0</td>\n",
       "    </tr>\n",
       "    <tr>\n",
       "      <th>American Adjunct Lager</th>\n",
       "      <td>1.0</td>\n",
       "      <td>5.0</td>\n",
       "    </tr>\n",
       "    <tr>\n",
       "      <th>American Amber / Red Ale</th>\n",
       "      <td>0.0</td>\n",
       "      <td>5.0</td>\n",
       "    </tr>\n",
       "    <tr>\n",
       "      <th>American Amber / Red Lager</th>\n",
       "      <td>1.0</td>\n",
       "      <td>5.0</td>\n",
       "    </tr>\n",
       "    <tr>\n",
       "      <th>American Barleywine</th>\n",
       "      <td>1.0</td>\n",
       "      <td>5.0</td>\n",
       "    </tr>\n",
       "    <tr>\n",
       "      <th>...</th>\n",
       "      <td>...</td>\n",
       "      <td>...</td>\n",
       "    </tr>\n",
       "    <tr>\n",
       "      <th>Vienna Lager</th>\n",
       "      <td>1.0</td>\n",
       "      <td>5.0</td>\n",
       "    </tr>\n",
       "    <tr>\n",
       "      <th>Weizenbock</th>\n",
       "      <td>1.5</td>\n",
       "      <td>5.0</td>\n",
       "    </tr>\n",
       "    <tr>\n",
       "      <th>Wheatwine</th>\n",
       "      <td>2.5</td>\n",
       "      <td>5.0</td>\n",
       "    </tr>\n",
       "    <tr>\n",
       "      <th>Winter Warmer</th>\n",
       "      <td>1.0</td>\n",
       "      <td>5.0</td>\n",
       "    </tr>\n",
       "    <tr>\n",
       "      <th>Witbier</th>\n",
       "      <td>1.0</td>\n",
       "      <td>5.0</td>\n",
       "    </tr>\n",
       "  </tbody>\n",
       "</table>\n",
       "<p>103 rows × 2 columns</p>\n",
       "</div>"
      ],
      "text/plain": [
       "                            min  max\n",
       "beer_style                          \n",
       "Altbier                     1.0  5.0\n",
       "American Adjunct Lager      1.0  5.0\n",
       "American Amber / Red Ale    0.0  5.0\n",
       "American Amber / Red Lager  1.0  5.0\n",
       "American Barleywine         1.0  5.0\n",
       "...                         ...  ...\n",
       "Vienna Lager                1.0  5.0\n",
       "Weizenbock                  1.5  5.0\n",
       "Wheatwine                   2.5  5.0\n",
       "Winter Warmer               1.0  5.0\n",
       "Witbier                     1.0  5.0\n",
       "\n",
       "[103 rows x 2 columns]"
      ]
     },
     "execution_count": 34,
     "metadata": {},
     "output_type": "execute_result"
    }
   ],
   "source": [
    "# single grouper, single groupee, multiple aggregations\n",
    "df.groupby('beer_style').review_overall.agg(['min', 'max'])"
   ]
  },
  {
   "cell_type": "code",
   "execution_count": 35,
   "metadata": {
    "collapsed": false
   },
   "outputs": [
    {
     "data": {
      "text/html": [
       "<div>\n",
       "<table border=\"1\" class=\"dataframe\">\n",
       "  <thead>\n",
       "    <tr style=\"text-align: right;\">\n",
       "      <th></th>\n",
       "      <th>review_overall</th>\n",
       "      <th>review_aroma</th>\n",
       "    </tr>\n",
       "    <tr>\n",
       "      <th>beer_style</th>\n",
       "      <th></th>\n",
       "      <th></th>\n",
       "    </tr>\n",
       "  </thead>\n",
       "  <tbody>\n",
       "    <tr>\n",
       "      <th>Altbier</th>\n",
       "      <td>3.844017</td>\n",
       "      <td>3.652422</td>\n",
       "    </tr>\n",
       "    <tr>\n",
       "      <th>American Adjunct Lager</th>\n",
       "      <td>2.708166</td>\n",
       "      <td>2.388666</td>\n",
       "    </tr>\n",
       "    <tr>\n",
       "      <th>American Amber / Red Ale</th>\n",
       "      <td>3.741607</td>\n",
       "      <td>3.589329</td>\n",
       "    </tr>\n",
       "    <tr>\n",
       "      <th>American Amber / Red Lager</th>\n",
       "      <td>3.455166</td>\n",
       "      <td>3.213450</td>\n",
       "    </tr>\n",
       "    <tr>\n",
       "      <th>American Barleywine</th>\n",
       "      <td>4.005499</td>\n",
       "      <td>4.111155</td>\n",
       "    </tr>\n",
       "    <tr>\n",
       "      <th>...</th>\n",
       "      <td>...</td>\n",
       "      <td>...</td>\n",
       "    </tr>\n",
       "    <tr>\n",
       "      <th>Vienna Lager</th>\n",
       "      <td>3.697218</td>\n",
       "      <td>3.417349</td>\n",
       "    </tr>\n",
       "    <tr>\n",
       "      <th>Weizenbock</th>\n",
       "      <td>4.040816</td>\n",
       "      <td>4.071429</td>\n",
       "    </tr>\n",
       "    <tr>\n",
       "      <th>Wheatwine</th>\n",
       "      <td>4.013514</td>\n",
       "      <td>4.054054</td>\n",
       "    </tr>\n",
       "    <tr>\n",
       "      <th>Winter Warmer</th>\n",
       "      <td>3.792023</td>\n",
       "      <td>3.825142</td>\n",
       "    </tr>\n",
       "    <tr>\n",
       "      <th>Witbier</th>\n",
       "      <td>3.886922</td>\n",
       "      <td>3.756142</td>\n",
       "    </tr>\n",
       "  </tbody>\n",
       "</table>\n",
       "<p>103 rows × 2 columns</p>\n",
       "</div>"
      ],
      "text/plain": [
       "                            review_overall  review_aroma\n",
       "beer_style                                              \n",
       "Altbier                           3.844017      3.652422\n",
       "American Adjunct Lager            2.708166      2.388666\n",
       "American Amber / Red Ale          3.741607      3.589329\n",
       "American Amber / Red Lager        3.455166      3.213450\n",
       "American Barleywine               4.005499      4.111155\n",
       "...                                    ...           ...\n",
       "Vienna Lager                      3.697218      3.417349\n",
       "Weizenbock                        4.040816      4.071429\n",
       "Wheatwine                         4.013514      4.054054\n",
       "Winter Warmer                     3.792023      3.825142\n",
       "Witbier                           3.886922      3.756142\n",
       "\n",
       "[103 rows x 2 columns]"
      ]
     },
     "execution_count": 35,
     "metadata": {},
     "output_type": "execute_result"
    }
   ],
   "source": [
    "# single grouper, array-like groupee, single aggregations\n",
    "df.groupby('beer_style')['review_overall', 'review_aroma'].agg('mean')"
   ]
  },
  {
   "cell_type": "code",
   "execution_count": 36,
   "metadata": {
    "collapsed": false
   },
   "outputs": [
    {
     "data": {
      "text/html": [
       "<div>\n",
       "<table border=\"1\" class=\"dataframe\">\n",
       "  <thead>\n",
       "    <tr>\n",
       "      <th></th>\n",
       "      <th colspan=\"2\" halign=\"left\">review_overall</th>\n",
       "      <th colspan=\"2\" halign=\"left\">review_aroma</th>\n",
       "    </tr>\n",
       "    <tr>\n",
       "      <th></th>\n",
       "      <th>mean</th>\n",
       "      <th>std</th>\n",
       "      <th>mean</th>\n",
       "      <th>std</th>\n",
       "    </tr>\n",
       "    <tr>\n",
       "      <th>beer_style</th>\n",
       "      <th></th>\n",
       "      <th></th>\n",
       "      <th></th>\n",
       "      <th></th>\n",
       "    </tr>\n",
       "  </thead>\n",
       "  <tbody>\n",
       "    <tr>\n",
       "      <th>Altbier</th>\n",
       "      <td>3.844017</td>\n",
       "      <td>0.710297</td>\n",
       "      <td>3.652422</td>\n",
       "      <td>0.577380</td>\n",
       "    </tr>\n",
       "    <tr>\n",
       "      <th>American Adjunct Lager</th>\n",
       "      <td>2.708166</td>\n",
       "      <td>0.875036</td>\n",
       "      <td>2.388666</td>\n",
       "      <td>0.729626</td>\n",
       "    </tr>\n",
       "    <tr>\n",
       "      <th>American Amber / Red Ale</th>\n",
       "      <td>3.741607</td>\n",
       "      <td>0.671490</td>\n",
       "      <td>3.589329</td>\n",
       "      <td>0.604622</td>\n",
       "    </tr>\n",
       "    <tr>\n",
       "      <th>American Amber / Red Lager</th>\n",
       "      <td>3.455166</td>\n",
       "      <td>0.812463</td>\n",
       "      <td>3.213450</td>\n",
       "      <td>0.685903</td>\n",
       "    </tr>\n",
       "    <tr>\n",
       "      <th>American Barleywine</th>\n",
       "      <td>4.005499</td>\n",
       "      <td>0.637199</td>\n",
       "      <td>4.111155</td>\n",
       "      <td>0.534223</td>\n",
       "    </tr>\n",
       "    <tr>\n",
       "      <th>...</th>\n",
       "      <td>...</td>\n",
       "      <td>...</td>\n",
       "      <td>...</td>\n",
       "      <td>...</td>\n",
       "    </tr>\n",
       "    <tr>\n",
       "      <th>Vienna Lager</th>\n",
       "      <td>3.697218</td>\n",
       "      <td>0.685906</td>\n",
       "      <td>3.417349</td>\n",
       "      <td>0.588240</td>\n",
       "    </tr>\n",
       "    <tr>\n",
       "      <th>Weizenbock</th>\n",
       "      <td>4.040816</td>\n",
       "      <td>0.607597</td>\n",
       "      <td>4.071429</td>\n",
       "      <td>0.539963</td>\n",
       "    </tr>\n",
       "    <tr>\n",
       "      <th>Wheatwine</th>\n",
       "      <td>4.013514</td>\n",
       "      <td>0.496377</td>\n",
       "      <td>4.054054</td>\n",
       "      <td>0.464991</td>\n",
       "    </tr>\n",
       "    <tr>\n",
       "      <th>Winter Warmer</th>\n",
       "      <td>3.792023</td>\n",
       "      <td>0.624557</td>\n",
       "      <td>3.825142</td>\n",
       "      <td>0.562439</td>\n",
       "    </tr>\n",
       "    <tr>\n",
       "      <th>Witbier</th>\n",
       "      <td>3.886922</td>\n",
       "      <td>0.705086</td>\n",
       "      <td>3.756142</td>\n",
       "      <td>0.591851</td>\n",
       "    </tr>\n",
       "  </tbody>\n",
       "</table>\n",
       "<p>103 rows × 4 columns</p>\n",
       "</div>"
      ],
      "text/plain": [
       "                           review_overall           review_aroma          \n",
       "                                     mean       std         mean       std\n",
       "beer_style                                                                \n",
       "Altbier                          3.844017  0.710297     3.652422  0.577380\n",
       "American Adjunct Lager           2.708166  0.875036     2.388666  0.729626\n",
       "American Amber / Red Ale         3.741607  0.671490     3.589329  0.604622\n",
       "American Amber / Red Lager       3.455166  0.812463     3.213450  0.685903\n",
       "American Barleywine              4.005499  0.637199     4.111155  0.534223\n",
       "...                                   ...       ...          ...       ...\n",
       "Vienna Lager                     3.697218  0.685906     3.417349  0.588240\n",
       "Weizenbock                       4.040816  0.607597     4.071429  0.539963\n",
       "Wheatwine                        4.013514  0.496377     4.054054  0.464991\n",
       "Winter Warmer                    3.792023  0.624557     3.825142  0.562439\n",
       "Witbier                          3.886922  0.705086     3.756142  0.591851\n",
       "\n",
       "[103 rows x 4 columns]"
      ]
     },
     "execution_count": 36,
     "metadata": {},
     "output_type": "execute_result"
    }
   ],
   "source": [
    "# single grouper, array-like groupee, single multiple aggregations\n",
    "df.groupby('beer_style')['review_overall', 'review_aroma'].agg(['mean', 'std'])"
   ]
  },
  {
   "cell_type": "code",
   "execution_count": 37,
   "metadata": {
    "collapsed": false
   },
   "outputs": [
    {
     "data": {
      "text/plain": [
       "brewer_id  beer_name                 \n",
       "1          Eisbrau Czech                 3.500000\n",
       "           Gambrinus                     4.250000\n",
       "           Gambrinus Pale                3.500000\n",
       "           Pilsner Urquell               3.698630\n",
       "           Primus                        3.500000\n",
       "                                           ...   \n",
       "24926      Mongozo (Banana)              3.750000\n",
       "           Mongozo (Palmnut)             3.657895\n",
       "24964      Haffenreffer Private Stock    3.357143\n",
       "26715      Gageleer                      3.500000\n",
       "27039      Heady Topper                  4.500000\n",
       "Name: review_overall, dtype: float64"
      ]
     },
     "execution_count": 37,
     "metadata": {},
     "output_type": "execute_result"
    }
   ],
   "source": [
    "# multiple groupers, single groupee, single aggregation\n",
    "df.groupby(['brewer_id', 'beer_name']).review_overall.mean()"
   ]
  },
  {
   "cell_type": "code",
   "execution_count": 38,
   "metadata": {
    "collapsed": false
   },
   "outputs": [
    {
     "data": {
      "text/html": [
       "<div>\n",
       "<table border=\"1\" class=\"dataframe\">\n",
       "  <thead>\n",
       "    <tr style=\"text-align: right;\">\n",
       "      <th></th>\n",
       "      <th></th>\n",
       "      <th>mean</th>\n",
       "      <th>count</th>\n",
       "    </tr>\n",
       "    <tr>\n",
       "      <th>brewer_id</th>\n",
       "      <th>beer_name</th>\n",
       "      <th></th>\n",
       "      <th></th>\n",
       "    </tr>\n",
       "  </thead>\n",
       "  <tbody>\n",
       "    <tr>\n",
       "      <th rowspan=\"5\" valign=\"top\">1</th>\n",
       "      <th>Eisbrau Czech</th>\n",
       "      <td>3.500000</td>\n",
       "      <td>1</td>\n",
       "    </tr>\n",
       "    <tr>\n",
       "      <th>Gambrinus</th>\n",
       "      <td>4.250000</td>\n",
       "      <td>2</td>\n",
       "    </tr>\n",
       "    <tr>\n",
       "      <th>Gambrinus Pale</th>\n",
       "      <td>3.500000</td>\n",
       "      <td>1</td>\n",
       "    </tr>\n",
       "    <tr>\n",
       "      <th>Pilsner Urquell</th>\n",
       "      <td>3.698630</td>\n",
       "      <td>73</td>\n",
       "    </tr>\n",
       "    <tr>\n",
       "      <th>Primus</th>\n",
       "      <td>3.500000</td>\n",
       "      <td>1</td>\n",
       "    </tr>\n",
       "    <tr>\n",
       "      <th>...</th>\n",
       "      <th>...</th>\n",
       "      <td>...</td>\n",
       "      <td>...</td>\n",
       "    </tr>\n",
       "    <tr>\n",
       "      <th rowspan=\"2\" valign=\"top\">24926</th>\n",
       "      <th>Mongozo (Banana)</th>\n",
       "      <td>3.750000</td>\n",
       "      <td>4</td>\n",
       "    </tr>\n",
       "    <tr>\n",
       "      <th>Mongozo (Palmnut)</th>\n",
       "      <td>3.657895</td>\n",
       "      <td>19</td>\n",
       "    </tr>\n",
       "    <tr>\n",
       "      <th>24964</th>\n",
       "      <th>Haffenreffer Private Stock</th>\n",
       "      <td>3.357143</td>\n",
       "      <td>7</td>\n",
       "    </tr>\n",
       "    <tr>\n",
       "      <th>26715</th>\n",
       "      <th>Gageleer</th>\n",
       "      <td>3.500000</td>\n",
       "      <td>1</td>\n",
       "    </tr>\n",
       "    <tr>\n",
       "      <th>27039</th>\n",
       "      <th>Heady Topper</th>\n",
       "      <td>4.500000</td>\n",
       "      <td>3</td>\n",
       "    </tr>\n",
       "  </tbody>\n",
       "</table>\n",
       "<p>13237 rows × 2 columns</p>\n",
       "</div>"
      ],
      "text/plain": [
       "                                          mean  count\n",
       "brewer_id beer_name                                  \n",
       "1         Eisbrau Czech               3.500000      1\n",
       "          Gambrinus                   4.250000      2\n",
       "          Gambrinus Pale              3.500000      1\n",
       "          Pilsner Urquell             3.698630     73\n",
       "          Primus                      3.500000      1\n",
       "...                                        ...    ...\n",
       "24926     Mongozo (Banana)            3.750000      4\n",
       "          Mongozo (Palmnut)           3.657895     19\n",
       "24964     Haffenreffer Private Stock  3.357143      7\n",
       "26715     Gageleer                    3.500000      1\n",
       "27039     Heady Topper                4.500000      3\n",
       "\n",
       "[13237 rows x 2 columns]"
      ]
     },
     "execution_count": 38,
     "metadata": {},
     "output_type": "execute_result"
    }
   ],
   "source": [
    "# multiple groupers, single groupee, multiple aggregation\n",
    "df.groupby(['brewer_id', 'beer_name']).review_overall.agg(['mean', 'count'])"
   ]
  },
  {
   "cell_type": "code",
   "execution_count": 39,
   "metadata": {
    "collapsed": false
   },
   "outputs": [
    {
     "data": {
      "text/html": [
       "<div>\n",
       "<table border=\"1\" class=\"dataframe\">\n",
       "  <thead>\n",
       "    <tr style=\"text-align: right;\">\n",
       "      <th></th>\n",
       "      <th></th>\n",
       "      <th>review_appearance</th>\n",
       "      <th>review_aroma</th>\n",
       "      <th>review_overall</th>\n",
       "      <th>review_palate</th>\n",
       "      <th>review_taste</th>\n",
       "    </tr>\n",
       "    <tr>\n",
       "      <th>brewer_id</th>\n",
       "      <th>beer_name</th>\n",
       "      <th></th>\n",
       "      <th></th>\n",
       "      <th></th>\n",
       "      <th></th>\n",
       "      <th></th>\n",
       "    </tr>\n",
       "  </thead>\n",
       "  <tbody>\n",
       "    <tr>\n",
       "      <th rowspan=\"5\" valign=\"top\">1</th>\n",
       "      <th>Eisbrau Czech</th>\n",
       "      <td>3.000000</td>\n",
       "      <td>3.000000</td>\n",
       "      <td>3.500000</td>\n",
       "      <td>3.500000</td>\n",
       "      <td>3.500000</td>\n",
       "    </tr>\n",
       "    <tr>\n",
       "      <th>Gambrinus</th>\n",
       "      <td>4.000000</td>\n",
       "      <td>4.000000</td>\n",
       "      <td>4.250000</td>\n",
       "      <td>3.750000</td>\n",
       "      <td>4.000000</td>\n",
       "    </tr>\n",
       "    <tr>\n",
       "      <th>Gambrinus Pale</th>\n",
       "      <td>3.500000</td>\n",
       "      <td>3.500000</td>\n",
       "      <td>3.500000</td>\n",
       "      <td>3.500000</td>\n",
       "      <td>3.500000</td>\n",
       "    </tr>\n",
       "    <tr>\n",
       "      <th>Pilsner Urquell</th>\n",
       "      <td>3.746575</td>\n",
       "      <td>3.383562</td>\n",
       "      <td>3.698630</td>\n",
       "      <td>3.513699</td>\n",
       "      <td>3.547945</td>\n",
       "    </tr>\n",
       "    <tr>\n",
       "      <th>Primus</th>\n",
       "      <td>3.000000</td>\n",
       "      <td>3.500000</td>\n",
       "      <td>3.500000</td>\n",
       "      <td>3.000000</td>\n",
       "      <td>3.000000</td>\n",
       "    </tr>\n",
       "    <tr>\n",
       "      <th>...</th>\n",
       "      <th>...</th>\n",
       "      <td>...</td>\n",
       "      <td>...</td>\n",
       "      <td>...</td>\n",
       "      <td>...</td>\n",
       "      <td>...</td>\n",
       "    </tr>\n",
       "    <tr>\n",
       "      <th rowspan=\"2\" valign=\"top\">24926</th>\n",
       "      <th>Mongozo (Banana)</th>\n",
       "      <td>4.500000</td>\n",
       "      <td>4.625000</td>\n",
       "      <td>3.750000</td>\n",
       "      <td>3.250000</td>\n",
       "      <td>3.875000</td>\n",
       "    </tr>\n",
       "    <tr>\n",
       "      <th>Mongozo (Palmnut)</th>\n",
       "      <td>3.894737</td>\n",
       "      <td>3.868421</td>\n",
       "      <td>3.657895</td>\n",
       "      <td>3.868421</td>\n",
       "      <td>3.763158</td>\n",
       "    </tr>\n",
       "    <tr>\n",
       "      <th>24964</th>\n",
       "      <th>Haffenreffer Private Stock</th>\n",
       "      <td>3.071429</td>\n",
       "      <td>3.000000</td>\n",
       "      <td>3.357143</td>\n",
       "      <td>3.142857</td>\n",
       "      <td>3.285714</td>\n",
       "    </tr>\n",
       "    <tr>\n",
       "      <th>26715</th>\n",
       "      <th>Gageleer</th>\n",
       "      <td>5.000000</td>\n",
       "      <td>3.500000</td>\n",
       "      <td>3.500000</td>\n",
       "      <td>3.500000</td>\n",
       "      <td>3.500000</td>\n",
       "    </tr>\n",
       "    <tr>\n",
       "      <th>27039</th>\n",
       "      <th>Heady Topper</th>\n",
       "      <td>4.333333</td>\n",
       "      <td>4.500000</td>\n",
       "      <td>4.500000</td>\n",
       "      <td>4.666667</td>\n",
       "      <td>4.666667</td>\n",
       "    </tr>\n",
       "  </tbody>\n",
       "</table>\n",
       "<p>13237 rows × 5 columns</p>\n",
       "</div>"
      ],
      "text/plain": [
       "                                      review_appearance  review_aroma  \\\n",
       "brewer_id beer_name                                                     \n",
       "1         Eisbrau Czech                        3.000000      3.000000   \n",
       "          Gambrinus                            4.000000      4.000000   \n",
       "          Gambrinus Pale                       3.500000      3.500000   \n",
       "          Pilsner Urquell                      3.746575      3.383562   \n",
       "          Primus                               3.000000      3.500000   \n",
       "...                                                 ...           ...   \n",
       "24926     Mongozo (Banana)                     4.500000      4.625000   \n",
       "          Mongozo (Palmnut)                    3.894737      3.868421   \n",
       "24964     Haffenreffer Private Stock           3.071429      3.000000   \n",
       "26715     Gageleer                             5.000000      3.500000   \n",
       "27039     Heady Topper                         4.333333      4.500000   \n",
       "\n",
       "                                      review_overall  review_palate  \\\n",
       "brewer_id beer_name                                                   \n",
       "1         Eisbrau Czech                     3.500000       3.500000   \n",
       "          Gambrinus                         4.250000       3.750000   \n",
       "          Gambrinus Pale                    3.500000       3.500000   \n",
       "          Pilsner Urquell                   3.698630       3.513699   \n",
       "          Primus                            3.500000       3.000000   \n",
       "...                                              ...            ...   \n",
       "24926     Mongozo (Banana)                  3.750000       3.250000   \n",
       "          Mongozo (Palmnut)                 3.657895       3.868421   \n",
       "24964     Haffenreffer Private Stock        3.357143       3.142857   \n",
       "26715     Gageleer                          3.500000       3.500000   \n",
       "27039     Heady Topper                      4.500000       4.666667   \n",
       "\n",
       "                                      review_taste  \n",
       "brewer_id beer_name                                 \n",
       "1         Eisbrau Czech                   3.500000  \n",
       "          Gambrinus                       4.000000  \n",
       "          Gambrinus Pale                  3.500000  \n",
       "          Pilsner Urquell                 3.547945  \n",
       "          Primus                          3.000000  \n",
       "...                                            ...  \n",
       "24926     Mongozo (Banana)                3.875000  \n",
       "          Mongozo (Palmnut)               3.763158  \n",
       "24964     Haffenreffer Private Stock      3.285714  \n",
       "26715     Gageleer                        3.500000  \n",
       "27039     Heady Topper                    4.666667  \n",
       "\n",
       "[13237 rows x 5 columns]"
      ]
     },
     "execution_count": 39,
     "metadata": {},
     "output_type": "execute_result"
    }
   ],
   "source": [
    "# multiple groupers, multiple groupee, single aggregation\n",
    "df.groupby(['brewer_id', 'beer_name'])[review_cols].agg('mean')"
   ]
  },
  {
   "cell_type": "code",
   "execution_count": 40,
   "metadata": {
    "collapsed": false
   },
   "outputs": [
    {
     "data": {
      "text/html": [
       "<div>\n",
       "<table border=\"1\" class=\"dataframe\">\n",
       "  <thead>\n",
       "    <tr>\n",
       "      <th></th>\n",
       "      <th></th>\n",
       "      <th colspan=\"5\" halign=\"left\">review_appearance</th>\n",
       "      <th colspan=\"5\" halign=\"left\">review_aroma</th>\n",
       "      <th>...</th>\n",
       "      <th colspan=\"5\" halign=\"left\">review_palate</th>\n",
       "      <th colspan=\"5\" halign=\"left\">review_taste</th>\n",
       "    </tr>\n",
       "    <tr>\n",
       "      <th></th>\n",
       "      <th></th>\n",
       "      <th>mean</th>\n",
       "      <th>min</th>\n",
       "      <th>max</th>\n",
       "      <th>std</th>\n",
       "      <th>count</th>\n",
       "      <th>mean</th>\n",
       "      <th>min</th>\n",
       "      <th>max</th>\n",
       "      <th>std</th>\n",
       "      <th>count</th>\n",
       "      <th>...</th>\n",
       "      <th>mean</th>\n",
       "      <th>min</th>\n",
       "      <th>max</th>\n",
       "      <th>std</th>\n",
       "      <th>count</th>\n",
       "      <th>mean</th>\n",
       "      <th>min</th>\n",
       "      <th>max</th>\n",
       "      <th>std</th>\n",
       "      <th>count</th>\n",
       "    </tr>\n",
       "    <tr>\n",
       "      <th>brewer_id</th>\n",
       "      <th>beer_name</th>\n",
       "      <th></th>\n",
       "      <th></th>\n",
       "      <th></th>\n",
       "      <th></th>\n",
       "      <th></th>\n",
       "      <th></th>\n",
       "      <th></th>\n",
       "      <th></th>\n",
       "      <th></th>\n",
       "      <th></th>\n",
       "      <th></th>\n",
       "      <th></th>\n",
       "      <th></th>\n",
       "      <th></th>\n",
       "      <th></th>\n",
       "      <th></th>\n",
       "      <th></th>\n",
       "      <th></th>\n",
       "      <th></th>\n",
       "      <th></th>\n",
       "      <th></th>\n",
       "    </tr>\n",
       "  </thead>\n",
       "  <tbody>\n",
       "    <tr>\n",
       "      <th rowspan=\"5\" valign=\"top\">1</th>\n",
       "      <th>Eisbrau Czech</th>\n",
       "      <td>3.000000</td>\n",
       "      <td>3.0</td>\n",
       "      <td>3.0</td>\n",
       "      <td>NaN</td>\n",
       "      <td>1</td>\n",
       "      <td>3.000000</td>\n",
       "      <td>3.0</td>\n",
       "      <td>3.0</td>\n",
       "      <td>NaN</td>\n",
       "      <td>1</td>\n",
       "      <td>...</td>\n",
       "      <td>3.500000</td>\n",
       "      <td>3.5</td>\n",
       "      <td>3.5</td>\n",
       "      <td>NaN</td>\n",
       "      <td>1</td>\n",
       "      <td>3.500000</td>\n",
       "      <td>3.5</td>\n",
       "      <td>3.5</td>\n",
       "      <td>NaN</td>\n",
       "      <td>1</td>\n",
       "    </tr>\n",
       "    <tr>\n",
       "      <th>Gambrinus</th>\n",
       "      <td>4.000000</td>\n",
       "      <td>3.5</td>\n",
       "      <td>4.5</td>\n",
       "      <td>0.707107</td>\n",
       "      <td>2</td>\n",
       "      <td>4.000000</td>\n",
       "      <td>4.0</td>\n",
       "      <td>4.0</td>\n",
       "      <td>0.000000</td>\n",
       "      <td>2</td>\n",
       "      <td>...</td>\n",
       "      <td>3.750000</td>\n",
       "      <td>3.0</td>\n",
       "      <td>4.5</td>\n",
       "      <td>1.060660</td>\n",
       "      <td>2</td>\n",
       "      <td>4.000000</td>\n",
       "      <td>4.0</td>\n",
       "      <td>4.0</td>\n",
       "      <td>0.000000</td>\n",
       "      <td>2</td>\n",
       "    </tr>\n",
       "    <tr>\n",
       "      <th>Gambrinus Pale</th>\n",
       "      <td>3.500000</td>\n",
       "      <td>3.5</td>\n",
       "      <td>3.5</td>\n",
       "      <td>NaN</td>\n",
       "      <td>1</td>\n",
       "      <td>3.500000</td>\n",
       "      <td>3.5</td>\n",
       "      <td>3.5</td>\n",
       "      <td>NaN</td>\n",
       "      <td>1</td>\n",
       "      <td>...</td>\n",
       "      <td>3.500000</td>\n",
       "      <td>3.5</td>\n",
       "      <td>3.5</td>\n",
       "      <td>NaN</td>\n",
       "      <td>1</td>\n",
       "      <td>3.500000</td>\n",
       "      <td>3.5</td>\n",
       "      <td>3.5</td>\n",
       "      <td>NaN</td>\n",
       "      <td>1</td>\n",
       "    </tr>\n",
       "    <tr>\n",
       "      <th>Pilsner Urquell</th>\n",
       "      <td>3.746575</td>\n",
       "      <td>2.0</td>\n",
       "      <td>5.0</td>\n",
       "      <td>0.507741</td>\n",
       "      <td>73</td>\n",
       "      <td>3.383562</td>\n",
       "      <td>1.0</td>\n",
       "      <td>5.0</td>\n",
       "      <td>0.770644</td>\n",
       "      <td>73</td>\n",
       "      <td>...</td>\n",
       "      <td>3.513699</td>\n",
       "      <td>1.0</td>\n",
       "      <td>5.0</td>\n",
       "      <td>0.676863</td>\n",
       "      <td>73</td>\n",
       "      <td>3.547945</td>\n",
       "      <td>1.0</td>\n",
       "      <td>4.5</td>\n",
       "      <td>0.812935</td>\n",
       "      <td>73</td>\n",
       "    </tr>\n",
       "    <tr>\n",
       "      <th>Primus</th>\n",
       "      <td>3.000000</td>\n",
       "      <td>3.0</td>\n",
       "      <td>3.0</td>\n",
       "      <td>NaN</td>\n",
       "      <td>1</td>\n",
       "      <td>3.500000</td>\n",
       "      <td>3.5</td>\n",
       "      <td>3.5</td>\n",
       "      <td>NaN</td>\n",
       "      <td>1</td>\n",
       "      <td>...</td>\n",
       "      <td>3.000000</td>\n",
       "      <td>3.0</td>\n",
       "      <td>3.0</td>\n",
       "      <td>NaN</td>\n",
       "      <td>1</td>\n",
       "      <td>3.000000</td>\n",
       "      <td>3.0</td>\n",
       "      <td>3.0</td>\n",
       "      <td>NaN</td>\n",
       "      <td>1</td>\n",
       "    </tr>\n",
       "    <tr>\n",
       "      <th>...</th>\n",
       "      <th>...</th>\n",
       "      <td>...</td>\n",
       "      <td>...</td>\n",
       "      <td>...</td>\n",
       "      <td>...</td>\n",
       "      <td>...</td>\n",
       "      <td>...</td>\n",
       "      <td>...</td>\n",
       "      <td>...</td>\n",
       "      <td>...</td>\n",
       "      <td>...</td>\n",
       "      <td>...</td>\n",
       "      <td>...</td>\n",
       "      <td>...</td>\n",
       "      <td>...</td>\n",
       "      <td>...</td>\n",
       "      <td>...</td>\n",
       "      <td>...</td>\n",
       "      <td>...</td>\n",
       "      <td>...</td>\n",
       "      <td>...</td>\n",
       "      <td>...</td>\n",
       "    </tr>\n",
       "    <tr>\n",
       "      <th rowspan=\"2\" valign=\"top\">24926</th>\n",
       "      <th>Mongozo (Banana)</th>\n",
       "      <td>4.500000</td>\n",
       "      <td>4.0</td>\n",
       "      <td>5.0</td>\n",
       "      <td>0.408248</td>\n",
       "      <td>4</td>\n",
       "      <td>4.625000</td>\n",
       "      <td>4.5</td>\n",
       "      <td>5.0</td>\n",
       "      <td>0.250000</td>\n",
       "      <td>4</td>\n",
       "      <td>...</td>\n",
       "      <td>3.250000</td>\n",
       "      <td>2.5</td>\n",
       "      <td>4.0</td>\n",
       "      <td>0.645497</td>\n",
       "      <td>4</td>\n",
       "      <td>3.875000</td>\n",
       "      <td>3.5</td>\n",
       "      <td>4.0</td>\n",
       "      <td>0.250000</td>\n",
       "      <td>4</td>\n",
       "    </tr>\n",
       "    <tr>\n",
       "      <th>Mongozo (Palmnut)</th>\n",
       "      <td>3.894737</td>\n",
       "      <td>2.5</td>\n",
       "      <td>5.0</td>\n",
       "      <td>0.591114</td>\n",
       "      <td>19</td>\n",
       "      <td>3.868421</td>\n",
       "      <td>3.0</td>\n",
       "      <td>5.0</td>\n",
       "      <td>0.466729</td>\n",
       "      <td>19</td>\n",
       "      <td>...</td>\n",
       "      <td>3.868421</td>\n",
       "      <td>2.5</td>\n",
       "      <td>4.5</td>\n",
       "      <td>0.435957</td>\n",
       "      <td>19</td>\n",
       "      <td>3.763158</td>\n",
       "      <td>2.5</td>\n",
       "      <td>5.0</td>\n",
       "      <td>0.510131</td>\n",
       "      <td>19</td>\n",
       "    </tr>\n",
       "    <tr>\n",
       "      <th>24964</th>\n",
       "      <th>Haffenreffer Private Stock</th>\n",
       "      <td>3.071429</td>\n",
       "      <td>2.0</td>\n",
       "      <td>4.0</td>\n",
       "      <td>0.786796</td>\n",
       "      <td>7</td>\n",
       "      <td>3.000000</td>\n",
       "      <td>2.0</td>\n",
       "      <td>3.5</td>\n",
       "      <td>0.577350</td>\n",
       "      <td>7</td>\n",
       "      <td>...</td>\n",
       "      <td>3.142857</td>\n",
       "      <td>1.5</td>\n",
       "      <td>4.0</td>\n",
       "      <td>1.029332</td>\n",
       "      <td>7</td>\n",
       "      <td>3.285714</td>\n",
       "      <td>1.5</td>\n",
       "      <td>4.0</td>\n",
       "      <td>0.859125</td>\n",
       "      <td>7</td>\n",
       "    </tr>\n",
       "    <tr>\n",
       "      <th>26715</th>\n",
       "      <th>Gageleer</th>\n",
       "      <td>5.000000</td>\n",
       "      <td>5.0</td>\n",
       "      <td>5.0</td>\n",
       "      <td>NaN</td>\n",
       "      <td>1</td>\n",
       "      <td>3.500000</td>\n",
       "      <td>3.5</td>\n",
       "      <td>3.5</td>\n",
       "      <td>NaN</td>\n",
       "      <td>1</td>\n",
       "      <td>...</td>\n",
       "      <td>3.500000</td>\n",
       "      <td>3.5</td>\n",
       "      <td>3.5</td>\n",
       "      <td>NaN</td>\n",
       "      <td>1</td>\n",
       "      <td>3.500000</td>\n",
       "      <td>3.5</td>\n",
       "      <td>3.5</td>\n",
       "      <td>NaN</td>\n",
       "      <td>1</td>\n",
       "    </tr>\n",
       "    <tr>\n",
       "      <th>27039</th>\n",
       "      <th>Heady Topper</th>\n",
       "      <td>4.333333</td>\n",
       "      <td>4.0</td>\n",
       "      <td>4.5</td>\n",
       "      <td>0.288675</td>\n",
       "      <td>3</td>\n",
       "      <td>4.500000</td>\n",
       "      <td>4.0</td>\n",
       "      <td>5.0</td>\n",
       "      <td>0.500000</td>\n",
       "      <td>3</td>\n",
       "      <td>...</td>\n",
       "      <td>4.666667</td>\n",
       "      <td>4.0</td>\n",
       "      <td>5.0</td>\n",
       "      <td>0.577350</td>\n",
       "      <td>3</td>\n",
       "      <td>4.666667</td>\n",
       "      <td>4.5</td>\n",
       "      <td>5.0</td>\n",
       "      <td>0.288675</td>\n",
       "      <td>3</td>\n",
       "    </tr>\n",
       "  </tbody>\n",
       "</table>\n",
       "<p>13237 rows × 25 columns</p>\n",
       "</div>"
      ],
      "text/plain": [
       "                                     review_appearance                      \\\n",
       "                                                  mean  min  max       std   \n",
       "brewer_id beer_name                                                          \n",
       "1         Eisbrau Czech                       3.000000  3.0  3.0       NaN   \n",
       "          Gambrinus                           4.000000  3.5  4.5  0.707107   \n",
       "          Gambrinus Pale                      3.500000  3.5  3.5       NaN   \n",
       "          Pilsner Urquell                     3.746575  2.0  5.0  0.507741   \n",
       "          Primus                              3.000000  3.0  3.0       NaN   \n",
       "...                                                ...  ...  ...       ...   \n",
       "24926     Mongozo (Banana)                    4.500000  4.0  5.0  0.408248   \n",
       "          Mongozo (Palmnut)                   3.894737  2.5  5.0  0.591114   \n",
       "24964     Haffenreffer Private Stock          3.071429  2.0  4.0  0.786796   \n",
       "26715     Gageleer                            5.000000  5.0  5.0       NaN   \n",
       "27039     Heady Topper                        4.333333  4.0  4.5  0.288675   \n",
       "\n",
       "                                           review_aroma                      \\\n",
       "                                     count         mean  min  max       std   \n",
       "brewer_id beer_name                                                           \n",
       "1         Eisbrau Czech                  1     3.000000  3.0  3.0       NaN   \n",
       "          Gambrinus                      2     4.000000  4.0  4.0  0.000000   \n",
       "          Gambrinus Pale                 1     3.500000  3.5  3.5       NaN   \n",
       "          Pilsner Urquell               73     3.383562  1.0  5.0  0.770644   \n",
       "          Primus                         1     3.500000  3.5  3.5       NaN   \n",
       "...                                    ...          ...  ...  ...       ...   \n",
       "24926     Mongozo (Banana)               4     4.625000  4.5  5.0  0.250000   \n",
       "          Mongozo (Palmnut)             19     3.868421  3.0  5.0  0.466729   \n",
       "24964     Haffenreffer Private Stock     7     3.000000  2.0  3.5  0.577350   \n",
       "26715     Gageleer                       1     3.500000  3.5  3.5       NaN   \n",
       "27039     Heady Topper                   3     4.500000  4.0  5.0  0.500000   \n",
       "\n",
       "                                            ...  review_palate            \\\n",
       "                                     count  ...           mean  min  max   \n",
       "brewer_id beer_name                         ...                            \n",
       "1         Eisbrau Czech                  1  ...       3.500000  3.5  3.5   \n",
       "          Gambrinus                      2  ...       3.750000  3.0  4.5   \n",
       "          Gambrinus Pale                 1  ...       3.500000  3.5  3.5   \n",
       "          Pilsner Urquell               73  ...       3.513699  1.0  5.0   \n",
       "          Primus                         1  ...       3.000000  3.0  3.0   \n",
       "...                                    ...  ...            ...  ...  ...   \n",
       "24926     Mongozo (Banana)               4  ...       3.250000  2.5  4.0   \n",
       "          Mongozo (Palmnut)             19  ...       3.868421  2.5  4.5   \n",
       "24964     Haffenreffer Private Stock     7  ...       3.142857  1.5  4.0   \n",
       "26715     Gageleer                       1  ...       3.500000  3.5  3.5   \n",
       "27039     Heady Topper                   3  ...       4.666667  4.0  5.0   \n",
       "\n",
       "                                                     review_taste            \\\n",
       "                                           std count         mean  min  max   \n",
       "brewer_id beer_name                                                           \n",
       "1         Eisbrau Czech                    NaN     1     3.500000  3.5  3.5   \n",
       "          Gambrinus                   1.060660     2     4.000000  4.0  4.0   \n",
       "          Gambrinus Pale                   NaN     1     3.500000  3.5  3.5   \n",
       "          Pilsner Urquell             0.676863    73     3.547945  1.0  4.5   \n",
       "          Primus                           NaN     1     3.000000  3.0  3.0   \n",
       "...                                        ...   ...          ...  ...  ...   \n",
       "24926     Mongozo (Banana)            0.645497     4     3.875000  3.5  4.0   \n",
       "          Mongozo (Palmnut)           0.435957    19     3.763158  2.5  5.0   \n",
       "24964     Haffenreffer Private Stock  1.029332     7     3.285714  1.5  4.0   \n",
       "26715     Gageleer                         NaN     1     3.500000  3.5  3.5   \n",
       "27039     Heady Topper                0.577350     3     4.666667  4.5  5.0   \n",
       "\n",
       "                                                      \n",
       "                                           std count  \n",
       "brewer_id beer_name                                   \n",
       "1         Eisbrau Czech                    NaN     1  \n",
       "          Gambrinus                   0.000000     2  \n",
       "          Gambrinus Pale                   NaN     1  \n",
       "          Pilsner Urquell             0.812935    73  \n",
       "          Primus                           NaN     1  \n",
       "...                                        ...   ...  \n",
       "24926     Mongozo (Banana)            0.250000     4  \n",
       "          Mongozo (Palmnut)           0.510131    19  \n",
       "24964     Haffenreffer Private Stock  0.859125     7  \n",
       "26715     Gageleer                         NaN     1  \n",
       "27039     Heady Topper                0.288675     3  \n",
       "\n",
       "[13237 rows x 25 columns]"
      ]
     },
     "execution_count": 40,
     "metadata": {},
     "output_type": "execute_result"
    }
   ],
   "source": [
    "# multiple groupers, multiple groupee, single aggregation\n",
    "df.groupby(['brewer_id', 'beer_name'])[review_cols].agg(['mean', 'min', 'max', 'std', 'count'])"
   ]
  },
  {
   "cell_type": "markdown",
   "metadata": {},
   "source": [
    "<div class=\"alert alert-success\">\n",
    "  <h1><i class=\"fa fa-tasks\" aria-hidden=\"true\"></i> Exercise</h1>\n",
    "</div>\n",
    "\n",
    "Find the relationship between review length (number of characters) and average `reveiw_overall`.\n",
    "\n",
    "use `.plot(style='k.')`"
   ]
  },
  {
   "cell_type": "code",
   "execution_count": 191,
   "metadata": {
    "collapsed": false
   },
   "outputs": [],
   "source": [
    "gr = df.groupby(review_length).review_overall"
   ]
  },
  {
   "cell_type": "code",
   "execution_count": 42,
   "metadata": {
    "collapsed": false
   },
   "outputs": [
    {
     "data": {
      "text/plain": [
       "text\n",
       "11      3.0\n",
       "13      2.0\n",
       "15      3.0\n",
       "19      3.5\n",
       "20      4.0\n",
       "       ... \n",
       "4871    4.5\n",
       "4911    5.0\n",
       "4917    5.0\n",
       "4968    5.0\n",
       "5002    5.0\n",
       "Name: review_overall, dtype: float64"
      ]
     },
     "execution_count": 42,
     "metadata": {},
     "output_type": "execute_result"
    }
   ],
   "source": [
    "review_length = df.text.str.len()\n",
    "# df.groupby(review_length).review_overall.mean.plot(style='k.')\n",
    "x = df.groupby(review_length).review_overall.agg('mean')\n",
    "x"
   ]
  },
  {
   "cell_type": "code",
   "execution_count": 43,
   "metadata": {
    "collapsed": false
   },
   "outputs": [
    {
     "data": {
      "text/plain": [
       "<matplotlib.collections.PathCollection at 0x111bf0b38>"
      ]
     },
     "execution_count": 43,
     "metadata": {},
     "output_type": "execute_result"
    },
    {
     "data": {
      "image/png": "[encoded data removed]",
      "text/plain": [
       "<matplotlib.figure.Figure at 0x115365438>"
      ]
     },
     "metadata": {},
     "output_type": "display_data"
    }
   ],
   "source": [
    "plt.scatter(x.index, x.values)"
   ]
  },
  {
   "cell_type": "code",
   "execution_count": 67,
   "metadata": {
    "collapsed": false
   },
   "outputs": [
    {
     "data": {
      "text/plain": [
       "100"
      ]
     },
     "execution_count": 67,
     "metadata": {},
     "output_type": "execute_result"
    }
   ],
   "source": [
    "len(df.profile_name.value_counts())"
   ]
  },
  {
   "cell_type": "code",
   "execution_count": 63,
   "metadata": {
    "collapsed": false
   },
   "outputs": [
    {
     "data": {
      "text/plain": [
       "<matplotlib.collections.PathCollection at 0x11d90df98>"
      ]
     },
     "execution_count": 63,
     "metadata": {},
     "output_type": "execute_result"
    },
    {
     "data": {
      "image/png": "[encoded data removed]",
      "text/plain": [
       "<matplotlib.figure.Figure at 0x11ce404e0>"
      ]
     },
     "metadata": {},
     "output_type": "display_data"
    }
   ],
   "source": [
    "x = df.groupby(df.text.str.len()).review_overall.agg(['mean', 'count'])\n",
    "plt.scatter(x.index, x['mean'], s=x['count'], color='k', alpha=.25)"
   ]
  },
  {
   "cell_type": "code",
   "execution_count": null,
   "metadata": {
    "collapsed": false
   },
   "outputs": [],
   "source": [
    "# %load solutions/groupby_00.py\n",
    "df.groupby(df.text.str.len()).review_overall.mean().plot(style='k.')\n"
   ]
  },
  {
   "cell_type": "markdown",
   "metadata": {},
   "source": [
    "<div class=\"alert alert-success\">\n",
    "  <h1><i class=\"fa fa-tasks\" aria-hidden=\"true\"></i> Exercise</h1>\n",
    "</div>\n",
    "\n",
    "Find the relationship between review length (number of **words** and average `reveiw_overall`."
   ]
  },
  {
   "cell_type": "code",
   "execution_count": null,
   "metadata": {
    "collapsed": true
   },
   "outputs": [],
   "source": []
  },
  {
   "cell_type": "code",
   "execution_count": 202,
   "metadata": {
    "collapsed": false
   },
   "outputs": [
    {
     "data": {
      "text/plain": [
       "<matplotlib.axes._subplots.AxesSubplot at 0x15de6d908>"
      ]
     },
     "execution_count": 202,
     "metadata": {},
     "output_type": "execute_result"
    },
    {
     "data": {
      "image/png": "[encoded data removed]",
      "text/plain": [
       "<matplotlib.figure.Figure at 0x15e1b8cf8>"
      ]
     },
     "metadata": {},
     "output_type": "display_data"
    }
   ],
   "source": [
    "# %load solutions/groupby_00b.py\n",
    "(df.groupby(df.text.str.count('\\w+'))\n",
    "   .review_overall\n",
    "   .mean().plot(style='k.'))\n"
   ]
  },
  {
   "cell_type": "markdown",
   "metadata": {},
   "source": [
    "<div class=\"alert alert-success\">\n",
    "  <h1><i class=\"fa fa-tasks\" aria-hidden=\"true\"></i> Exercise</h1>\n",
    "</div>\n",
    "\n",
    "Find the relationship between the number of reviews for a beer and the average `review_overall`.\n"
   ]
  },
  {
   "cell_type": "code",
   "execution_count": 215,
   "metadata": {
    "collapsed": false
   },
   "outputs": [
    {
     "data": {
      "text/plain": [
       "<matplotlib.axes._subplots.AxesSubplot at 0x1391f3048>"
      ]
     },
     "execution_count": 215,
     "metadata": {},
     "output_type": "execute_result"
    },
    {
     "data": {
      "image/png": "[encoded data removed]",
      "text/plain": [
       "<matplotlib.figure.Figure at 0x150449e80>"
      ]
     },
     "metadata": {},
     "output_type": "display_data"
    }
   ],
   "source": [
    "(df.groupby('beer_name').review_overall.agg(['mean', 'count'])\n",
    "   .plot.scatter(x=\"count\", y=\"mean\"))"
   ]
  },
  {
   "cell_type": "code",
   "execution_count": 84,
   "metadata": {
    "collapsed": false
   },
   "outputs": [
    {
     "data": {
      "image/png": "[encoded data removed]",
      "text/plain": [
       "<matplotlib.figure.Figure at 0x1140e0be0>"
      ]
     },
     "metadata": {},
     "output_type": "display_data"
    }
   ],
   "source": [
    "%load solutions/groupby_01.py"
   ]
  },
  {
   "cell_type": "markdown",
   "metadata": {},
   "source": [
    "# Transform\n",
    "\n",
    "This is what to use when\n",
    "\n",
    "- You have a groupwise calculation, but\n",
    "- The output should be the same shape as the input\n",
    "\n",
    "For example, suppose we wanted to normalize each reviewer's scores by their average score. "
   ]
  },
  {
   "cell_type": "code",
   "execution_count": 70,
   "metadata": {
    "collapsed": true
   },
   "outputs": [],
   "source": [
    "# Define demean(v: array) -> array\n",
    "def demean(v):\n",
    "    return v - v.mean()"
   ]
  },
  {
   "cell_type": "code",
   "execution_count": 71,
   "metadata": {
    "collapsed": false
   },
   "outputs": [
    {
     "data": {
      "text/plain": [
       "array([-4., -3., -2., -1.,  0.,  1.,  2.,  3.,  4.])"
      ]
     },
     "execution_count": 71,
     "metadata": {},
     "output_type": "execute_result"
    }
   ],
   "source": [
    "v = np.arange(9)\n",
    "demean(v)"
   ]
  },
  {
   "cell_type": "markdown",
   "metadata": {},
   "source": [
    "Just calling `demean` on the entire Series will noramilze by the *global* average."
   ]
  },
  {
   "cell_type": "code",
   "execution_count": 72,
   "metadata": {
    "collapsed": false
   },
   "outputs": [
    {
     "data": {
      "text/plain": [
       "0        0.245731\n",
       "1        0.245731\n",
       "2        0.745731\n",
       "3        0.245731\n",
       "4        0.245731\n",
       "           ...   \n",
       "76009    0.245731\n",
       "76010    0.745731\n",
       "76011    1.245731\n",
       "76012    0.745731\n",
       "76013   -0.254269\n",
       "Name: review_overall, dtype: float64"
      ]
     },
     "execution_count": 72,
     "metadata": {},
     "output_type": "execute_result"
    }
   ],
   "source": [
    "demean(df.review_overall)"
   ]
  },
  {
   "cell_type": "markdown",
   "metadata": {},
   "source": [
    "If you're making a recommnedation system, you might want to normalize by each person's *individual* mean. A rating of 4 from someone's whose average is 2 is in some sense more meaningful that a 4 from someone who always gives 4s."
   ]
  },
  {
   "cell_type": "code",
   "execution_count": 73,
   "metadata": {
    "collapsed": false
   },
   "outputs": [
    {
     "data": {
      "text/html": [
       "<div>\n",
       "<table border=\"1\" class=\"dataframe\">\n",
       "  <thead>\n",
       "    <tr style=\"text-align: right;\">\n",
       "      <th></th>\n",
       "      <th>review_appearance</th>\n",
       "      <th>review_aroma</th>\n",
       "      <th>review_overall</th>\n",
       "      <th>review_palate</th>\n",
       "      <th>review_taste</th>\n",
       "    </tr>\n",
       "  </thead>\n",
       "  <tbody>\n",
       "    <tr>\n",
       "      <th>0</th>\n",
       "      <td>3.5</td>\n",
       "      <td>3.5</td>\n",
       "      <td>4.0</td>\n",
       "      <td>4.0</td>\n",
       "      <td>4.0</td>\n",
       "    </tr>\n",
       "    <tr>\n",
       "      <th>1</th>\n",
       "      <td>3.0</td>\n",
       "      <td>4.0</td>\n",
       "      <td>4.0</td>\n",
       "      <td>4.5</td>\n",
       "      <td>4.5</td>\n",
       "    </tr>\n",
       "    <tr>\n",
       "      <th>2</th>\n",
       "      <td>4.5</td>\n",
       "      <td>4.0</td>\n",
       "      <td>4.5</td>\n",
       "      <td>4.0</td>\n",
       "      <td>4.5</td>\n",
       "    </tr>\n",
       "    <tr>\n",
       "      <th>3</th>\n",
       "      <td>3.0</td>\n",
       "      <td>2.5</td>\n",
       "      <td>4.0</td>\n",
       "      <td>3.5</td>\n",
       "      <td>3.5</td>\n",
       "    </tr>\n",
       "    <tr>\n",
       "      <th>4</th>\n",
       "      <td>3.5</td>\n",
       "      <td>3.5</td>\n",
       "      <td>4.0</td>\n",
       "      <td>3.5</td>\n",
       "      <td>4.0</td>\n",
       "    </tr>\n",
       "  </tbody>\n",
       "</table>\n",
       "</div>"
      ],
      "text/plain": [
       "   review_appearance  review_aroma  review_overall  review_palate  \\\n",
       "0                3.5           3.5             4.0            4.0   \n",
       "1                3.0           4.0             4.0            4.5   \n",
       "2                4.5           4.0             4.5            4.0   \n",
       "3                3.0           2.5             4.0            3.5   \n",
       "4                3.5           3.5             4.0            3.5   \n",
       "\n",
       "   review_taste  \n",
       "0           4.0  \n",
       "1           4.5  \n",
       "2           4.5  \n",
       "3           3.5  \n",
       "4           4.0  "
      ]
     },
     "execution_count": 73,
     "metadata": {},
     "output_type": "execute_result"
    }
   ],
   "source": [
    "df[review_cols].head()"
   ]
  },
  {
   "cell_type": "code",
   "execution_count": 74,
   "metadata": {
    "collapsed": false
   },
   "outputs": [
    {
     "data": {
      "text/plain": [
       "(76014, 5)"
      ]
     },
     "execution_count": 74,
     "metadata": {},
     "output_type": "execute_result"
    }
   ],
   "source": [
    "df[review_cols].shape"
   ]
  },
  {
   "cell_type": "code",
   "execution_count": 77,
   "metadata": {
    "collapsed": false
   },
   "outputs": [
    {
     "data": {
      "text/html": [
       "<div>\n",
       "<table border=\"1\" class=\"dataframe\">\n",
       "  <thead>\n",
       "    <tr style=\"text-align: right;\">\n",
       "      <th></th>\n",
       "      <th>review_appearance</th>\n",
       "      <th>review_aroma</th>\n",
       "      <th>review_overall</th>\n",
       "      <th>review_palate</th>\n",
       "      <th>review_taste</th>\n",
       "    </tr>\n",
       "  </thead>\n",
       "  <tbody>\n",
       "    <tr>\n",
       "      <th>0</th>\n",
       "      <td>-0.122437</td>\n",
       "      <td>0.003016</td>\n",
       "      <td>0.231604</td>\n",
       "      <td>0.389023</td>\n",
       "      <td>0.278649</td>\n",
       "    </tr>\n",
       "    <tr>\n",
       "      <th>1</th>\n",
       "      <td>-0.622437</td>\n",
       "      <td>0.503016</td>\n",
       "      <td>0.231604</td>\n",
       "      <td>0.889023</td>\n",
       "      <td>0.778649</td>\n",
       "    </tr>\n",
       "    <tr>\n",
       "      <th>2</th>\n",
       "      <td>0.755879</td>\n",
       "      <td>0.357983</td>\n",
       "      <td>0.710705</td>\n",
       "      <td>0.068379</td>\n",
       "      <td>0.758663</td>\n",
       "    </tr>\n",
       "    <tr>\n",
       "      <th>3</th>\n",
       "      <td>-0.622437</td>\n",
       "      <td>-0.996984</td>\n",
       "      <td>0.231604</td>\n",
       "      <td>-0.110977</td>\n",
       "      <td>-0.221351</td>\n",
       "    </tr>\n",
       "    <tr>\n",
       "      <th>4</th>\n",
       "      <td>-0.122437</td>\n",
       "      <td>0.003016</td>\n",
       "      <td>0.231604</td>\n",
       "      <td>-0.110977</td>\n",
       "      <td>0.278649</td>\n",
       "    </tr>\n",
       "  </tbody>\n",
       "</table>\n",
       "</div>"
      ],
      "text/plain": [
       "   review_appearance  review_aroma  review_overall  review_palate  \\\n",
       "0          -0.122437      0.003016        0.231604       0.389023   \n",
       "1          -0.622437      0.503016        0.231604       0.889023   \n",
       "2           0.755879      0.357983        0.710705       0.068379   \n",
       "3          -0.622437     -0.996984        0.231604      -0.110977   \n",
       "4          -0.122437      0.003016        0.231604      -0.110977   \n",
       "\n",
       "   review_taste  \n",
       "0      0.278649  \n",
       "1      0.778649  \n",
       "2      0.758663  \n",
       "3     -0.221351  \n",
       "4      0.278649  "
      ]
     },
     "execution_count": 77,
     "metadata": {},
     "output_type": "execute_result"
    }
   ],
   "source": [
    "normalized = df.groupby(\"profile_name\")[review_cols].transform(demean)\n",
    "normalized.head()"
   ]
  },
  {
   "cell_type": "code",
   "execution_count": 78,
   "metadata": {
    "collapsed": false
   },
   "outputs": [
    {
     "data": {
      "text/plain": [
       "(76014, 5)"
      ]
     },
     "execution_count": 78,
     "metadata": {},
     "output_type": "execute_result"
    }
   ],
   "source": [
    "normalized.shape"
   ]
  },
  {
   "cell_type": "markdown",
   "metadata": {},
   "source": [
    "<div class=\"alert alert-success\">\n",
    "  <h1><i class=\"fa fa-tasks\" aria-hidden=\"true\"></i> Exercise</h1>\n",
    "</div>\n",
    "\n",
    "Do reviewer's `review_overall` trend over a person's time reviewing?\n",
    "\n",
    "Hint: Need an indictor that tracks which review this is for that person."
   ]
  },
  {
   "cell_type": "code",
   "execution_count": 79,
   "metadata": {
    "collapsed": false
   },
   "outputs": [
    {
     "data": {
      "image/png": "[encoded data removed]",
      "text/plain": [
       "<matplotlib.figure.Figure at 0x11d886f98>"
      ]
     },
     "metadata": {},
     "output_type": "display_data"
    }
   ],
   "source": [
    "# %load solutions/groupby_02.py\n",
    "order = df.groupby(\"profile_name\").review_overall.cumcount()\n",
    "df.groupby(order).review_overall.mean().plot();"
   ]
  }
 ],
 "metadata": {
  "kernelspec": {
   "display_name": "Python 3",
   "language": "python",
   "name": "python3"
  },
  "language_info": {
   "codemirror_mode": {
    "name": "ipython",
    "version": 3
   },
   "file_extension": ".py",
   "mimetype": "text/x-python",
   "name": "python",
   "nbconvert_exporter": "python",
   "pygments_lexer": "ipython3",
   "version": "3.5.2"
  }
 },
 "nbformat": 4,
 "nbformat_minor": 0
}
