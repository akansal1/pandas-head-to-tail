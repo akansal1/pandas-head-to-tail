{
 "cells": [
  {
   "cell_type": "markdown",
   "metadata": {},
   "source": [
    "# Managing the pandas – scikit-learn d-type Divide\n",
    "\n",
    "[Pandas](http://pandas.pydata.org) and [scikit-learn](http://scikit-learn.org/stable/) are two of the most popular scientific python libraries.\n",
    "Pandas is commonly used to preprocess, reshape, and transform the data prior to handing it to scikit-learn to fit a model.\n",
    "\n",
    "## The Problem\n",
    "\n",
    "The two libraries have largely overlapping, but still different data models.\n",
    "Scikit-learn uses NumPy arrays for most everything (the exceptiong being scipy sparse matricies for certain tasks, which we'll ignore).\n",
    "Pandas builds on top of NumPy, but has made several extensions to its type system, creating a slight rift between the two. Most notably, pandas supports heterogenous data and has added several extension data-types on top of NumPy.\n",
    "\n",
    "### 1. Homogeneity vs. Heterogeneity\n",
    "\n",
    "NumPy `ndarray`s (and so scikit-learn feature matrices) are *homogeneous*, they must have a single dtype, regardless of the number of dimensions.\n",
    "Pandas `DataFrame`s are potentially *heterogenous*, and can store columns of multiple dtypes within a single DataFrame."
   ]
  },
  {
   "cell_type": "code",
   "execution_count": 1,
   "metadata": {
    "collapsed": true
   },
   "outputs": [],
   "source": [
    "%matplotlib inline\n",
    "import seaborn as sns\n",
    "import numpy as np\n",
    "import pandas as pd"
   ]
  },
  {
   "cell_type": "code",
   "execution_count": 2,
   "metadata": {
    "collapsed": false
   },
   "outputs": [
    {
     "data": {
      "text/plain": [
       "dtype('float64')"
      ]
     },
     "execution_count": 2,
     "metadata": {},
     "output_type": "execute_result"
    }
   ],
   "source": [
    "x = np.array([\n",
    "    [10, 1.0],  # mix of integer and floats\n",
    "    [20, 2.0],\n",
    "    [30, 3.0],\n",
    "    ])\n",
    "x.dtype"
   ]
  },
  {
   "cell_type": "code",
   "execution_count": 3,
   "metadata": {
    "collapsed": false
   },
   "outputs": [
    {
     "data": {
      "text/plain": [
       "0      int64\n",
       "1    float64\n",
       "dtype: object"
      ]
     },
     "execution_count": 3,
     "metadata": {},
     "output_type": "execute_result"
    }
   ],
   "source": [
    "df = pd.DataFrame([\n",
    "    [10, 1.0],\n",
    "    [20, 2.0],\n",
    "    [30, 3.0]\n",
    "])\n",
    "df.dtypes"
   ]
  },
  {
   "cell_type": "markdown",
   "metadata": {},
   "source": [
    "### 2. Extension Types\n",
    "\n",
    "Pandas has implemented some *extension dtypes*: `Categoricals` and datetimes with timezones.\n",
    "These extension types cannot be expressed natively as NumPy arrays, *even if they are a single homogenouse dimension*, and must go through some kind of (potentially lossy) conversion process when converting to NumPy."
   ]
  },
  {
   "cell_type": "code",
   "execution_count": 4,
   "metadata": {
    "collapsed": false
   },
   "outputs": [
    {
     "data": {
      "text/plain": [
       "0    a\n",
       "1    b\n",
       "2    c\n",
       "3    a\n",
       "dtype: category\n",
       "Categories (4, object): [d < a < b < c]"
      ]
     },
     "execution_count": 4,
     "metadata": {},
     "output_type": "execute_result"
    }
   ],
   "source": [
    "s = pd.Series(pd.Categorical(['a', 'b', 'c', 'a'],\n",
    "                             categories=['d', 'a', 'b', 'c'],\n",
    "                             ordered=True))\n",
    "s"
   ]
  },
  {
   "cell_type": "markdown",
   "metadata": {},
   "source": [
    "Casting this to a NumPy array loses the categories and ordered information."
   ]
  },
  {
   "cell_type": "code",
   "execution_count": 5,
   "metadata": {
    "collapsed": false
   },
   "outputs": [
    {
     "data": {
      "text/plain": [
       "array(['a', 'b', 'c', 'a'], dtype=object)"
      ]
     },
     "execution_count": 5,
     "metadata": {},
     "output_type": "execute_result"
    }
   ],
   "source": [
    "np.asarray(s)"
   ]
  },
  {
   "cell_type": "markdown",
   "metadata": {
    "collapsed": true
   },
   "source": [
    "\"Real-world\" data is often complex and heterogeneous, making pandas the tool of choice.\n",
    "However, tools like scikit-learn, which do not depend on pandas, can't use its\n",
    "richer data structures.\n",
    "We need a way of bridging the gap between pandas' DataFrames and the NumPy arrays appropriate for scikit-learn.\n",
    "Fortunately the tools are all there to make this conversion smooth."
   ]
  },
  {
   "cell_type": "markdown",
   "metadata": {},
   "source": [
    "## The Data\n",
    "\n",
    "For our example we'll work with a simple dataset on tips:"
   ]
  },
  {
   "cell_type": "code",
   "execution_count": 6,
   "metadata": {
    "collapsed": false
   },
   "outputs": [
    {
     "data": {
      "text/html": [
       "<div>\n",
       "<table border=\"1\" class=\"dataframe\">\n",
       "  <thead>\n",
       "    <tr style=\"text-align: right;\">\n",
       "      <th></th>\n",
       "      <th>total_bill</th>\n",
       "      <th>tip</th>\n",
       "      <th>sex</th>\n",
       "      <th>smoker</th>\n",
       "      <th>day</th>\n",
       "      <th>time</th>\n",
       "      <th>size</th>\n",
       "    </tr>\n",
       "  </thead>\n",
       "  <tbody>\n",
       "    <tr>\n",
       "      <th>0</th>\n",
       "      <td>16.99</td>\n",
       "      <td>1.01</td>\n",
       "      <td>Female</td>\n",
       "      <td>No</td>\n",
       "      <td>Sun</td>\n",
       "      <td>Dinner</td>\n",
       "      <td>2</td>\n",
       "    </tr>\n",
       "    <tr>\n",
       "      <th>1</th>\n",
       "      <td>10.34</td>\n",
       "      <td>1.66</td>\n",
       "      <td>Male</td>\n",
       "      <td>No</td>\n",
       "      <td>Sun</td>\n",
       "      <td>Dinner</td>\n",
       "      <td>3</td>\n",
       "    </tr>\n",
       "    <tr>\n",
       "      <th>2</th>\n",
       "      <td>21.01</td>\n",
       "      <td>3.50</td>\n",
       "      <td>Male</td>\n",
       "      <td>No</td>\n",
       "      <td>Sun</td>\n",
       "      <td>Dinner</td>\n",
       "      <td>3</td>\n",
       "    </tr>\n",
       "    <tr>\n",
       "      <th>3</th>\n",
       "      <td>23.68</td>\n",
       "      <td>3.31</td>\n",
       "      <td>Male</td>\n",
       "      <td>No</td>\n",
       "      <td>Sun</td>\n",
       "      <td>Dinner</td>\n",
       "      <td>2</td>\n",
       "    </tr>\n",
       "    <tr>\n",
       "      <th>4</th>\n",
       "      <td>24.59</td>\n",
       "      <td>3.61</td>\n",
       "      <td>Female</td>\n",
       "      <td>No</td>\n",
       "      <td>Sun</td>\n",
       "      <td>Dinner</td>\n",
       "      <td>4</td>\n",
       "    </tr>\n",
       "  </tbody>\n",
       "</table>\n",
       "</div>"
      ],
      "text/plain": [
       "   total_bill   tip     sex smoker  day    time  size\n",
       "0       16.99  1.01  Female     No  Sun  Dinner     2\n",
       "1       10.34  1.66    Male     No  Sun  Dinner     3\n",
       "2       21.01  3.50    Male     No  Sun  Dinner     3\n",
       "3       23.68  3.31    Male     No  Sun  Dinner     2\n",
       "4       24.59  3.61  Female     No  Sun  Dinner     4"
      ]
     },
     "execution_count": 6,
     "metadata": {},
     "output_type": "execute_result"
    }
   ],
   "source": [
    "df = pd.read_csv(\"tips.csv\")\n",
    "df.head()"
   ]
  },
  {
   "cell_type": "code",
   "execution_count": 7,
   "metadata": {
    "collapsed": false
   },
   "outputs": [
    {
     "name": "stdout",
     "output_type": "stream",
     "text": [
      "<class 'pandas.core.frame.DataFrame'>\n",
      "RangeIndex: 244 entries, 0 to 243\n",
      "Data columns (total 7 columns):\n",
      "total_bill    244 non-null float64\n",
      "tip           244 non-null float64\n",
      "sex           244 non-null object\n",
      "smoker        244 non-null object\n",
      "day           244 non-null object\n",
      "time          244 non-null object\n",
      "size          244 non-null int64\n",
      "dtypes: float64(2), int64(1), object(4)\n",
      "memory usage: 13.4+ KB\n"
     ]
    }
   ],
   "source": [
    "df.info()"
   ]
  },
  {
   "cell_type": "markdown",
   "metadata": {},
   "source": [
    "Our target variable is the tip amount. The remainder of the columns make up our features."
   ]
  },
  {
   "cell_type": "code",
   "execution_count": 8,
   "metadata": {
    "collapsed": true
   },
   "outputs": [],
   "source": [
    "y = df['tip']\n",
    "X = df.drop('tip', axis=1)"
   ]
  },
  {
   "cell_type": "markdown",
   "metadata": {},
   "source": [
    "Notice the feature matrix is a mixture of numeric and categorical variables.\n",
    "In statistics, a categorical variable is a variable that comes from a limited, fixed set of values.\n",
    "At the moment though, the actual data-type of those columns is just `object`, containing python strings. We'll convert those to pandas `Categorical`s later."
   ]
  },
  {
   "cell_type": "markdown",
   "metadata": {},
   "source": [
    "## The Stats\n",
    "\n",
    "Our focus is about how to use pandas and scikit-learn together, not how to build the best tip-predicting model.\n",
    "To keep things simple, we'll fit a linear regression to predict `tip`, rather than some more complicated model."
   ]
  },
  {
   "cell_type": "code",
   "execution_count": 9,
   "metadata": {
    "collapsed": true
   },
   "outputs": [],
   "source": [
    "from sklearn.linear_model import LinearRegression"
   ]
  },
  {
   "cell_type": "markdown",
   "metadata": {},
   "source": [
    "When you fit a linear regression, you (or scikit-learn, rather) end up having to solve an equation to find the line that minimizes the mean squared error between the predictions and observations. The equation that gives the best-fit line is\n",
    "\n",
    "$$\n",
    "\\hat{\\boldsymbol{\\beta}} = \\left(\\boldsymbol{X}^T\\boldsymbol{X}\\right)^{-1} \\boldsymbol{X}^T \\boldsymbol{y}\n",
    "$$\n",
    "\n",
    "where\n",
    "\n",
    "- $\\hat{\\boldsymbol{\\beta}}$ is our estimate for the vector of coefficients describing the best-fit line (`LinearRegression.coef_`)\n",
    "- $\\boldsymbol{X}$ is the feature matrix\n",
    "- $\\boldsymbol{y}$ is the target array (tip amount)\n",
    "\n",
    "There's no need to worry about that equation; it likely won't make sense unless you've seen it before.\n",
    "The only point I want to emphasize is that finding the best-fit line requires doing some matrix multiplications.\n",
    "If we just tried to fit a regression on our raw data, we'd get an error:"
   ]
  },
  {
   "cell_type": "code",
   "execution_count": 10,
   "metadata": {
    "collapsed": false
   },
   "outputs": [
    {
     "name": "stdout",
     "output_type": "stream",
     "text": [
      "Exception reporting mode: Plain\n"
     ]
    },
    {
     "ename": "ValueError",
     "evalue": "could not convert string to float: 'Dinner'",
     "output_type": "error",
     "traceback": [
      "Traceback \u001b[0;36m(most recent call last)\u001b[0m:\n",
      "  File \u001b[1;32m\"<ipython-input-10-51aa94ac319f>\"\u001b[0m, line \u001b[1;32m3\u001b[0m, in \u001b[1;35m<module>\u001b[0m\n    lm.fit(X, y)\n",
      "  File \u001b[1;32m\"/Users/tom.augspurger/Envs/mtg/lib/python3.5/site-packages/sklearn/linear_model/base.py\"\u001b[0m, line \u001b[1;32m427\u001b[0m, in \u001b[1;35mfit\u001b[0m\n    y_numeric=True, multi_output=True)\n",
      "  File \u001b[1;32m\"/Users/tom.augspurger/Envs/mtg/lib/python3.5/site-packages/sklearn/utils/validation.py\"\u001b[0m, line \u001b[1;32m510\u001b[0m, in \u001b[1;35mcheck_X_y\u001b[0m\n    ensure_min_features, warn_on_dtype, estimator)\n",
      "\u001b[0;36m  File \u001b[0;32m\"/Users/tom.augspurger/Envs/mtg/lib/python3.5/site-packages/sklearn/utils/validation.py\"\u001b[0;36m, line \u001b[0;32m393\u001b[0;36m, in \u001b[0;35mcheck_array\u001b[0;36m\u001b[0m\n\u001b[0;31m    array = array.astype(np.float64)\u001b[0m\n",
      "\u001b[0;31mValueError\u001b[0m\u001b[0;31m:\u001b[0m could not convert string to float: 'Dinner'\n"
     ]
    }
   ],
   "source": [
    "%xmode Plain\n",
    "lm = LinearRegression()\n",
    "lm.fit(X, y)"
   ]
  },
  {
   "cell_type": "markdown",
   "metadata": {},
   "source": [
    "The message, \"could not convert string to float\" says it all.\n",
    "We (or our library) need to somehow convert our *categorical* data (`sex`, `smoker`, `day`, and `time`) into numeric data.\n",
    "The next two sections offer some possible ways of doing that conversion."
   ]
  },
  {
   "cell_type": "markdown",
   "metadata": {},
   "source": [
    "## Factorize\n",
    "\n",
    "One option [occasionally suggested](http://stackoverflow.com/q/25530504/1889400) is to *factorize* the non-numeric columns.\n",
    "Factorization maps each distinct field to numeric codes.\n",
    "\n",
    "![factorize](figures/factorize.png)"
   ]
  },
  {
   "cell_type": "code",
   "execution_count": 11,
   "metadata": {
    "collapsed": false
   },
   "outputs": [
    {
     "name": "stdout",
     "output_type": "stream",
     "text": [
      "Codes:   [0 0 1 1 1 0 1 1 2 3 3 1 2 2 2 0 0 1 0 0 2 1 3 1 1]\n",
      "\n",
      "Labels:  Index(['Sun', 'Sun', 'Sat', 'Sat', 'Sat', 'Sun', 'Sat', 'Sat', 'Thur', 'Fri',\n",
      "       'Fri', 'Sat', 'Thur', 'Thur', 'Thur', 'Sun', 'Sun', 'Sat', 'Sun', 'Sun',\n",
      "       'Thur', 'Sat', 'Fri', 'Sat', 'Sat'],\n",
      "      dtype='object')\n"
     ]
    }
   ],
   "source": [
    "codes, labels = pd.factorize(df['day'])\n",
    "print('Codes:  ', codes[::10], end='\\n\\n')\n",
    "print('Labels: ', labels[codes[::10]])"
   ]
  },
  {
   "cell_type": "markdown",
   "metadata": {},
   "source": [
    "So every occurance of `'Sun'` becomes `0`, each `'Sat'` becomes `1`, and so on.\n",
    "\n",
    "We could assign the factorized values into a new DataFrame:"
   ]
  },
  {
   "cell_type": "code",
   "execution_count": 12,
   "metadata": {
    "collapsed": false
   },
   "outputs": [
    {
     "data": {
      "text/html": [
       "<div>\n",
       "<table border=\"1\" class=\"dataframe\">\n",
       "  <thead>\n",
       "    <tr style=\"text-align: right;\">\n",
       "      <th></th>\n",
       "      <th>total_bill</th>\n",
       "      <th>sex</th>\n",
       "      <th>smoker</th>\n",
       "      <th>day</th>\n",
       "      <th>time</th>\n",
       "      <th>size</th>\n",
       "    </tr>\n",
       "  </thead>\n",
       "  <tbody>\n",
       "    <tr>\n",
       "      <th>0</th>\n",
       "      <td>16.99</td>\n",
       "      <td>0</td>\n",
       "      <td>0</td>\n",
       "      <td>0</td>\n",
       "      <td>0</td>\n",
       "      <td>2</td>\n",
       "    </tr>\n",
       "    <tr>\n",
       "      <th>1</th>\n",
       "      <td>10.34</td>\n",
       "      <td>1</td>\n",
       "      <td>0</td>\n",
       "      <td>0</td>\n",
       "      <td>0</td>\n",
       "      <td>3</td>\n",
       "    </tr>\n",
       "    <tr>\n",
       "      <th>2</th>\n",
       "      <td>21.01</td>\n",
       "      <td>1</td>\n",
       "      <td>0</td>\n",
       "      <td>0</td>\n",
       "      <td>0</td>\n",
       "      <td>3</td>\n",
       "    </tr>\n",
       "    <tr>\n",
       "      <th>3</th>\n",
       "      <td>23.68</td>\n",
       "      <td>1</td>\n",
       "      <td>0</td>\n",
       "      <td>0</td>\n",
       "      <td>0</td>\n",
       "      <td>2</td>\n",
       "    </tr>\n",
       "    <tr>\n",
       "      <th>4</th>\n",
       "      <td>24.59</td>\n",
       "      <td>0</td>\n",
       "      <td>0</td>\n",
       "      <td>0</td>\n",
       "      <td>0</td>\n",
       "      <td>4</td>\n",
       "    </tr>\n",
       "  </tbody>\n",
       "</table>\n",
       "</div>"
      ],
      "text/plain": [
       "   total_bill  sex  smoker  day  time  size\n",
       "0       16.99    0       0    0     0     2\n",
       "1       10.34    1       0    0     0     3\n",
       "2       21.01    1       0    0     0     3\n",
       "3       23.68    1       0    0     0     2\n",
       "4       24.59    0       0    0     0     4"
      ]
     },
     "execution_count": 12,
     "metadata": {},
     "output_type": "execute_result"
    }
   ],
   "source": [
    "cat_cols = ['sex', 'smoker', 'day', 'time']\n",
    "\n",
    "X_factorized = X.copy()\n",
    "X_factorized[cat_cols] = X_factorized[cat_cols].apply(\n",
    "    lambda x: pd.factorize(x)[0]\n",
    ")\n",
    "X_factorized.head()"
   ]
  },
  {
   "cell_type": "markdown",
   "metadata": {},
   "source": [
    "And fit the regression:"
   ]
  },
  {
   "cell_type": "code",
   "execution_count": 13,
   "metadata": {
    "collapsed": false
   },
   "outputs": [
    {
     "name": "stderr",
     "output_type": "stream",
     "text": [
      "/Users/tom.augspurger/Envs/mtg/lib/python3.5/site-packages/scipy/linalg/basic.py:884: RuntimeWarning: internal gelsd driver lwork query error, required iwork dimension not returned. This is likely the result of LAPACK bug 0038, fixed in LAPACK 3.2.2 (released July 21, 2010). Falling back to 'gelss' driver.\n",
      "  warnings.warn(mesg, RuntimeWarning)\n"
     ]
    },
    {
     "data": {
      "text/plain": [
       "LinearRegression(copy_X=True, fit_intercept=True, n_jobs=1, normalize=False)"
      ]
     },
     "execution_count": 13,
     "metadata": {},
     "output_type": "execute_result"
    }
   ],
   "source": [
    "lm = LinearRegression()\n",
    "lm.fit(X_factorized, y)"
   ]
  },
  {
   "cell_type": "markdown",
   "metadata": {},
   "source": [
    "And inspect the coefficeints, predections, error, etc."
   ]
  },
  {
   "cell_type": "code",
   "execution_count": 14,
   "metadata": {
    "collapsed": false
   },
   "outputs": [
    {
     "data": {
      "text/plain": [
       "total_bill    0.094076\n",
       "sex          -0.029216\n",
       "smoker       -0.081041\n",
       "day          -0.007834\n",
       "time          0.005721\n",
       "size          0.179367\n",
       "dtype: float64"
      ]
     },
     "execution_count": 14,
     "metadata": {},
     "output_type": "execute_result"
    }
   ],
   "source": [
    "pd.Series(lm.coef_, X_factorized.columns)"
   ]
  },
  {
   "cell_type": "markdown",
   "metadata": {},
   "source": [
    "We successfully fit the model.\n",
    "However, there are several problems with this approach.\n",
    "\n",
    "First, ordering of the unique values *before* factorization becomes important.\n",
    "If we wanted to predict for a related dataset using the same model (say a test dataset), we would need\n",
    "to ensure that the original values get factorized to the same numerical values.\n",
    "If the order differed, say `day='Sat'` came first instead of `day='Sun'`, values the mapping between label and numeric codes would be different."
   ]
  },
  {
   "cell_type": "code",
   "execution_count": 15,
   "metadata": {
    "collapsed": true
   },
   "outputs": [],
   "source": [
    "from sklearn.cross_validation import train_test_split"
   ]
  },
  {
   "cell_type": "code",
   "execution_count": 16,
   "metadata": {
    "collapsed": false
   },
   "outputs": [],
   "source": [
    "X_train, X_test = train_test_split(X, random_state=0)\n",
    "_, train_order = pd.factorize(X_train['day'])\n",
    "_, test_order = pd.factorize(X_test['day'])"
   ]
  },
  {
   "cell_type": "code",
   "execution_count": 17,
   "metadata": {
    "collapsed": false
   },
   "outputs": [
    {
     "data": {
      "text/plain": [
       "Index(['Sat', 'Thur', 'Sun', 'Fri'], dtype='object')"
      ]
     },
     "execution_count": 17,
     "metadata": {},
     "output_type": "execute_result"
    }
   ],
   "source": [
    "train_order"
   ]
  },
  {
   "cell_type": "code",
   "execution_count": 18,
   "metadata": {
    "collapsed": false
   },
   "outputs": [
    {
     "data": {
      "text/plain": [
       "Index(['Sat', 'Sun', 'Fri', 'Thur'], dtype='object')"
      ]
     },
     "execution_count": 18,
     "metadata": {},
     "output_type": "execute_result"
    }
   ],
   "source": [
    "test_order"
   ]
  },
  {
   "cell_type": "markdown",
   "metadata": {},
   "source": [
    "Second, factorization asserts that the difference between any two \"adjacent\" categories is the same.\n",
    "In our linear model, this implies that the change in $tip$ with respect to a jump from `'Sunday'` to `'Saturday'` has the same effect as a jump from `'Saturday'` to `'Thursday'`.\n",
    "\n",
    "$$\n",
    "\\frac{\n",
    "  \\Delta{\\text{tip}}\n",
    "}{\n",
    "  \\Delta({\\text{Sun.} \\rightarrow \\text{Sat.}})\n",
    "} = \\frac{\n",
    "  \\Delta{\\text{tip}}\n",
    "}{\n",
    "  \\Delta({\\text{Sat.} \\rightarrow \\text{Thur.}})\n",
    "}\n",
    "$$"
   ]
  },
  {
   "cell_type": "markdown",
   "metadata": {},
   "source": [
    "We can plot what this looks like:"
   ]
  },
  {
   "cell_type": "code",
   "execution_count": 19,
   "metadata": {
    "collapsed": false
   },
   "outputs": [
    {
     "data": {
      "image/png": "[encoded data removed]",
      "text/plain": [
       "<matplotlib.figure.Figure at 0x118cd47b8>"
      ]
     },
     "metadata": {},
     "output_type": "display_data"
    }
   ],
   "source": [
    "import seaborn as sns\n",
    "import matplotlib.pyplot as plt\n",
    "\n",
    "sns.set(style='ticks', context='talk')\n",
    "\n",
    "# Fit just \"tip ~ day\", to make plotting easier\n",
    "lm = LinearRegression()\n",
    "lm.fit(X_factorized[['day']], y)\n",
    "b0, b1 = lm.intercept_, lm.coef_.ravel()[0]\n",
    "\n",
    "ax = sns.stripplot('day', 'tip', data=df, jitter=1)\n",
    "xlim = ax.get_xlim()\n",
    "xx = np.linspace(*xlim, 2)\n",
    "ax.plot(xx, [3.2245 + b1 * xx[0], b0 + b1 * xx[1]], lw=4)\n",
    "sns.despine()"
   ]
  },
  {
   "cell_type": "markdown",
   "metadata": {},
   "source": [
    "This may not be true in practice, and our data representation should not force our model to assume it.\n",
    "Better to let the model *discover* that relationship, if it actually happens to be there."
   ]
  },
  {
   "cell_type": "markdown",
   "metadata": {},
   "source": [
    "## Dummy Encoding\n",
    "\n",
    "![dummy](figures/dummy.png)\n",
    "\n",
    "There's a better approach, dummy encoding.\n",
    "This expands each categorical column to *multiple* columns, one per distinct value.\n",
    "The values in these new dummy-encoded columns are either 1, indicating the presence of that value in that observation, or 0.\n",
    "Versions of this are implemented in both scikit-learn and pandas."
   ]
  },
  {
   "cell_type": "markdown",
   "metadata": {},
   "source": [
    "I recommend the pandas version, `get_dummies`. It offers a few conveniences:\n",
    "\n",
    "- Operates on multiple columns at once\n",
    "- Passes through numeric columns unchanged\n",
    "- Preserves row and column labels\n",
    "- Provides a `drop_first` keyword for dropping a level per column. You might want this to avoid [perfect multicolinearity](https://en.wikipedia.org/wiki/Multicollinearity) if you have an intercept"
   ]
  },
  {
   "cell_type": "code",
   "execution_count": 20,
   "metadata": {
    "collapsed": false
   },
   "outputs": [
    {
     "data": {
      "text/html": [
       "<div>\n",
       "<table border=\"1\" class=\"dataframe\">\n",
       "  <thead>\n",
       "    <tr style=\"text-align: right;\">\n",
       "      <th></th>\n",
       "      <th>total_bill</th>\n",
       "      <th>size</th>\n",
       "      <th>sex_Female</th>\n",
       "      <th>sex_Male</th>\n",
       "      <th>smoker_No</th>\n",
       "      <th>smoker_Yes</th>\n",
       "      <th>day_Fri</th>\n",
       "      <th>day_Sat</th>\n",
       "      <th>day_Sun</th>\n",
       "      <th>day_Thur</th>\n",
       "      <th>time_Dinner</th>\n",
       "      <th>time_Lunch</th>\n",
       "    </tr>\n",
       "  </thead>\n",
       "  <tbody>\n",
       "    <tr>\n",
       "      <th>0</th>\n",
       "      <td>16.99</td>\n",
       "      <td>2</td>\n",
       "      <td>1.0</td>\n",
       "      <td>0.0</td>\n",
       "      <td>1.0</td>\n",
       "      <td>0.0</td>\n",
       "      <td>0.0</td>\n",
       "      <td>0.0</td>\n",
       "      <td>1.0</td>\n",
       "      <td>0.0</td>\n",
       "      <td>1.0</td>\n",
       "      <td>0.0</td>\n",
       "    </tr>\n",
       "    <tr>\n",
       "      <th>1</th>\n",
       "      <td>10.34</td>\n",
       "      <td>3</td>\n",
       "      <td>0.0</td>\n",
       "      <td>1.0</td>\n",
       "      <td>1.0</td>\n",
       "      <td>0.0</td>\n",
       "      <td>0.0</td>\n",
       "      <td>0.0</td>\n",
       "      <td>1.0</td>\n",
       "      <td>0.0</td>\n",
       "      <td>1.0</td>\n",
       "      <td>0.0</td>\n",
       "    </tr>\n",
       "    <tr>\n",
       "      <th>2</th>\n",
       "      <td>21.01</td>\n",
       "      <td>3</td>\n",
       "      <td>0.0</td>\n",
       "      <td>1.0</td>\n",
       "      <td>1.0</td>\n",
       "      <td>0.0</td>\n",
       "      <td>0.0</td>\n",
       "      <td>0.0</td>\n",
       "      <td>1.0</td>\n",
       "      <td>0.0</td>\n",
       "      <td>1.0</td>\n",
       "      <td>0.0</td>\n",
       "    </tr>\n",
       "    <tr>\n",
       "      <th>3</th>\n",
       "      <td>23.68</td>\n",
       "      <td>2</td>\n",
       "      <td>0.0</td>\n",
       "      <td>1.0</td>\n",
       "      <td>1.0</td>\n",
       "      <td>0.0</td>\n",
       "      <td>0.0</td>\n",
       "      <td>0.0</td>\n",
       "      <td>1.0</td>\n",
       "      <td>0.0</td>\n",
       "      <td>1.0</td>\n",
       "      <td>0.0</td>\n",
       "    </tr>\n",
       "    <tr>\n",
       "      <th>4</th>\n",
       "      <td>24.59</td>\n",
       "      <td>4</td>\n",
       "      <td>1.0</td>\n",
       "      <td>0.0</td>\n",
       "      <td>1.0</td>\n",
       "      <td>0.0</td>\n",
       "      <td>0.0</td>\n",
       "      <td>0.0</td>\n",
       "      <td>1.0</td>\n",
       "      <td>0.0</td>\n",
       "      <td>1.0</td>\n",
       "      <td>0.0</td>\n",
       "    </tr>\n",
       "  </tbody>\n",
       "</table>\n",
       "</div>"
      ],
      "text/plain": [
       "   total_bill  size  sex_Female  sex_Male  smoker_No  smoker_Yes  day_Fri  \\\n",
       "0       16.99     2         1.0       0.0        1.0         0.0      0.0   \n",
       "1       10.34     3         0.0       1.0        1.0         0.0      0.0   \n",
       "2       21.01     3         0.0       1.0        1.0         0.0      0.0   \n",
       "3       23.68     2         0.0       1.0        1.0         0.0      0.0   \n",
       "4       24.59     4         1.0       0.0        1.0         0.0      0.0   \n",
       "\n",
       "   day_Sat  day_Sun  day_Thur  time_Dinner  time_Lunch  \n",
       "0      0.0      1.0       0.0          1.0         0.0  \n",
       "1      0.0      1.0       0.0          1.0         0.0  \n",
       "2      0.0      1.0       0.0          1.0         0.0  \n",
       "3      0.0      1.0       0.0          1.0         0.0  \n",
       "4      0.0      1.0       0.0          1.0         0.0  "
      ]
     },
     "execution_count": 20,
     "metadata": {},
     "output_type": "execute_result"
    }
   ],
   "source": [
    "X_dummy = pd.get_dummies(X)\n",
    "X_dummy.head()"
   ]
  },
  {
   "cell_type": "code",
   "execution_count": 21,
   "metadata": {
    "collapsed": false
   },
   "outputs": [
    {
     "data": {
      "text/plain": [
       "total_bill    0.094487\n",
       "size          0.175992\n",
       "sex_Female    0.016220\n",
       "sex_Male     -0.016220\n",
       "smoker_No     0.043204\n",
       "dtype: float64"
      ]
     },
     "execution_count": 21,
     "metadata": {},
     "output_type": "execute_result"
    }
   ],
   "source": [
    "lm = LinearRegression()\n",
    "lm.fit(X_dummy, y)\n",
    "\n",
    "pd.Series(lm.coef_, index=X_dummy.columns).head()"
   ]
  },
  {
   "cell_type": "markdown",
   "metadata": {},
   "source": [
    "This version solves both of our issues with `factorize`.\n",
    "\n",
    "1. The ordering of rows doesn't matter anymore because the dummy-columns are computed on the sorted version of the categories\n",
    "2. \"adjacent\" categories each have their own parameter, so they're free to have their own effect"
   ]
  },
  {
   "cell_type": "markdown",
   "metadata": {},
   "source": [
    "## Refinements\n",
    "\n",
    "Our last approach worked, but there's still room for improvement.\n",
    "\n",
    "1. We can't easily go from dummies back to categoricals\n",
    "2. Doesn't integrate with scikit-learn `Pipeline` objects.\n",
    "3. If working with a larger dataset and `partial_fit`, codes could be missing from subsets of the data.\n",
    "4. Memory inefficient if there are many records relative to distinct categories\n",
    "\n",
    "This items become more important when you go to \"productionize\" your model.\n",
    "But keep in mind that we've solved the basic problem of moving from pandas DataFrames to NumPy arrays for scikit-learn; now we're just making the bridge sturdier.\n",
    "\n",
    "To accomplish this we'll store additonal information in the *type* of the column and write a [Transformer](http://scikit-learn.org/stable/modules/generated/sklearn.base.TransformerMixin.html) to handle the conversion to and from dummies."
   ]
  },
  {
   "cell_type": "markdown",
   "metadata": {},
   "source": [
    "## Aside: scikit-learn Pipelines\n",
    "\n",
    "Rarely when doing data analysis do we take plug a raw dataset directly into a model.\n",
    "There's typically some preprocessing and feature engineering before the fitting stage.\n",
    "`scikit-learn` provides the `Pipeline` interface for chaining together a sequence of fit and transform steps. For example, suppose we wanted our pipeline to be\n",
    "\n",
    "- standardize each column (subtract the mean, normalize the variance to 1)\n",
    "- compute all the [interaction terms](https://en.wikipedia.org/wiki/Interaction_(statistics))\n",
    "- fitting a Lasso regression\n",
    "\n",
    "Without using a scikit-learn `Pipeline`, you need to assign the output of each step to a temporary variable, and manually shuttling data through to the end:"
   ]
  },
  {
   "cell_type": "code",
   "execution_count": 22,
   "metadata": {
    "collapsed": false
   },
   "outputs": [],
   "source": [
    "from sklearn.preprocessing import StandardScaler, PolynomialFeatures\n",
    "from sklearn.linear_model import Lasso"
   ]
  },
  {
   "cell_type": "code",
   "execution_count": 23,
   "metadata": {
    "collapsed": false
   },
   "outputs": [
    {
     "data": {
      "text/plain": [
       "Lasso(alpha=0.5, copy_X=True, fit_intercept=True, max_iter=1000,\n",
       "   normalize=False, positive=False, precompute=False, random_state=None,\n",
       "   selection='cyclic', tol=0.0001, warm_start=False)"
      ]
     },
     "execution_count": 23,
     "metadata": {},
     "output_type": "execute_result"
    }
   ],
   "source": [
    "X_scaled = StandardScaler().fit_transform(X_dummy, y)\n",
    "X_poly = (PolynomialFeatures(interaction_only=True)\n",
    "            .fit_transform(X_scaled, y))\n",
    "model = Lasso(alpha=.5)\n",
    "model.fit(X_poly, y)"
   ]
  },
  {
   "cell_type": "markdown",
   "metadata": {},
   "source": [
    "With pipelines, this becomes:"
   ]
  },
  {
   "cell_type": "code",
   "execution_count": 24,
   "metadata": {
    "collapsed": true
   },
   "outputs": [],
   "source": [
    "from sklearn.pipeline import make_pipeline"
   ]
  },
  {
   "cell_type": "code",
   "execution_count": 25,
   "metadata": {
    "collapsed": false
   },
   "outputs": [
    {
     "data": {
      "text/plain": [
       "Pipeline(steps=[('standardscaler', StandardScaler(copy=True, with_mean=True, with_std=True)), ('polynomialfeatures', PolynomialFeatures(degree=2, include_bias=True, interaction_only=True)), ('lasso', Lasso(alpha=0.5, copy_X=True, fit_intercept=True, max_iter=1000,\n",
       "   normalize=False, positive=False, precompute=False, random_state=None,\n",
       "   selection='cyclic', tol=0.0001, warm_start=False))])"
      ]
     },
     "execution_count": 25,
     "metadata": {},
     "output_type": "execute_result"
    }
   ],
   "source": [
    "pipe = make_pipeline(StandardScaler(),\n",
    "                     PolynomialFeatures(interaction_only=True),\n",
    "                     Lasso(alpha=.5))\n",
    "pipe.fit(X_dummy, y)"
   ]
  },
  {
   "cell_type": "markdown",
   "metadata": {},
   "source": [
    "I always recommend the pipeline version.\n",
    "For one thing, I prefer the aesthetics.\n",
    "Especially with longer chains of computations, pipelines remove the need for many temporary variables.\n",
    "They are also easier to save to disk with [joblib](https://pythonhosted.org/joblib/persistence.html).\n",
    "But the most important reason is the interaction of `Pipeline` and [`GridSearchCV`](http://scikit-learn.org/stable/modules/grid_search.html).\n",
    "\n",
    "When fitting a model you'll typically have a space of *hyperparameters* to search over.\n",
    "These are the parameters passed to each estimators `__init__` method, so before the `.fit` step.\n",
    "In the pipeline above, some examples of hyperparameters are the `interaction_only` parameter of `PolynomialFeatures` and the `alpha` parameter of `Lasso`.\n",
    "\n",
    "A common mistake in machine learning is to let information from your test dataset leak into your training dataset by preprocessing *before* splitting.\n",
    "This means the score you get on the test may not be an accurate representation of the score you'll get on new data."
   ]
  },
  {
   "cell_type": "markdown",
   "metadata": {},
   "source": [
    "`scikit-learn` provides many tools for you to write custom transformers that work well in its `Pipeline`.\n",
    "When writing a custom transformer, you should:\n",
    "\n",
    "- inherit from `sklearn.base.TransformerMixin`\n",
    "- implement a `.fit` method that takes a feature matrix `X` and a target array `y`, returning `self`.\n",
    "- implement a `.transform` method that also takes an `X` and a `y`, returning the transformed feature matrix\n",
    "\n",
    "Below, we'll write a couple custom transformers to make our last regression more robust. But before that, we need to examine one of pandas' extension dtypes."
   ]
  },
  {
   "cell_type": "markdown",
   "metadata": {},
   "source": [
    "## Pandas `Categorical` dtype\n",
    "\n",
    "Pandas provides a `Categorical` dtype, which stores\n",
    "\n",
    "- All the possible values the column can take\n",
    "- Whether there is an ordering on the categories\n",
    "- A relationship between each distinct categorical value and an integer code\n",
    "\n",
    "`Categorical`s can be constructed either with the `pd.Categorical` constructor, or using the `.astype` method on a `Series`. For example"
   ]
  },
  {
   "cell_type": "code",
   "execution_count": 26,
   "metadata": {
    "collapsed": false
   },
   "outputs": [
    {
     "data": {
      "text/plain": [
       "0    Sun\n",
       "1    Sun\n",
       "2    Sun\n",
       "3    Sun\n",
       "4    Sun\n",
       "Name: day, dtype: category\n",
       "Categories (4, object): [Fri, Sat, Sun, Thur]"
      ]
     },
     "execution_count": 26,
     "metadata": {},
     "output_type": "execute_result"
    }
   ],
   "source": [
    "day = df['day'].astype('category').head()\n",
    "day.head()"
   ]
  },
  {
   "cell_type": "markdown",
   "metadata": {},
   "source": [
    "With `.astype('category')` we're just using the defaults of\n",
    "\n",
    "- The set of categories is just the set present in the column\n",
    "- There is no ordering\n",
    "\n",
    "The categorical-specific information of a `Series` is stored under the `.cat` accessor."
   ]
  },
  {
   "cell_type": "code",
   "execution_count": 27,
   "metadata": {
    "collapsed": false
   },
   "outputs": [
    {
     "data": {
      "text/plain": [
       "Index(['Fri', 'Sat', 'Sun', 'Thur'], dtype='object')"
      ]
     },
     "execution_count": 27,
     "metadata": {},
     "output_type": "execute_result"
    }
   ],
   "source": [
    "day.cat.categories"
   ]
  },
  {
   "cell_type": "code",
   "execution_count": 28,
   "metadata": {
    "collapsed": false
   },
   "outputs": [
    {
     "data": {
      "text/plain": [
       "False"
      ]
     },
     "execution_count": 28,
     "metadata": {},
     "output_type": "execute_result"
    }
   ],
   "source": [
    "day.cat.ordered"
   ]
  },
  {
   "cell_type": "markdown",
   "metadata": {},
   "source": [
    "The following class is a transformer that transforms to categorical columns."
   ]
  },
  {
   "cell_type": "code",
   "execution_count": 29,
   "metadata": {
    "collapsed": true
   },
   "outputs": [],
   "source": [
    "from sklearn.base import TransformerMixin"
   ]
  },
  {
   "cell_type": "code",
   "execution_count": 30,
   "metadata": {
    "collapsed": false
   },
   "outputs": [],
   "source": [
    "class CategoricalTransformer(TransformerMixin):\n",
    "    \"Converts a set of columns in a DataFrame to categoricals\"\n",
    "    def __init__(self, columns):\n",
    "        self.columns = columns\n",
    "        \n",
    "    def fit(self, X, y=None):\n",
    "        'Records the categorical information'\n",
    "        self.cat_map_ = {col: X[col].astype('category').cat\n",
    "                         for col in self.columns}\n",
    "        return self\n",
    "\n",
    "    def transform(self, X, y=None):\n",
    "        X = X.copy()\n",
    "        for col in self.columns:\n",
    "            X[col] = pd.Categorical(X[col],\n",
    "                                    categories=self.cat_map_[col].categories,\n",
    "                                    ordered=self.cat_map_[col].ordered)\n",
    "        return X\n",
    "    \n",
    "    def inverse_transform(self, trn, y=None):\n",
    "        trn = trn.copy()\n",
    "        trn[self.columns] = trn[self.columns].apply(lambda x: x.astype(object))\n",
    "        return trn"
   ]
  },
  {
   "cell_type": "markdown",
   "metadata": {},
   "source": [
    "The most important rule when writing custom objects to be used in a `Pipeline` is that the `transfrom` and `inverse_transform` steps shouldn't modify `self`. That should only occur in `fit`. Because we inherited from `TransformerMixin`, we get the `fit_transform` method."
   ]
  },
  {
   "cell_type": "code",
   "execution_count": 31,
   "metadata": {
    "collapsed": false
   },
   "outputs": [
    {
     "name": "stdout",
     "output_type": "stream",
     "text": [
      "<class 'pandas.core.frame.DataFrame'>\n",
      "RangeIndex: 244 entries, 0 to 243\n",
      "Data columns (total 6 columns):\n",
      "total_bill    244 non-null float64\n",
      "sex           244 non-null category\n",
      "smoker        244 non-null category\n",
      "day           244 non-null category\n",
      "time          244 non-null category\n",
      "size          244 non-null int64\n",
      "dtypes: category(4), float64(1), int64(1)\n",
      "memory usage: 4.9 KB\n"
     ]
    }
   ],
   "source": [
    "ct = CategoricalTransformer(columns=['sex', 'smoker', 'day', 'time'])\n",
    "X_cat = ct.fit_transform(X)\n",
    "X_cat.info()"
   ]
  },
  {
   "cell_type": "markdown",
   "metadata": {},
   "source": [
    "## DummyEncoder\n",
    "\n",
    "We now have the pieces in place to solve all our issues.\n",
    "We'll write a class `DummyEncoder` for use in a scikit-learn `Pipeline`.\n",
    "The entirety is given in the next cell, but we'll break it apart piece by piece."
   ]
  },
  {
   "cell_type": "code",
   "execution_count": 32,
   "metadata": {
    "collapsed": false
   },
   "outputs": [
    {
     "data": {
      "text/plain": [
       "array([[ 16.99,   2.  ,   1.  , ...,   0.  ,   1.  ,   0.  ],\n",
       "       [ 10.34,   3.  ,   0.  , ...,   0.  ,   1.  ,   0.  ],\n",
       "       [ 21.01,   3.  ,   0.  , ...,   0.  ,   1.  ,   0.  ],\n",
       "       ..., \n",
       "       [ 22.67,   2.  ,   0.  , ...,   0.  ,   1.  ,   0.  ],\n",
       "       [ 17.82,   2.  ,   0.  , ...,   0.  ,   1.  ,   0.  ],\n",
       "       [ 18.78,   2.  ,   1.  , ...,   1.  ,   1.  ,   0.  ]])"
      ]
     },
     "execution_count": 32,
     "metadata": {},
     "output_type": "execute_result"
    }
   ],
   "source": [
    "class DummyEncoder(TransformerMixin):\n",
    "    \n",
    "    def fit(self, X, y=None):\n",
    "        self.columns_ = X.columns\n",
    "        self.cat_cols_ = X.select_dtypes(include=['category']).columns\n",
    "        self.non_cat_cols_ = X.columns.drop(self.cat_cols_)\n",
    "        self.cat_map_ = {col: X[col].cat for col in self.cat_cols_}\n",
    "        \n",
    "        self.cat_blocks_ = {}  # {cat col: slice}\n",
    "        left = len(self.non_cat_cols_)\n",
    "        for col in self.cat_cols_:\n",
    "            right = left + len(self.cat_map_[col].categories)\n",
    "            self.cat_blocks_[col] = slice(left, right)\n",
    "            left = right\n",
    "        return self\n",
    "    \n",
    "    def transform(self, X, y=None):\n",
    "        return np.asarray(pd.get_dummies(X))\n",
    "    \n",
    "    def inverse_transform(self, trn, y=None):\n",
    "        numeric = pd.DataFrame(trn[:, :len(self.non_cat_cols_)],\n",
    "                               columns=self.non_cat_cols_)\n",
    "        series = []\n",
    "        for col, slice_ in self.cat_blocks_.items():\n",
    "            codes = trn[:, slice_].argmax(1)\n",
    "            cat = self.cat_map_[col]\n",
    "            cat = pd.Categorical.from_codes(codes,\n",
    "                                            cat.categories,\n",
    "                                            cat.ordered)\n",
    "            series.append(pd.Series(cat, name=col))\n",
    "        return pd.concat([numeric] + series, axis='columns')[self.columns_]\n",
    "\n",
    "self = DummyEncoder()\n",
    "trn = self.fit_transform(X_cat)\n",
    "trn"
   ]
  },
  {
   "cell_type": "markdown",
   "metadata": {},
   "source": [
    "The transform method is the simplest, it's using `pd.get_dummies` like we did before. That is wrapped in a `np.asarray` to convert the DataFrame to a NumPy array, simulating what would happen if we pass the dummy-encoded class to a scikit-learn transformer that deals with NumPy arrays.\n",
    "\n",
    "The rest of the class is really just there for the `inverse_transform` method.\n",
    "In `.fit`, we need to store all the information needed to take the `trn` NumPy array and go back to a `DataFrame`. This includes\n",
    "\n",
    "- Column names (`self.columns_`)\n",
    "- Cateogrical information (`self.cat_map_`)\n",
    "- Mapping original columns to transformed positions (`self.non_cat_cols_` and `self.cat_blocks_`)"
   ]
  },
  {
   "cell_type": "markdown",
   "metadata": {},
   "source": [
    "The first thing to realize is that pandas `get_dummies` returns the un-touched (numeric) columns first. We had two of those, `total_bill` and `size`, and collect those first in `inverse_transform`."
   ]
  },
  {
   "cell_type": "code",
   "execution_count": 33,
   "metadata": {
    "collapsed": false
   },
   "outputs": [
    {
     "data": {
      "text/html": [
       "<div>\n",
       "<table border=\"1\" class=\"dataframe\">\n",
       "  <thead>\n",
       "    <tr style=\"text-align: right;\">\n",
       "      <th></th>\n",
       "      <th>total_bill</th>\n",
       "      <th>size</th>\n",
       "    </tr>\n",
       "  </thead>\n",
       "  <tbody>\n",
       "    <tr>\n",
       "      <th>0</th>\n",
       "      <td>16.99</td>\n",
       "      <td>2.0</td>\n",
       "    </tr>\n",
       "    <tr>\n",
       "      <th>1</th>\n",
       "      <td>10.34</td>\n",
       "      <td>3.0</td>\n",
       "    </tr>\n",
       "    <tr>\n",
       "      <th>2</th>\n",
       "      <td>21.01</td>\n",
       "      <td>3.0</td>\n",
       "    </tr>\n",
       "    <tr>\n",
       "      <th>3</th>\n",
       "      <td>23.68</td>\n",
       "      <td>2.0</td>\n",
       "    </tr>\n",
       "    <tr>\n",
       "      <th>4</th>\n",
       "      <td>24.59</td>\n",
       "      <td>4.0</td>\n",
       "    </tr>\n",
       "  </tbody>\n",
       "</table>\n",
       "</div>"
      ],
      "text/plain": [
       "   total_bill  size\n",
       "0       16.99   2.0\n",
       "1       10.34   3.0\n",
       "2       21.01   3.0\n",
       "3       23.68   2.0\n",
       "4       24.59   4.0"
      ]
     },
     "execution_count": 33,
     "metadata": {},
     "output_type": "execute_result"
    }
   ],
   "source": [
    "numeric = pd.DataFrame(trn[:, :len(self.non_cat_cols_)],\n",
    "                       columns=self.non_cat_cols_)\n",
    "numeric.head()"
   ]
  },
  {
   "cell_type": "markdown",
   "metadata": {},
   "source": [
    "While we had two columns in this dataset, in general we'll have `len(self.non_cat_cols_)`.\n",
    "\n",
    "The rest of `inverse_transform` deals with `categoricals`.\n",
    "We have two separate tasks here.\n",
    "\n",
    "1. Know which of the expanded columns in `trn` belong to which original categorical columns\n",
    "2. Know the categorical attributes (`ordered`, `categories`) for that categorical\n",
    "\n",
    "For the first task, we use the information stored in `self.cat_blocks_`. This is a dictonary mapping categorical column names to `slice` objects, that can be used on `trn`."
   ]
  },
  {
   "cell_type": "code",
   "execution_count": 34,
   "metadata": {
    "collapsed": false
   },
   "outputs": [
    {
     "data": {
      "text/plain": [
       "{'day': slice(6, 10, None),\n",
       " 'sex': slice(2, 4, None),\n",
       " 'smoker': slice(4, 6, None),\n",
       " 'time': slice(10, 12, None)}"
      ]
     },
     "execution_count": 34,
     "metadata": {},
     "output_type": "execute_result"
    }
   ],
   "source": [
    "self.cat_blocks_"
   ]
  },
  {
   "cell_type": "code",
   "execution_count": 35,
   "metadata": {
    "collapsed": false
   },
   "outputs": [
    {
     "data": {
      "text/plain": [
       "array([[ 0.,  0.,  1.,  0.],\n",
       "       [ 0.,  0.,  1.,  0.],\n",
       "       [ 0.,  0.,  1.,  0.],\n",
       "       [ 0.,  0.,  1.,  0.],\n",
       "       [ 0.,  0.,  1.,  0.]])"
      ]
     },
     "execution_count": 35,
     "metadata": {},
     "output_type": "execute_result"
    }
   ],
   "source": [
    "trn[:, self.cat_blocks_['day']][:5]"
   ]
  },
  {
   "cell_type": "markdown",
   "metadata": {},
   "source": [
    "Each of these \"blocks\" contain the dummy-encoded categorical. To invert the dummy-encoded, we use the fact that each row only has a single `1`, meaning that the maximum value of the row is the category for that row. We'll find the `argmax` for each row."
   ]
  },
  {
   "cell_type": "code",
   "execution_count": 36,
   "metadata": {
    "collapsed": false
   },
   "outputs": [
    {
     "data": {
      "text/plain": [
       "array([2, 2, 2, 2, 2])"
      ]
     },
     "execution_count": 36,
     "metadata": {},
     "output_type": "execute_result"
    }
   ],
   "source": [
    "codes = trn[:, self.cat_blocks_['day']].argmax(1)\n",
    "codes[:5]"
   ]
  },
  {
   "cell_type": "markdown",
   "metadata": {},
   "source": [
    "Now we'll use the alternative `Categorical.from_codes` constructor, which is appropriate when you have an array of `codes`, and already know the `categories` and `ordered`. We've stored that categorical information in the `self.cat_map_` dictionary."
   ]
  },
  {
   "cell_type": "code",
   "execution_count": 37,
   "metadata": {
    "collapsed": false
   },
   "outputs": [
    {
     "data": {
      "text/plain": [
       "[Sun, Sun, Sun, Sun, Sun, ..., Sat, Sat, Sat, Sat, Thur]\n",
       "Length: 244\n",
       "Categories (4, object): [Fri, Sat, Sun, Thur]"
      ]
     },
     "execution_count": 37,
     "metadata": {},
     "output_type": "execute_result"
    }
   ],
   "source": [
    "cat = pd.Categorical.from_codes(codes, self.cat_map_['day'].categories,\n",
    "                                self.cat_map_['day'].ordered)\n",
    "cat"
   ]
  },
  {
   "cell_type": "markdown",
   "metadata": {},
   "source": [
    "The rest of `inverse_transform` collects all the series of `Categorical` and concats them together with the `numeric` columns."
   ]
  },
  {
   "cell_type": "markdown",
   "metadata": {},
   "source": [
    "## Using our pipeline"
   ]
  },
  {
   "cell_type": "code",
   "execution_count": 38,
   "metadata": {
    "collapsed": false
   },
   "outputs": [
    {
     "data": {
      "text/plain": [
       "Pipeline(steps=[('categoricaltransformer', <__main__.CategoricalTransformer object at 0x118f9ef98>), ('dummyencoder', <__main__.DummyEncoder object at 0x118f9eda0>), ('linearregression', LinearRegression(copy_X=True, fit_intercept=True, n_jobs=1, normalize=False))])"
      ]
     },
     "execution_count": 38,
     "metadata": {},
     "output_type": "execute_result"
    }
   ],
   "source": [
    "columns = ['sex', 'smoker', 'day', 'time']\n",
    "pipe = make_pipeline(CategoricalTransformer(columns), DummyEncoder(), LinearRegression())\n",
    "pipe.fit(X, y)"
   ]
  },
  {
   "cell_type": "code",
   "execution_count": 39,
   "metadata": {
    "collapsed": false
   },
   "outputs": [
    {
     "data": {
      "text/plain": [
       "<seaborn.axisgrid.JointGrid at 0x118f9e080>"
      ]
     },
     "execution_count": 39,
     "metadata": {},
     "output_type": "execute_result"
    },
    {
     "data": {
      "image/png": "[encoded data removed]",
      "text/plain": [
       "<matplotlib.figure.Figure at 0x118f9edd8>"
      ]
     },
     "metadata": {},
     "output_type": "display_data"
    }
   ],
   "source": [
    "yhat = pipe.predict(X)\n",
    "sns.jointplot(y, y-yhat)"
   ]
  },
  {
   "cell_type": "code",
   "execution_count": 40,
   "metadata": {
    "collapsed": true
   },
   "outputs": [],
   "source": [
    "from sklearn.decomposition import PCA"
   ]
  },
  {
   "cell_type": "code",
   "execution_count": 41,
   "metadata": {
    "collapsed": false
   },
   "outputs": [
    {
     "data": {
      "image/png": "[encoded data removed]",
      "text/plain": [
       "<matplotlib.figure.Figure at 0x1190a7048>"
      ]
     },
     "metadata": {},
     "output_type": "display_data"
    }
   ],
   "source": [
    "pipe = make_pipeline(CategoricalTransformer(columns), DummyEncoder(), PCA())\n",
    "trn = pipe.fit_transform(X)\n",
    "sns.jointplot(trn[:, 0], trn[:, 1]);"
   ]
  },
  {
   "cell_type": "code",
   "execution_count": 42,
   "metadata": {
    "collapsed": false
   },
   "outputs": [
    {
     "data": {
      "text/html": [
       "<div>\n",
       "<table border=\"1\" class=\"dataframe\">\n",
       "  <thead>\n",
       "    <tr style=\"text-align: right;\">\n",
       "      <th></th>\n",
       "      <th>total_bill</th>\n",
       "      <th>sex</th>\n",
       "      <th>smoker</th>\n",
       "      <th>day</th>\n",
       "      <th>time</th>\n",
       "      <th>size</th>\n",
       "    </tr>\n",
       "  </thead>\n",
       "  <tbody>\n",
       "    <tr>\n",
       "      <th>0</th>\n",
       "      <td>16.99</td>\n",
       "      <td>Female</td>\n",
       "      <td>No</td>\n",
       "      <td>Sun</td>\n",
       "      <td>Dinner</td>\n",
       "      <td>2.0</td>\n",
       "    </tr>\n",
       "    <tr>\n",
       "      <th>1</th>\n",
       "      <td>10.34</td>\n",
       "      <td>Male</td>\n",
       "      <td>No</td>\n",
       "      <td>Sun</td>\n",
       "      <td>Dinner</td>\n",
       "      <td>3.0</td>\n",
       "    </tr>\n",
       "    <tr>\n",
       "      <th>2</th>\n",
       "      <td>21.01</td>\n",
       "      <td>Male</td>\n",
       "      <td>No</td>\n",
       "      <td>Sun</td>\n",
       "      <td>Dinner</td>\n",
       "      <td>3.0</td>\n",
       "    </tr>\n",
       "    <tr>\n",
       "      <th>3</th>\n",
       "      <td>23.68</td>\n",
       "      <td>Male</td>\n",
       "      <td>No</td>\n",
       "      <td>Sun</td>\n",
       "      <td>Dinner</td>\n",
       "      <td>2.0</td>\n",
       "    </tr>\n",
       "    <tr>\n",
       "      <th>4</th>\n",
       "      <td>24.59</td>\n",
       "      <td>Female</td>\n",
       "      <td>No</td>\n",
       "      <td>Sun</td>\n",
       "      <td>Dinner</td>\n",
       "      <td>4.0</td>\n",
       "    </tr>\n",
       "  </tbody>\n",
       "</table>\n",
       "</div>"
      ],
      "text/plain": [
       "   total_bill     sex smoker  day    time  size\n",
       "0       16.99  Female     No  Sun  Dinner   2.0\n",
       "1       10.34    Male     No  Sun  Dinner   3.0\n",
       "2       21.01    Male     No  Sun  Dinner   3.0\n",
       "3       23.68    Male     No  Sun  Dinner   2.0\n",
       "4       24.59  Female     No  Sun  Dinner   4.0"
      ]
     },
     "execution_count": 42,
     "metadata": {},
     "output_type": "execute_result"
    }
   ],
   "source": [
    "pipe.inverse_transform(trn).head()"
   ]
  },
  {
   "cell_type": "markdown",
   "metadata": {},
   "source": [
    "# Summary\n",
    "\n",
    "We explored some of the differences between the scikit-learn (NumPy) and pandas data models.\n",
    "We needed to convert a heterogenous pandas `DataFrame` to a homogonous `ndarray` for use in scikit-learn.\n",
    "Specifically we used `pd.get_dummies` to dummy encode the categorical data.\n",
    "After dummy encoding, we sucessfully fit the model. \n",
    "\n",
    "For a more robust method, we implmented two scikit-learn `Pipeline` compatible transformers.\n",
    "The first converted columns of strings into proper pandas `Categorical`s.\n",
    "The second used `pd.get_dummies` to transform `Categoricals`, storing all the information needed to reverse the transformation."
   ]
  }
 ],
 "metadata": {
  "kernelspec": {
   "display_name": "Python 3",
   "language": "python",
   "name": "python3"
  },
  "language_info": {
   "codemirror_mode": {
    "name": "ipython",
    "version": 3
   },
   "file_extension": ".py",
   "mimetype": "text/x-python",
   "name": "python",
   "nbconvert_exporter": "python",
   "pygments_lexer": "ipython3",
   "version": "3.5.2"
  }
 },
 "nbformat": 4,
 "nbformat_minor": 0
}
