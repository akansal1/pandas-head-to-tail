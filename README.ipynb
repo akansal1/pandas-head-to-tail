{
 "cells": [
  {
   "cell_type": "markdown",
   "metadata": {},
   "source": [
    "# Hi!\n",
    "\n",
    "I'm Tom.\n",
    "We'll be learning about pandas, data viz, data management, data science.\n",
    "I'm a data scientist* by day, and pandas contributor by night.\n",
    "\n",
    "The lessons are provided as Jupyter notebooks.\n",
    "I've designed them with a heavy emphasis on interaction from you all."
   ]
  },
  {
   "cell_type": "markdown",
   "metadata": {},
   "source": [
    "## Topics"
   ]
  },
  {
   "cell_type": "markdown",
   "metadata": {},
   "source": [
    "- [Indexing](Indexing.ipynb)\n",
    "- [Alignment](Alignment.ipynb)\n",
    "- [Iterators & Groupby](Iterators-Groupby.ipynb)\n",
    "- [Visualization](Visualization.ipynb)\n",
    "- [Performance](Performance.ipynb)\n",
    "- [Exploratory Analysis](EDA.ipynb)\n",
    "- [Tidy Data](Tidy-Data.ipynb)\n",
    "- [Reproducibility](Reproducibility.ipynb)\n",
    "- [Pandas, NumPy, Scikit-Learn](Pandas-NumPy-ScikitLearn.ipynb)\n",
    "\n",
    "The git repository I provided has two notebooks for each topic\n",
    "\n",
    "1. `<topic>.ipynb`\n",
    "2. `<topic>-Solved.ipynb`\n",
    "\n",
    "The notebooks we're going through have had certain bits of code removed, and we'll be filling them in together. The `*-Solved` versions are provided for reference later, and if you ever miss a step (but please speak up in class if you miss something)."
   ]
  },
  {
   "cell_type": "markdown",
   "metadata": {},
   "source": [
    "Brief overview on the Jupyter notebook: There are two modes\n",
    "\n",
    "1. Command Mode (used for navigation, moving cells, adding cells, exeucting)\n",
    "2. Edit Mode (Used for writing text, executing)\n",
    "\n",
    "You start out in Command Mode. To switch modes\n",
    "\n",
    "1. Command => Edit: Press Enter (note the pencil icon in the top-right)\n",
    "2. Edit => Command: Press Esc\n",
    "\n",
    "Some useful shortcuts in command mode:\n",
    "\n",
    "1. `Shift+Enter`: Execute cell (works in edit mode too)\n",
    "2. `h`: bring up the keyboard shortcuts\n",
    "3. `j`, `k`: move down, up\n",
    "4. `a`: create cell above\n",
    "5. `b`: create cell below\n",
    "6. `x`: delete cell (or `dd`)\n",
    "7. `y`: convert to code cell\n",
    "8. `m`: convert to markdown cell"
   ]
  }
 ],
 "metadata": {
  "kernelspec": {
   "display_name": "ph2t",
   "language": "python",
   "name": "ph2t"
  },
  "language_info": {
   "codemirror_mode": {
    "name": "ipython",
    "version": 3
   },
   "file_extension": ".py",
   "mimetype": "text/x-python",
   "name": "python",
   "nbconvert_exporter": "python",
   "pygments_lexer": "ipython3",
   "version": "3.5.2"
  }
 },
 "nbformat": 4,
 "nbformat_minor": 0
}
