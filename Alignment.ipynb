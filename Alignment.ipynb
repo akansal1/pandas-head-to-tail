{
 "cells": [
  {
   "cell_type": "markdown",
   "metadata": {},
   "source": [
    "# Alignment & Operatrions\n",
    "\n",
    "This is more about *understanding* pandas, \"going with the flow\", than any particular operation. Alignment is a key part of many parts of pandas, including\n",
    "\n",
    "- binary operations (`+, -, *, /, **, ==, |, &`)\n",
    "- merges / joins / concats\n",
    "- constructors\n",
    "- reindexing\n",
    "\n",
    "That said, it's not really something you'll be doing explicitly. It happens in the background, as part of all those tasks.\n",
    "It's all about using *labels* (`DataFrame.index` and `DataFrame.columns`) to do the tricky work of making sure the operation goes through correctly.\n",
    "You'll want an understanding of what's happening behind the scenes though, to help you understand pandas code you didn't write (or wrote a while ago).\n",
    "\n",
    "If you thing you have a handle on this, jump down to the exercise at the end of the notebook."
   ]
  },
  {
   "cell_type": "code",
   "execution_count": 4,
   "metadata": {
    "collapsed": true
   },
   "outputs": [],
   "source": [
    "%matplotlib inline\n",
    "\n",
    "import numpy as np\n",
    "import pandas as pd\n",
    "import seaborn as sns\n",
    "import matplotlib.pyplot as plt\n",
    "from utils import side_by_side\n",
    "from IPython import display\n",
    "\n",
    "pd.options.display.max_rows = 10\n",
    "sns.set(style='white', context='talk')"
   ]
  },
  {
   "cell_type": "markdown",
   "metadata": {},
   "source": [
    "Let's start out doing things the \"wrong\" way. We've got data on GDP (total output each quarter) and CPI (a measure of inflation). Each CSV has a column of dates, and a column for the measurement."
   ]
  },
  {
   "cell_type": "code",
   "execution_count": 7,
   "metadata": {
    "collapsed": false
   },
   "outputs": [
    {
     "name": "stdout",
     "output_type": "stream",
     "text": [
      "DATE,CPIAUCSL\r\n",
      "1947-01-01,21.48\r\n",
      "1947-02-01,21.62\r\n",
      "1947-03-01,22.0\r\n",
      "1947-04-01,22.0\r\n",
      "1947-05-01,21.95\r\n",
      "1947-06-01,22.08\r\n",
      "1947-07-01,22.23\r\n",
      "1947-08-01,22.4\r\n",
      "1947-09-01,22.84\r\n"
     ]
    }
   ],
   "source": [
    "!head data/cpi.csv"
   ]
  },
  {
   "cell_type": "code",
   "execution_count": 39,
   "metadata": {
    "collapsed": false
   },
   "outputs": [],
   "source": [
    "# The \"wrong\" way\n",
    "# Read in CPI & GDP, parsing the dates\n",
    "gdp_bad = pd.read_csv(\"data/gdp.csv\", parse_dates=['DATE'])\n",
    "cpi_bad = pd.read_csv(\"data/cpi.csv\", parse_dates=['DATE'])"
   ]
  },
  {
   "cell_type": "code",
   "execution_count": 41,
   "metadata": {
    "collapsed": false
   },
   "outputs": [
    {
     "data": {
      "text/html": [
       "<div>\n",
       "<table border=\"1\" class=\"dataframe\">\n",
       "  <thead>\n",
       "    <tr style=\"text-align: right;\">\n",
       "      <th></th>\n",
       "      <th>DATE</th>\n",
       "      <th>GDP</th>\n",
       "    </tr>\n",
       "  </thead>\n",
       "  <tbody>\n",
       "    <tr>\n",
       "      <th>0</th>\n",
       "      <td>1947-01-01</td>\n",
       "      <td>243.1</td>\n",
       "    </tr>\n",
       "    <tr>\n",
       "      <th>1</th>\n",
       "      <td>1947-04-01</td>\n",
       "      <td>246.3</td>\n",
       "    </tr>\n",
       "    <tr>\n",
       "      <th>2</th>\n",
       "      <td>1947-07-01</td>\n",
       "      <td>250.1</td>\n",
       "    </tr>\n",
       "    <tr>\n",
       "      <th>3</th>\n",
       "      <td>1947-10-01</td>\n",
       "      <td>260.3</td>\n",
       "    </tr>\n",
       "    <tr>\n",
       "      <th>4</th>\n",
       "      <td>1948-01-01</td>\n",
       "      <td>266.2</td>\n",
       "    </tr>\n",
       "  </tbody>\n",
       "</table>\n",
       "</div>"
      ],
      "text/plain": [
       "        DATE    GDP\n",
       "0 1947-01-01  243.1\n",
       "1 1947-04-01  246.3\n",
       "2 1947-07-01  250.1\n",
       "3 1947-10-01  260.3\n",
       "4 1948-01-01  266.2"
      ]
     },
     "execution_count": 41,
     "metadata": {},
     "output_type": "execute_result"
    }
   ],
   "source": [
    "gdp_bad.head()"
   ]
  },
  {
   "cell_type": "code",
   "execution_count": 42,
   "metadata": {
    "collapsed": false
   },
   "outputs": [
    {
     "data": {
      "text/html": [
       "<div>\n",
       "<table border=\"1\" class=\"dataframe\">\n",
       "  <thead>\n",
       "    <tr style=\"text-align: right;\">\n",
       "      <th></th>\n",
       "      <th>DATE</th>\n",
       "      <th>CPIAUCSL</th>\n",
       "    </tr>\n",
       "  </thead>\n",
       "  <tbody>\n",
       "    <tr>\n",
       "      <th>0</th>\n",
       "      <td>1947-01-01</td>\n",
       "      <td>21.48</td>\n",
       "    </tr>\n",
       "    <tr>\n",
       "      <th>1</th>\n",
       "      <td>1947-02-01</td>\n",
       "      <td>21.62</td>\n",
       "    </tr>\n",
       "    <tr>\n",
       "      <th>2</th>\n",
       "      <td>1947-03-01</td>\n",
       "      <td>22.00</td>\n",
       "    </tr>\n",
       "    <tr>\n",
       "      <th>3</th>\n",
       "      <td>1947-04-01</td>\n",
       "      <td>22.00</td>\n",
       "    </tr>\n",
       "    <tr>\n",
       "      <th>4</th>\n",
       "      <td>1947-05-01</td>\n",
       "      <td>21.95</td>\n",
       "    </tr>\n",
       "  </tbody>\n",
       "</table>\n",
       "</div>"
      ],
      "text/plain": [
       "        DATE  CPIAUCSL\n",
       "0 1947-01-01     21.48\n",
       "1 1947-02-01     21.62\n",
       "2 1947-03-01     22.00\n",
       "3 1947-04-01     22.00\n",
       "4 1947-05-01     21.95"
      ]
     },
     "execution_count": 42,
     "metadata": {},
     "output_type": "execute_result"
    }
   ],
   "source": [
    "cpi_bad.head()"
   ]
  },
  {
   "cell_type": "markdown",
   "metadata": {},
   "source": [
    "Typically, we would use `DATE` as the index (`index_col='DATE'` in `read_csv`). But to appreciate the value of labels, we'll take them away for now.\n",
    "\n",
    "Real GDP is [defined to be](https://en.wikipedia.org/wiki/Real_gross_domestic_product) nominal GDP (which is what our `gdp` DataFrame contains) divided by a measure of the *price index*. Typically you'd use the GDP deflator, but we'll use CPI so that I can make a point later.\n",
    "\n",
    "To calculate real GDP, divide `gdp` by `cpi`.\n",
    "Notice that `gdp` is quarterly, and `cpi` is monthly, so we need to align the two.\n",
    "Since we don't have meaningful row labels, we have to do it manually.\n",
    "We'll find the dates in common between the two series, manually filter to those, and then do the division."
   ]
  },
  {
   "cell_type": "code",
   "execution_count": 43,
   "metadata": {
    "collapsed": false
   },
   "outputs": [
    {
     "data": {
      "text/html": [
       "<div>\n",
       "<table border=\"1\" class=\"dataframe\">\n",
       "  <thead>\n",
       "    <tr style=\"text-align: right;\">\n",
       "      <th></th>\n",
       "      <th>DATE</th>\n",
       "      <th>GDP</th>\n",
       "      <th>CPIAUCSL</th>\n",
       "    </tr>\n",
       "  </thead>\n",
       "  <tbody>\n",
       "    <tr>\n",
       "      <th>0</th>\n",
       "      <td>1947-01-01</td>\n",
       "      <td>243.1</td>\n",
       "      <td>21.48</td>\n",
       "    </tr>\n",
       "    <tr>\n",
       "      <th>1</th>\n",
       "      <td>1947-04-01</td>\n",
       "      <td>246.3</td>\n",
       "      <td>22.00</td>\n",
       "    </tr>\n",
       "    <tr>\n",
       "      <th>2</th>\n",
       "      <td>1947-07-01</td>\n",
       "      <td>250.1</td>\n",
       "      <td>22.23</td>\n",
       "    </tr>\n",
       "    <tr>\n",
       "      <th>3</th>\n",
       "      <td>1947-10-01</td>\n",
       "      <td>260.3</td>\n",
       "      <td>22.91</td>\n",
       "    </tr>\n",
       "    <tr>\n",
       "      <th>4</th>\n",
       "      <td>1948-01-01</td>\n",
       "      <td>266.2</td>\n",
       "      <td>23.68</td>\n",
       "    </tr>\n",
       "  </tbody>\n",
       "</table>\n",
       "</div>"
      ],
      "text/plain": [
       "        DATE    GDP  CPIAUCSL\n",
       "0 1947-01-01  243.1     21.48\n",
       "1 1947-04-01  246.3     22.00\n",
       "2 1947-07-01  250.1     22.23\n",
       "3 1947-10-01  260.3     22.91\n",
       "4 1948-01-01  266.2     23.68"
      ]
     },
     "execution_count": 43,
     "metadata": {},
     "output_type": "execute_result"
    }
   ],
   "source": [
    "# merge on DATE, divide\n",
    "m = pd.merge(gdp_bad, cpi_bad, on='DATE', how='inner')\n",
    "m.head()"
   ]
  },
  {
   "cell_type": "code",
   "execution_count": 44,
   "metadata": {
    "collapsed": false
   },
   "outputs": [
    {
     "data": {
      "text/plain": [
       "0      11.317505\n",
       "1      11.195455\n",
       "2      11.250562\n",
       "3      11.361851\n",
       "4      11.241554\n",
       "         ...    \n",
       "264    71.124715\n",
       "265    71.343420\n",
       "266    71.962930\n",
       "267    72.711603\n",
       "268    72.313495\n",
       "dtype: float64"
      ]
     },
     "execution_count": 44,
     "metadata": {},
     "output_type": "execute_result"
    }
   ],
   "source": [
    "m['GDP'] / m['CPIAUCSL']"
   ]
  },
  {
   "cell_type": "code",
   "execution_count": 26,
   "metadata": {
    "collapsed": false
   },
   "outputs": [
    {
     "data": {
      "text/html": [
       "\n",
       "    <div class=\"table-responsive col-md-6\">\n",
       "        <style  type=\"text/css\" >\n",
       "        \n",
       "        \n",
       "        </style>\n",
       "\n",
       "        <table id=\"T_93f71f76_c725_11e6_bb0d_a45e60bd97fb\" style=\"display: float; max-width:50%\" class=\"table\">\n",
       "        \n",
       "\n",
       "        <thead>\n",
       "            \n",
       "            <tr>\n",
       "                \n",
       "                \n",
       "                <th class=\"blank level0\" >\n",
       "                  \n",
       "                \n",
       "                \n",
       "                \n",
       "                <th class=\"col_heading level0 col0\" colspan=1>\n",
       "                  GDP\n",
       "                \n",
       "                \n",
       "            </tr>\n",
       "            \n",
       "            <tr>\n",
       "                \n",
       "                \n",
       "                <th class=\"index_name level0\" >\n",
       "                  DATE\n",
       "                \n",
       "                \n",
       "                \n",
       "                <th class=\"blank\" >\n",
       "                  \n",
       "                \n",
       "                \n",
       "            </tr>\n",
       "            \n",
       "        </thead>\n",
       "        <tbody>\n",
       "            \n",
       "            <tr>\n",
       "                \n",
       "                \n",
       "                <th id=\"T_93f71f76_c725_11e6_bb0d_a45e60bd97fb\"\n",
       "                 class=\"row_heading level0 row0\" rowspan=1>\n",
       "                    1947-01-01 00:00:00\n",
       "                \n",
       "                \n",
       "                \n",
       "                <td id=\"T_93f71f76_c725_11e6_bb0d_a45e60bd97fbrow0_col0\"\n",
       "                 class=\"data row0 col0\" >\n",
       "                    243.1\n",
       "                \n",
       "                \n",
       "            </tr>\n",
       "            \n",
       "            <tr>\n",
       "                \n",
       "                \n",
       "                <th id=\"T_93f71f76_c725_11e6_bb0d_a45e60bd97fb\"\n",
       "                 class=\"row_heading level0 row1\" rowspan=1>\n",
       "                    1947-04-01 00:00:00\n",
       "                \n",
       "                \n",
       "                \n",
       "                <td id=\"T_93f71f76_c725_11e6_bb0d_a45e60bd97fbrow1_col0\"\n",
       "                 class=\"data row1 col0\" >\n",
       "                    246.3\n",
       "                \n",
       "                \n",
       "            </tr>\n",
       "            \n",
       "            <tr>\n",
       "                \n",
       "                \n",
       "                <th id=\"T_93f71f76_c725_11e6_bb0d_a45e60bd97fb\"\n",
       "                 class=\"row_heading level0 row2\" rowspan=1>\n",
       "                    1947-07-01 00:00:00\n",
       "                \n",
       "                \n",
       "                \n",
       "                <td id=\"T_93f71f76_c725_11e6_bb0d_a45e60bd97fbrow2_col0\"\n",
       "                 class=\"data row2 col0\" >\n",
       "                    250.1\n",
       "                \n",
       "                \n",
       "            </tr>\n",
       "            \n",
       "            <tr>\n",
       "                \n",
       "                \n",
       "                <th id=\"T_93f71f76_c725_11e6_bb0d_a45e60bd97fb\"\n",
       "                 class=\"row_heading level0 row3\" rowspan=1>\n",
       "                    1947-10-01 00:00:00\n",
       "                \n",
       "                \n",
       "                \n",
       "                <td id=\"T_93f71f76_c725_11e6_bb0d_a45e60bd97fbrow3_col0\"\n",
       "                 class=\"data row3 col0\" >\n",
       "                    260.3\n",
       "                \n",
       "                \n",
       "            </tr>\n",
       "            \n",
       "            <tr>\n",
       "                \n",
       "                \n",
       "                <th id=\"T_93f71f76_c725_11e6_bb0d_a45e60bd97fb\"\n",
       "                 class=\"row_heading level0 row4\" rowspan=1>\n",
       "                    1948-01-01 00:00:00\n",
       "                \n",
       "                \n",
       "                \n",
       "                <td id=\"T_93f71f76_c725_11e6_bb0d_a45e60bd97fbrow4_col0\"\n",
       "                 class=\"data row4 col0\" >\n",
       "                    266.2\n",
       "                \n",
       "                \n",
       "            </tr>\n",
       "            \n",
       "        </tbody>\n",
       "        </table>\n",
       "        </div>\n",
       "    <div class=\"table-responsive col-md-6\">\n",
       "        <style  type=\"text/css\" >\n",
       "        \n",
       "        \n",
       "        </style>\n",
       "\n",
       "        <table id=\"T_93f8c9a2_c725_11e6_9e21_a45e60bd97fb\" style=\"display: float; max-width:50%\" class=\"table\">\n",
       "        \n",
       "\n",
       "        <thead>\n",
       "            \n",
       "            <tr>\n",
       "                \n",
       "                \n",
       "                <th class=\"blank level0\" >\n",
       "                  \n",
       "                \n",
       "                \n",
       "                \n",
       "                <th class=\"col_heading level0 col0\" colspan=1>\n",
       "                  cpi\n",
       "                \n",
       "                \n",
       "            </tr>\n",
       "            \n",
       "            <tr>\n",
       "                \n",
       "                \n",
       "                <th class=\"index_name level0\" >\n",
       "                  DATE\n",
       "                \n",
       "                \n",
       "                \n",
       "                <th class=\"blank\" >\n",
       "                  \n",
       "                \n",
       "                \n",
       "            </tr>\n",
       "            \n",
       "        </thead>\n",
       "        <tbody>\n",
       "            \n",
       "            <tr>\n",
       "                \n",
       "                \n",
       "                <th id=\"T_93f8c9a2_c725_11e6_9e21_a45e60bd97fb\"\n",
       "                 class=\"row_heading level0 row0\" rowspan=1>\n",
       "                    1947-01-01 00:00:00\n",
       "                \n",
       "                \n",
       "                \n",
       "                <td id=\"T_93f8c9a2_c725_11e6_9e21_a45e60bd97fbrow0_col0\"\n",
       "                 class=\"data row0 col0\" >\n",
       "                    21.48\n",
       "                \n",
       "                \n",
       "            </tr>\n",
       "            \n",
       "            <tr>\n",
       "                \n",
       "                \n",
       "                <th id=\"T_93f8c9a2_c725_11e6_9e21_a45e60bd97fb\"\n",
       "                 class=\"row_heading level0 row1\" rowspan=1>\n",
       "                    1947-02-01 00:00:00\n",
       "                \n",
       "                \n",
       "                \n",
       "                <td id=\"T_93f8c9a2_c725_11e6_9e21_a45e60bd97fbrow1_col0\"\n",
       "                 class=\"data row1 col0\" >\n",
       "                    21.62\n",
       "                \n",
       "                \n",
       "            </tr>\n",
       "            \n",
       "            <tr>\n",
       "                \n",
       "                \n",
       "                <th id=\"T_93f8c9a2_c725_11e6_9e21_a45e60bd97fb\"\n",
       "                 class=\"row_heading level0 row2\" rowspan=1>\n",
       "                    1947-03-01 00:00:00\n",
       "                \n",
       "                \n",
       "                \n",
       "                <td id=\"T_93f8c9a2_c725_11e6_9e21_a45e60bd97fbrow2_col0\"\n",
       "                 class=\"data row2 col0\" >\n",
       "                    22\n",
       "                \n",
       "                \n",
       "            </tr>\n",
       "            \n",
       "            <tr>\n",
       "                \n",
       "                \n",
       "                <th id=\"T_93f8c9a2_c725_11e6_9e21_a45e60bd97fb\"\n",
       "                 class=\"row_heading level0 row3\" rowspan=1>\n",
       "                    1947-04-01 00:00:00\n",
       "                \n",
       "                \n",
       "                \n",
       "                <td id=\"T_93f8c9a2_c725_11e6_9e21_a45e60bd97fbrow3_col0\"\n",
       "                 class=\"data row3 col0\" >\n",
       "                    22\n",
       "                \n",
       "                \n",
       "            </tr>\n",
       "            \n",
       "            <tr>\n",
       "                \n",
       "                \n",
       "                <th id=\"T_93f8c9a2_c725_11e6_9e21_a45e60bd97fb\"\n",
       "                 class=\"row_heading level0 row4\" rowspan=1>\n",
       "                    1947-05-01 00:00:00\n",
       "                \n",
       "                \n",
       "                \n",
       "                <td id=\"T_93f8c9a2_c725_11e6_9e21_a45e60bd97fbrow4_col0\"\n",
       "                 class=\"data row4 col0\" >\n",
       "                    21.95\n",
       "                \n",
       "                \n",
       "            </tr>\n",
       "            \n",
       "        </tbody>\n",
       "        </table>\n",
       "        </div>\n",
       "    "
      ],
      "text/plain": [
       "<IPython.core.display.HTML object>"
      ]
     },
     "execution_count": 26,
     "metadata": {},
     "output_type": "execute_result"
    }
   ],
   "source": [
    "%load solutions/alignment_02.py"
   ]
  },
  {
   "cell_type": "markdown",
   "metadata": {},
   "source": [
    "That method is OK, but could be better,\n",
    "\n",
    "1. The output has lost the `DATE` fields, we would need to manually bring those alogn after doing the division\n",
    "2. We had to worry about doing the merge / alignment on data, which is incidental to the problem of calculating real gdp"
   ]
  },
  {
   "cell_type": "markdown",
   "metadata": {
    "collapsed": false
   },
   "source": [
    "## The Better Way\n",
    "\n",
    "Pandas will handle all the fiddly details for alignment for us."
   ]
  },
  {
   "cell_type": "code",
   "execution_count": 93,
   "metadata": {
    "collapsed": false
   },
   "outputs": [
    {
     "data": {
      "text/plain": [
       "DATE\n",
       "1947-01-01    243.1\n",
       "1947-04-01    246.3\n",
       "1947-07-01    250.1\n",
       "1947-10-01    260.3\n",
       "1948-01-01    266.2\n",
       "Name: GDP, dtype: float64"
      ]
     },
     "execution_count": 93,
     "metadata": {},
     "output_type": "execute_result"
    }
   ],
   "source": [
    "# use .squeeze to convert a 1 column df to a Series\n",
    "gdp = pd.read_csv('data/gdp.csv', index_col='DATE', parse_dates=['DATE']).squeeze()\n",
    "gdp.head()"
   ]
  },
  {
   "cell_type": "code",
   "execution_count": 94,
   "metadata": {
    "collapsed": false
   },
   "outputs": [
    {
     "data": {
      "text/plain": [
       "DATE\n",
       "1947-01-01    21.48\n",
       "1947-02-01    21.62\n",
       "1947-03-01    22.00\n",
       "1947-04-01    22.00\n",
       "1947-05-01    21.95\n",
       "Name: CPIAUCSL, dtype: float64"
      ]
     },
     "execution_count": 94,
     "metadata": {},
     "output_type": "execute_result"
    }
   ],
   "source": [
    "cpi = pd.read_csv('data/cpi.csv', index_col='DATE', parse_dates=['DATE']).squeeze()\n",
    "cpi.head()"
   ]
  },
  {
   "cell_type": "markdown",
   "metadata": {},
   "source": [
    "Now when you do the division, pandas will handle the alignemnt."
   ]
  },
  {
   "cell_type": "code",
   "execution_count": 95,
   "metadata": {
    "collapsed": false
   },
   "outputs": [
    {
     "data": {
      "text/plain": [
       "DATE\n",
       "1947-01-01    11.317505\n",
       "1947-02-01          NaN\n",
       "1947-03-01          NaN\n",
       "1947-04-01    11.195455\n",
       "1947-05-01          NaN\n",
       "                ...    \n",
       "2015-01-01          NaN\n",
       "2015-02-01          NaN\n",
       "2015-03-01          NaN\n",
       "2015-04-01          NaN\n",
       "2015-05-01          NaN\n",
       "dtype: float64"
      ]
     },
     "execution_count": 95,
     "metadata": {},
     "output_type": "execute_result"
    }
   ],
   "source": [
    "rgdp = gdp / cpi\n",
    "rgdp"
   ]
  },
  {
   "cell_type": "markdown",
   "metadata": {},
   "source": [
    "You'll notice that a bunch of the values are `NaN`, short for [\"Not A Number\"](https://en.wikipedia.org/wiki/NaN).\n",
    "This is the missing value indicator pandas uses for numeric data.\n",
    "\n",
    "If you look closer, you'll see that there are valid values where the two Series had a common index (the first month of each quarter), and `NaN`s everywhere else.\n",
    "Binary operations like `/`, `+`, ... align by label, inserting `NaN`s where necessary, and then proceed."
   ]
  },
  {
   "cell_type": "code",
   "execution_count": 96,
   "metadata": {
    "collapsed": false
   },
   "outputs": [
    {
     "data": {
      "text/html": [
       "\n",
       "    <div class=\"table-responsive col-md-6\">\n",
       "        <style  type=\"text/css\" >\n",
       "        \n",
       "        \n",
       "        </style>\n",
       "\n",
       "        <table id=\"T_82b74746_ccb2_11e6_bc78_a45e60bd97fb\" style=\"display: float; max-width:50%\" class=\"table\">\n",
       "        \n",
       "\n",
       "        <thead>\n",
       "            \n",
       "            <tr>\n",
       "                \n",
       "                \n",
       "                <th class=\"blank level0\" >\n",
       "                  \n",
       "                \n",
       "                \n",
       "                \n",
       "                <th class=\"col_heading level0 col0\" colspan=1>\n",
       "                  GDP\n",
       "                \n",
       "                \n",
       "            </tr>\n",
       "            \n",
       "            <tr>\n",
       "                \n",
       "                \n",
       "                <th class=\"index_name level0\" >\n",
       "                  DATE\n",
       "                \n",
       "                \n",
       "                \n",
       "                <th class=\"blank\" >\n",
       "                  \n",
       "                \n",
       "                \n",
       "            </tr>\n",
       "            \n",
       "        </thead>\n",
       "        <tbody>\n",
       "            \n",
       "            <tr>\n",
       "                \n",
       "                \n",
       "                <th id=\"T_82b74746_ccb2_11e6_bc78_a45e60bd97fb\"\n",
       "                 class=\"row_heading level0 row0\" rowspan=1>\n",
       "                    1947-01-01 00:00:00\n",
       "                \n",
       "                \n",
       "                \n",
       "                <td id=\"T_82b74746_ccb2_11e6_bc78_a45e60bd97fbrow0_col0\"\n",
       "                 class=\"data row0 col0\" >\n",
       "                    243.1\n",
       "                \n",
       "                \n",
       "            </tr>\n",
       "            \n",
       "            <tr>\n",
       "                \n",
       "                \n",
       "                <th id=\"T_82b74746_ccb2_11e6_bc78_a45e60bd97fb\"\n",
       "                 class=\"row_heading level0 row1\" rowspan=1>\n",
       "                    1947-02-01 00:00:00\n",
       "                \n",
       "                \n",
       "                \n",
       "                <td id=\"T_82b74746_ccb2_11e6_bc78_a45e60bd97fbrow1_col0\"\n",
       "                 class=\"data row1 col0\" >\n",
       "                    nan\n",
       "                \n",
       "                \n",
       "            </tr>\n",
       "            \n",
       "            <tr>\n",
       "                \n",
       "                \n",
       "                <th id=\"T_82b74746_ccb2_11e6_bc78_a45e60bd97fb\"\n",
       "                 class=\"row_heading level0 row2\" rowspan=1>\n",
       "                    1947-03-01 00:00:00\n",
       "                \n",
       "                \n",
       "                \n",
       "                <td id=\"T_82b74746_ccb2_11e6_bc78_a45e60bd97fbrow2_col0\"\n",
       "                 class=\"data row2 col0\" >\n",
       "                    nan\n",
       "                \n",
       "                \n",
       "            </tr>\n",
       "            \n",
       "            <tr>\n",
       "                \n",
       "                \n",
       "                <th id=\"T_82b74746_ccb2_11e6_bc78_a45e60bd97fb\"\n",
       "                 class=\"row_heading level0 row3\" rowspan=1>\n",
       "                    1947-04-01 00:00:00\n",
       "                \n",
       "                \n",
       "                \n",
       "                <td id=\"T_82b74746_ccb2_11e6_bc78_a45e60bd97fbrow3_col0\"\n",
       "                 class=\"data row3 col0\" >\n",
       "                    246.3\n",
       "                \n",
       "                \n",
       "            </tr>\n",
       "            \n",
       "            <tr>\n",
       "                \n",
       "                \n",
       "                <th id=\"T_82b74746_ccb2_11e6_bc78_a45e60bd97fb\"\n",
       "                 class=\"row_heading level0 row4\" rowspan=1>\n",
       "                    1947-05-01 00:00:00\n",
       "                \n",
       "                \n",
       "                \n",
       "                <td id=\"T_82b74746_ccb2_11e6_bc78_a45e60bd97fbrow4_col0\"\n",
       "                 class=\"data row4 col0\" >\n",
       "                    nan\n",
       "                \n",
       "                \n",
       "            </tr>\n",
       "            \n",
       "        </tbody>\n",
       "        </table>\n",
       "        </div>\n",
       "    <div class=\"table-responsive col-md-6\">\n",
       "        <style  type=\"text/css\" >\n",
       "        \n",
       "        \n",
       "        </style>\n",
       "\n",
       "        <table id=\"T_82b7ba46_ccb2_11e6_9a6b_a45e60bd97fb\" style=\"display: float; max-width:50%\" class=\"table\">\n",
       "        \n",
       "\n",
       "        <thead>\n",
       "            \n",
       "            <tr>\n",
       "                \n",
       "                \n",
       "                <th class=\"blank level0\" >\n",
       "                  \n",
       "                \n",
       "                \n",
       "                \n",
       "                <th class=\"col_heading level0 col0\" colspan=1>\n",
       "                  CPIAUCSL\n",
       "                \n",
       "                \n",
       "            </tr>\n",
       "            \n",
       "            <tr>\n",
       "                \n",
       "                \n",
       "                <th class=\"index_name level0\" >\n",
       "                  DATE\n",
       "                \n",
       "                \n",
       "                \n",
       "                <th class=\"blank\" >\n",
       "                  \n",
       "                \n",
       "                \n",
       "            </tr>\n",
       "            \n",
       "        </thead>\n",
       "        <tbody>\n",
       "            \n",
       "            <tr>\n",
       "                \n",
       "                \n",
       "                <th id=\"T_82b7ba46_ccb2_11e6_9a6b_a45e60bd97fb\"\n",
       "                 class=\"row_heading level0 row0\" rowspan=1>\n",
       "                    1947-01-01 00:00:00\n",
       "                \n",
       "                \n",
       "                \n",
       "                <td id=\"T_82b7ba46_ccb2_11e6_9a6b_a45e60bd97fbrow0_col0\"\n",
       "                 class=\"data row0 col0\" >\n",
       "                    21.48\n",
       "                \n",
       "                \n",
       "            </tr>\n",
       "            \n",
       "            <tr>\n",
       "                \n",
       "                \n",
       "                <th id=\"T_82b7ba46_ccb2_11e6_9a6b_a45e60bd97fb\"\n",
       "                 class=\"row_heading level0 row1\" rowspan=1>\n",
       "                    1947-02-01 00:00:00\n",
       "                \n",
       "                \n",
       "                \n",
       "                <td id=\"T_82b7ba46_ccb2_11e6_9a6b_a45e60bd97fbrow1_col0\"\n",
       "                 class=\"data row1 col0\" >\n",
       "                    21.62\n",
       "                \n",
       "                \n",
       "            </tr>\n",
       "            \n",
       "            <tr>\n",
       "                \n",
       "                \n",
       "                <th id=\"T_82b7ba46_ccb2_11e6_9a6b_a45e60bd97fb\"\n",
       "                 class=\"row_heading level0 row2\" rowspan=1>\n",
       "                    1947-03-01 00:00:00\n",
       "                \n",
       "                \n",
       "                \n",
       "                <td id=\"T_82b7ba46_ccb2_11e6_9a6b_a45e60bd97fbrow2_col0\"\n",
       "                 class=\"data row2 col0\" >\n",
       "                    22\n",
       "                \n",
       "                \n",
       "            </tr>\n",
       "            \n",
       "            <tr>\n",
       "                \n",
       "                \n",
       "                <th id=\"T_82b7ba46_ccb2_11e6_9a6b_a45e60bd97fb\"\n",
       "                 class=\"row_heading level0 row3\" rowspan=1>\n",
       "                    1947-04-01 00:00:00\n",
       "                \n",
       "                \n",
       "                \n",
       "                <td id=\"T_82b7ba46_ccb2_11e6_9a6b_a45e60bd97fbrow3_col0\"\n",
       "                 class=\"data row3 col0\" >\n",
       "                    22\n",
       "                \n",
       "                \n",
       "            </tr>\n",
       "            \n",
       "            <tr>\n",
       "                \n",
       "                \n",
       "                <th id=\"T_82b7ba46_ccb2_11e6_9a6b_a45e60bd97fb\"\n",
       "                 class=\"row_heading level0 row4\" rowspan=1>\n",
       "                    1947-05-01 00:00:00\n",
       "                \n",
       "                \n",
       "                \n",
       "                <td id=\"T_82b7ba46_ccb2_11e6_9a6b_a45e60bd97fbrow4_col0\"\n",
       "                 class=\"data row4 col0\" >\n",
       "                    21.95\n",
       "                \n",
       "                \n",
       "            </tr>\n",
       "            \n",
       "        </tbody>\n",
       "        </table>\n",
       "        </div>\n",
       "    "
      ],
      "text/plain": [
       "<IPython.core.display.HTML object>"
      ]
     },
     "execution_count": 96,
     "metadata": {},
     "output_type": "execute_result"
    }
   ],
   "source": [
    "l, r = gdp.align(cpi)\n",
    "side_by_side(l.head(), r.head())"
   ]
  },
  {
   "cell_type": "markdown",
   "metadata": {},
   "source": [
    "`.align` will take the *union* (in the set-theory sense) of the indexes of the two arguments (`gdp` and `cpi`), and then *reindex* them by that unioned index.\n",
    "`reindex`ing is an important concept in pandas.\n",
    "The basic idea is to conform an original `Series` / `DataFrame` to a new `Index`"
   ]
  },
  {
   "cell_type": "code",
   "execution_count": 97,
   "metadata": {
    "collapsed": false
   },
   "outputs": [
    {
     "data": {
      "text/plain": [
       "DatetimeIndex(['1947-01-01', '1947-02-01', '1947-03-01', '1947-04-01',\n",
       "               '1947-05-01', '1947-06-01', '1947-07-01', '1947-08-01',\n",
       "               '1947-09-01', '1947-10-01',\n",
       "               ...\n",
       "               '2014-08-01', '2014-09-01', '2014-10-01', '2014-11-01',\n",
       "               '2014-12-01', '2015-01-01', '2015-02-01', '2015-03-01',\n",
       "               '2015-04-01', '2015-05-01'],\n",
       "              dtype='datetime64[ns]', name='DATE', length=821, freq=None)"
      ]
     },
     "execution_count": 97,
     "metadata": {},
     "output_type": "execute_result"
    }
   ],
   "source": [
    "full_idx = gdp.index | cpi.index  # | is set union on Index\n",
    "full_idx"
   ]
  },
  {
   "cell_type": "code",
   "execution_count": 98,
   "metadata": {
    "collapsed": false
   },
   "outputs": [
    {
     "data": {
      "text/plain": [
       "DATE\n",
       "1947-01-01    243.1\n",
       "1947-02-01      NaN\n",
       "1947-03-01      NaN\n",
       "1947-04-01    246.3\n",
       "1947-05-01      NaN\n",
       "              ...  \n",
       "2015-01-01      NaN\n",
       "2015-02-01      NaN\n",
       "2015-03-01      NaN\n",
       "2015-04-01      NaN\n",
       "2015-05-01      NaN\n",
       "Name: GDP, dtype: float64"
      ]
     },
     "execution_count": 98,
     "metadata": {},
     "output_type": "execute_result"
    }
   ],
   "source": [
    "gdp.reindex(full_idx)"
   ]
  },
  {
   "cell_type": "markdown",
   "metadata": {},
   "source": [
    "Ocassionally, you will do a manual `reindex`, but most of the time it's done in the background when you do an operation.\n",
    "You shouldn't ever need to manually use `.align`, but it is useful to understand what pandas is doing for you."
   ]
  },
  {
   "cell_type": "markdown",
   "metadata": {},
   "source": [
    "### Aside: Handling Missing Data\n",
    "\n",
    "Pandas, recognizing that missing data is a fact of life, has a bunch of methods for detecting handling missing data."
   ]
  },
  {
   "cell_type": "code",
   "execution_count": 99,
   "metadata": {
    "collapsed": false
   },
   "outputs": [],
   "source": [
    "# detect with `isnull` and `notnull`"
   ]
  },
  {
   "cell_type": "code",
   "execution_count": 100,
   "metadata": {
    "collapsed": false
   },
   "outputs": [
    {
     "data": {
      "text/plain": [
       "DATE\n",
       "1947-01-01    False\n",
       "1947-02-01     True\n",
       "1947-03-01     True\n",
       "1947-04-01    False\n",
       "1947-05-01     True\n",
       "dtype: bool"
      ]
     },
     "execution_count": 100,
     "metadata": {},
     "output_type": "execute_result"
    }
   ],
   "source": [
    "rgdp.isnull().head()"
   ]
  },
  {
   "cell_type": "code",
   "execution_count": 101,
   "metadata": {
    "collapsed": false
   },
   "outputs": [
    {
     "data": {
      "text/plain": [
       "DATE\n",
       "1947-01-01     True\n",
       "1947-02-01    False\n",
       "1947-03-01    False\n",
       "1947-04-01     True\n",
       "1947-05-01    False\n",
       "dtype: bool"
      ]
     },
     "execution_count": 101,
     "metadata": {},
     "output_type": "execute_result"
    }
   ],
   "source": [
    "rgdp.notnull().head()"
   ]
  },
  {
   "cell_type": "markdown",
   "metadata": {},
   "source": [
    "These are often useful as masks for boolean indexing:"
   ]
  },
  {
   "cell_type": "code",
   "execution_count": 102,
   "metadata": {
    "collapsed": false
   },
   "outputs": [
    {
     "data": {
      "text/plain": [
       "DATE\n",
       "1947-01-01    11.317505\n",
       "1947-04-01    11.195455\n",
       "1947-07-01    11.250562\n",
       "1947-10-01    11.361851\n",
       "1948-01-01    11.241554\n",
       "dtype: float64"
      ]
     },
     "execution_count": 102,
     "metadata": {},
     "output_type": "execute_result"
    }
   ],
   "source": [
    "rgdp[rgdp.notnull()].head()"
   ]
  },
  {
   "cell_type": "markdown",
   "metadata": {},
   "source": [
    "You can drop missing values with `.dropna`"
   ]
  },
  {
   "cell_type": "code",
   "execution_count": 103,
   "metadata": {
    "collapsed": false
   },
   "outputs": [
    {
     "data": {
      "text/plain": [
       "DATE\n",
       "1947-01-01    11.317505\n",
       "1947-04-01    11.195455\n",
       "1947-07-01    11.250562\n",
       "1947-10-01    11.361851\n",
       "1948-01-01    11.241554\n",
       "                ...    \n",
       "2013-01-01    71.124715\n",
       "2013-04-01    71.343420\n",
       "2013-07-01    71.962930\n",
       "2013-10-01    72.711603\n",
       "2014-01-01    72.313495\n",
       "dtype: float64"
      ]
     },
     "execution_count": 103,
     "metadata": {},
     "output_type": "execute_result"
    }
   ],
   "source": [
    "rgdp.dropna()"
   ]
  },
  {
   "cell_type": "markdown",
   "metadata": {},
   "source": [
    "Almost all pandas methods return a new Series or DataFrame, and do not mutate data inplace."
   ]
  },
  {
   "cell_type": "code",
   "execution_count": 104,
   "metadata": {
    "collapsed": false
   },
   "outputs": [
    {
     "data": {
      "text/plain": [
       "DATE\n",
       "1947-01-01    11.317505\n",
       "1947-02-01          NaN\n",
       "1947-03-01          NaN\n",
       "1947-04-01    11.195455\n",
       "1947-05-01          NaN\n",
       "dtype: float64"
      ]
     },
     "execution_count": 104,
     "metadata": {},
     "output_type": "execute_result"
    }
   ],
   "source": [
    "rgdp.head()"
   ]
  },
  {
   "cell_type": "markdown",
   "metadata": {},
   "source": [
    "To make the change stick, you can assign the output to a new variable (or re-assign it to `rgdp`."
   ]
  },
  {
   "cell_type": "markdown",
   "metadata": {},
   "source": [
    "There's also `fillna` to fill missing values, either with a value (which can be a scalar or array) or a method like `ffill` to fill-foward the last-observed value."
   ]
  },
  {
   "cell_type": "code",
   "execution_count": 106,
   "metadata": {
    "collapsed": false
   },
   "outputs": [
    {
     "data": {
      "image/png": "[encoded data removed]",
      "text/plain": [
       "<matplotlib.figure.Figure at 0x113aaac50>"
      ]
     },
     "metadata": {},
     "output_type": "display_data"
    }
   ],
   "source": [
    "rgdp.fillna(method='ffill').plot()\n",
    "sns.despine()"
   ]
  },
  {
   "cell_type": "code",
   "execution_count": 107,
   "metadata": {
    "collapsed": false
   },
   "outputs": [
    {
     "data": {
      "image/png": "[encoded data removed]",
      "text/plain": [
       "<matplotlib.figure.Figure at 0x113821cc0>"
      ]
     },
     "metadata": {},
     "output_type": "display_data"
    }
   ],
   "source": [
    "rgdp.dropna().plot()\n",
    "sns.despine();"
   ]
  },
  {
   "cell_type": "code",
   "execution_count": 130,
   "metadata": {
    "collapsed": false
   },
   "outputs": [
    {
     "data": {
      "text/plain": [
       "100.01666666666667"
      ]
     },
     "execution_count": 130,
     "metadata": {},
     "output_type": "execute_result"
    }
   ],
   "source": [
    "cpi.loc['1982':'1984']"
   ]
  },
  {
   "cell_type": "code",
   "execution_count": 112,
   "metadata": {
    "collapsed": false
   },
   "outputs": [
    {
     "data": {
      "text/plain": [
       "<matplotlib.axes._subplots.AxesSubplot at 0x113b6ab70>"
      ]
     },
     "execution_count": 112,
     "metadata": {},
     "output_type": "execute_result"
    },
    {
     "data": {
      "image/png": "[encoded data removed]",
      "text/plain": [
       "<matplotlib.figure.Figure at 0x1047e42e8>"
      ]
     },
     "metadata": {},
     "output_type": "display_data"
    }
   ],
   "source": [
    "cpi.plot()"
   ]
  },
  {
   "cell_type": "markdown",
   "metadata": {},
   "source": [
    "<div class=\"alert alert-success\">\n",
    "  <h1><i class=\"fa fa-tasks\" aria-hidden=\"true\"></i> Exercise</h1>\n",
    "</div>\n",
    "\n",
    "You'll hear real GDP reported in '2009 dollars', or '2005 dollars'.\n",
    "The deflator (CPI in our case) is an index, and doesn't really have units.\n",
    "Some time span is chosen to be the base and set equal to 100. Every other observation is relative to it.\n",
    "\n",
    "For the exercise, compute real-gdp in 2009 dollars.\n",
    "\n",
    "- Step 1: Convert CPI from base 1982-1984, to base 2009; Create a new series `cpi09` where the average value for 2009 is 100\n",
    "- Step 2: Divide `gdp` by the result from Step 1\n",
    "- Hint: Use [partial string indexing](http://pandas.pydata.org/pandas-docs/stable/timeseries.html#datetimeindex-partial-string-indexing) to slice the values for just 2009"
   ]
  },
  {
   "cell_type": "code",
   "execution_count": 139,
   "metadata": {
    "collapsed": false
   },
   "outputs": [
    {
     "data": {
      "text/plain": [
       "DATE\n",
       "1947-01-01     24.283366\n",
       "1947-04-01     24.021490\n",
       "1947-07-01     24.139732\n",
       "1947-10-01     24.378517\n",
       "1948-01-01     24.120403\n",
       "                 ...    \n",
       "2013-01-01    152.608507\n",
       "2013-04-01    153.077771\n",
       "2013-07-01    154.407021\n",
       "2013-10-01    156.013408\n",
       "2014-01-01    155.159209\n",
       "dtype: float64"
      ]
     },
     "execution_count": 139,
     "metadata": {},
     "output_type": "execute_result"
    }
   ],
   "source": [
    "cpi09 = cpi / cpi.loc['2009'].mean() * 100\n",
    "(gdp / cpi09).dropna()"
   ]
  },
  {
   "cell_type": "markdown",
   "metadata": {},
   "source": [
    "## Joining Pandas Objects"
   ]
  },
  {
   "cell_type": "markdown",
   "metadata": {},
   "source": [
    "You'll run into problems where you have multiple `Series` or `DataFrame`s, that you want to join into a single `DataFrame`.\n",
    "We saw an example of this earlier, but let's follow it up as a pair of exercises.\n",
    "\n",
    "There are two main waits to do this\n",
    "\n",
    "1. `pd.merge`: SQL-style joins\n",
    "2. `pd.concat`: array-style joins"
   ]
  },
  {
   "cell_type": "markdown",
   "metadata": {},
   "source": [
    "<div class=\"alert alert-success\">\n",
    "  <h1><i class=\"fa fa-tasks\" aria-hidden=\"true\"></i> Exercise</h1>\n",
    "</div>\n",
    "\n",
    "Use [`pd.merge`](http://pandas.pydata.org/pandas-docs/stable/generated/pandas.merge.html) to join the two DataFrames `gdp_bad` and `cpi_bad`, using an *outer* join (earlier we used an *inner* join).\n",
    "\n",
    "- Hint: You may want to sort by date afterward (see [`DataFrame.sort_values`](http://pandas.pydata.org/pandas-docs/stable/generated/pandas.DataFrame.sort_values.html))"
   ]
  },
  {
   "cell_type": "code",
   "execution_count": 140,
   "metadata": {
    "collapsed": false
   },
   "outputs": [
    {
     "data": {
      "text/html": [
       "<div>\n",
       "<table border=\"1\" class=\"dataframe\">\n",
       "  <thead>\n",
       "    <tr style=\"text-align: right;\">\n",
       "      <th></th>\n",
       "      <th>DATE</th>\n",
       "      <th>GDP</th>\n",
       "      <th>CPIAUCSL</th>\n",
       "    </tr>\n",
       "  </thead>\n",
       "  <tbody>\n",
       "    <tr>\n",
       "      <th>0</th>\n",
       "      <td>1947-01-01</td>\n",
       "      <td>243.1</td>\n",
       "      <td>21.480</td>\n",
       "    </tr>\n",
       "    <tr>\n",
       "      <th>269</th>\n",
       "      <td>1947-02-01</td>\n",
       "      <td>NaN</td>\n",
       "      <td>21.620</td>\n",
       "    </tr>\n",
       "    <tr>\n",
       "      <th>270</th>\n",
       "      <td>1947-03-01</td>\n",
       "      <td>NaN</td>\n",
       "      <td>22.000</td>\n",
       "    </tr>\n",
       "    <tr>\n",
       "      <th>1</th>\n",
       "      <td>1947-04-01</td>\n",
       "      <td>246.3</td>\n",
       "      <td>22.000</td>\n",
       "    </tr>\n",
       "    <tr>\n",
       "      <th>271</th>\n",
       "      <td>1947-05-01</td>\n",
       "      <td>NaN</td>\n",
       "      <td>21.950</td>\n",
       "    </tr>\n",
       "    <tr>\n",
       "      <th>...</th>\n",
       "      <td>...</td>\n",
       "      <td>...</td>\n",
       "      <td>...</td>\n",
       "    </tr>\n",
       "    <tr>\n",
       "      <th>816</th>\n",
       "      <td>2015-01-01</td>\n",
       "      <td>NaN</td>\n",
       "      <td>234.954</td>\n",
       "    </tr>\n",
       "    <tr>\n",
       "      <th>817</th>\n",
       "      <td>2015-02-01</td>\n",
       "      <td>NaN</td>\n",
       "      <td>235.415</td>\n",
       "    </tr>\n",
       "    <tr>\n",
       "      <th>818</th>\n",
       "      <td>2015-03-01</td>\n",
       "      <td>NaN</td>\n",
       "      <td>235.859</td>\n",
       "    </tr>\n",
       "    <tr>\n",
       "      <th>819</th>\n",
       "      <td>2015-04-01</td>\n",
       "      <td>NaN</td>\n",
       "      <td>236.197</td>\n",
       "    </tr>\n",
       "    <tr>\n",
       "      <th>820</th>\n",
       "      <td>2015-05-01</td>\n",
       "      <td>NaN</td>\n",
       "      <td>236.876</td>\n",
       "    </tr>\n",
       "  </tbody>\n",
       "</table>\n",
       "<p>821 rows × 3 columns</p>\n",
       "</div>"
      ],
      "text/plain": [
       "          DATE    GDP  CPIAUCSL\n",
       "0   1947-01-01  243.1    21.480\n",
       "269 1947-02-01    NaN    21.620\n",
       "270 1947-03-01    NaN    22.000\n",
       "1   1947-04-01  246.3    22.000\n",
       "271 1947-05-01    NaN    21.950\n",
       "..         ...    ...       ...\n",
       "816 2015-01-01    NaN   234.954\n",
       "817 2015-02-01    NaN   235.415\n",
       "818 2015-03-01    NaN   235.859\n",
       "819 2015-04-01    NaN   236.197\n",
       "820 2015-05-01    NaN   236.876\n",
       "\n",
       "[821 rows x 3 columns]"
      ]
     },
     "execution_count": 140,
     "metadata": {},
     "output_type": "execute_result"
    }
   ],
   "source": [
    "# TODO: solution\n",
    "pd.merge(gdp_bad, cpi_bad, on=\"DATE\", how='outer').sort_values(\"DATE\")"
   ]
  },
  {
   "cell_type": "markdown",
   "metadata": {},
   "source": [
    "<div class=\"alert alert-success\">\n",
    "  <h1><i class=\"fa fa-tasks\" aria-hidden=\"true\"></i> Exercise</h1>\n",
    "</div>\n",
    "\n",
    "Use `concat` to stick together `gdp` and `cpi` into a DataFrame"
   ]
  },
  {
   "cell_type": "code",
   "execution_count": 141,
   "metadata": {
    "collapsed": false
   },
   "outputs": [],
   "source": [
    "# TODO: followup on merge now that we've discussed alignemnt,\n",
    "# expand concat"
   ]
  },
  {
   "cell_type": "code",
   "execution_count": 142,
   "metadata": {
    "collapsed": false
   },
   "outputs": [
    {
     "data": {
      "text/html": [
       "<div>\n",
       "<table border=\"1\" class=\"dataframe\">\n",
       "  <thead>\n",
       "    <tr style=\"text-align: right;\">\n",
       "      <th></th>\n",
       "      <th>GDP</th>\n",
       "      <th>CPIAUCSL</th>\n",
       "    </tr>\n",
       "    <tr>\n",
       "      <th>DATE</th>\n",
       "      <th></th>\n",
       "      <th></th>\n",
       "    </tr>\n",
       "  </thead>\n",
       "  <tbody>\n",
       "    <tr>\n",
       "      <th>1947-01-01</th>\n",
       "      <td>243.1</td>\n",
       "      <td>21.480</td>\n",
       "    </tr>\n",
       "    <tr>\n",
       "      <th>1947-02-01</th>\n",
       "      <td>NaN</td>\n",
       "      <td>21.620</td>\n",
       "    </tr>\n",
       "    <tr>\n",
       "      <th>1947-03-01</th>\n",
       "      <td>NaN</td>\n",
       "      <td>22.000</td>\n",
       "    </tr>\n",
       "    <tr>\n",
       "      <th>1947-04-01</th>\n",
       "      <td>246.3</td>\n",
       "      <td>22.000</td>\n",
       "    </tr>\n",
       "    <tr>\n",
       "      <th>1947-05-01</th>\n",
       "      <td>NaN</td>\n",
       "      <td>21.950</td>\n",
       "    </tr>\n",
       "    <tr>\n",
       "      <th>...</th>\n",
       "      <td>...</td>\n",
       "      <td>...</td>\n",
       "    </tr>\n",
       "    <tr>\n",
       "      <th>2015-01-01</th>\n",
       "      <td>NaN</td>\n",
       "      <td>234.954</td>\n",
       "    </tr>\n",
       "    <tr>\n",
       "      <th>2015-02-01</th>\n",
       "      <td>NaN</td>\n",
       "      <td>235.415</td>\n",
       "    </tr>\n",
       "    <tr>\n",
       "      <th>2015-03-01</th>\n",
       "      <td>NaN</td>\n",
       "      <td>235.859</td>\n",
       "    </tr>\n",
       "    <tr>\n",
       "      <th>2015-04-01</th>\n",
       "      <td>NaN</td>\n",
       "      <td>236.197</td>\n",
       "    </tr>\n",
       "    <tr>\n",
       "      <th>2015-05-01</th>\n",
       "      <td>NaN</td>\n",
       "      <td>236.876</td>\n",
       "    </tr>\n",
       "  </tbody>\n",
       "</table>\n",
       "<p>821 rows × 2 columns</p>\n",
       "</div>"
      ],
      "text/plain": [
       "              GDP  CPIAUCSL\n",
       "DATE                       \n",
       "1947-01-01  243.1    21.480\n",
       "1947-02-01    NaN    21.620\n",
       "1947-03-01    NaN    22.000\n",
       "1947-04-01  246.3    22.000\n",
       "1947-05-01    NaN    21.950\n",
       "...           ...       ...\n",
       "2015-01-01    NaN   234.954\n",
       "2015-02-01    NaN   235.415\n",
       "2015-03-01    NaN   235.859\n",
       "2015-04-01    NaN   236.197\n",
       "2015-05-01    NaN   236.876\n",
       "\n",
       "[821 rows x 2 columns]"
      ]
     },
     "execution_count": 142,
     "metadata": {},
     "output_type": "execute_result"
    }
   ],
   "source": [
    "# TODO: Solution\n",
    "pd.concat([gdp, cpi], axis='columns')"
   ]
  },
  {
   "cell_type": "markdown",
   "metadata": {},
   "source": [
    "When to use `merge` vs. `concat`?\n",
    "My general rule is to use `concat` when you have two or more Series/DataFrames with an already aligned index.\n",
    "I use `pd.merge` when doing data-base style joins that could be one-to-one, one-to-many, or many-to-many."
   ]
  },
  {
   "cell_type": "markdown",
   "metadata": {},
   "source": [
    "<div class=\"alert alert-success\">\n",
    "  <h1><i class=\"fa fa-tasks\" aria-hidden=\"true\"></i> Exercise</h1>\n",
    "</div>\n",
    "\n",
    "\n",
    "During the housing bubble and financial crisis, [CalculatedRisk](http://www.calculatedriskblog.com) was one of the best places for information on the internet. Let's reproduce one of his charts:"
   ]
  },
  {
   "cell_type": "code",
   "execution_count": 143,
   "metadata": {
    "collapsed": false
   },
   "outputs": [
    {
     "data": {
      "text/html": [
       "<img src=\"http://1.bp.blogspot.com/-Q60opady2iQ/VNoeGepLMWI/AAAAAAAAiQc/PCA1LfFJFCg/s1600/JOLTSDec2014.PNG\"/>"
      ],
      "text/plain": [
       "<IPython.core.display.Image object>"
      ]
     },
     "execution_count": 143,
     "metadata": {},
     "output_type": "execute_result"
    }
   ],
   "source": [
    "display.Image(url='http://1.bp.blogspot.com/-Q60opady2iQ/VNoeGepLMWI/AAAAAAAAiQc/PCA1LfFJFCg/s1600/JOLTSDec2014.PNG')"
   ]
  },
  {
   "cell_type": "markdown",
   "metadata": {},
   "source": [
    "This shows the components of turnover in the labor market. People leave jobs for two reasons:\n",
    "\n",
    "1. Quits (light blue) or\n",
    "2. Layoffs, discharges, or other (red).\n",
    "\n",
    "Companies post job openings (yellow) and fill some number of those (Blue).\n",
    "The difference between the openings and hires represents the change in the stock of open positions, and measures the slackness of the labor market.\n",
    "The difference between the Hires and the sum of Quites and Layoffs / Discharges represents the change in the employed labor force (though the unemployment rate is calculated differently).\n",
    "\n",
    "To get you started, the FRED series codes are\n",
    "\n",
    "- JTSJOL: Openings\n",
    "- JTSQUL: Quits\n",
    "- JTSHIL: Hires\n",
    "- JTSLDL: Layoffs\n",
    "\n",
    "Use the `pandas_datareader.data.DataReader` class, which accepts a list of symbols, and a data_source (`'fred'`).\n",
    "As a hint, you can use pandas' `.plot.area()` method for the Quits and Layoffs series. That handles all the stacking for you."
   ]
  },
  {
   "cell_type": "code",
   "execution_count": 144,
   "metadata": {
    "collapsed": true
   },
   "outputs": [],
   "source": [
    "from pandas_datareader.data import DataReader\n",
    "\n",
    "series = ['JTSJOL', 'JTSQUL', 'JTSHIL', 'JTSLDL']\n",
    "names = ['openings', 'quits', 'hires', 'layoffs']\n",
    "\n",
    "colors = {'quits': '#52b5ea', 'layoffs': '#d32c2c',\n",
    "          'hires': '#2531db', 'openings': '#fffb49'}\n",
    "\n",
    "area_colors = [colors['quits'], colors['layoffs']]\n",
    "line_colors = [colors['hires'], colors['openings']]"
   ]
  },
  {
   "cell_type": "code",
   "execution_count": 145,
   "metadata": {
    "collapsed": false
   },
   "outputs": [],
   "source": [
    "# %load solutions/alignment_03.py\n"
   ]
  },
  {
   "cell_type": "markdown",
   "metadata": {},
   "source": [
    "If you finish that, feel free to poke around [FRED](https://fred.stlouisfed.org) for more interesting series."
   ]
  },
  {
   "cell_type": "markdown",
   "metadata": {},
   "source": [
    "## Summary\n",
    "\n",
    "Use alignment to make things easier on yourself.\n",
    "Highlights one of the biggest difference between NumPy and pandas.\n",
    "With NumPy, it was up to *you* to align things *by position*.\n",
    "If you're deep in the middle of a complicated filtering and grouping\n",
    "operation, you have to hope you haven't messed anything up. You could\n",
    "easily end up in a situation where the output looks sensible, but has\n",
    "been misaligned."
   ]
  }
 ],
 "metadata": {
  "kernelspec": {
   "display_name": "ph2t",
   "language": "python",
   "name": "ph2t"
  },
  "language_info": {
   "codemirror_mode": {
    "name": "ipython",
    "version": 3
   },
   "file_extension": ".py",
   "mimetype": "text/x-python",
   "name": "python",
   "nbconvert_exporter": "python",
   "pygments_lexer": "ipython3",
   "version": "3.5.2"
  }
 },
 "nbformat": 4,
 "nbformat_minor": 0
}
